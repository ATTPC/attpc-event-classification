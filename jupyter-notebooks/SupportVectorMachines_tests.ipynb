{
 "cells": [
  {
   "cell_type": "code",
   "execution_count": 1,
   "metadata": {
    "collapsed": true
   },
   "outputs": [],
   "source": [
    "%matplotlib inline"
   ]
  },
  {
   "cell_type": "code",
   "execution_count": 2,
   "metadata": {
    "collapsed": true
   },
   "outputs": [],
   "source": [
    "import matplotlib.pyplot as plt\n",
    "\n",
    "import scipy as sp\n",
    "import numpy as np\n",
    "\n",
    "from sklearn.model_selection import train_test_split\n",
    "from sklearn import svm\n",
    "from sklearn import utils\n",
    "from sklearn import metrics"
   ]
  },
  {
   "cell_type": "code",
   "execution_count": null,
   "metadata": {
    "collapsed": true
   },
   "outputs": [],
   "source": []
  },
  {
   "cell_type": "markdown",
   "metadata": {},
   "source": [
    "# Testing OneClassSVM"
   ]
  },
  {
   "cell_type": "markdown",
   "metadata": {},
   "source": [
    "# Tests with Simulated Data"
   ]
  },
  {
   "cell_type": "code",
   "execution_count": 3,
   "metadata": {
    "collapsed": true
   },
   "outputs": [],
   "source": [
    "#unsupervised outlier detection\n",
    "#anomaly detection\n",
    "#train only on protons"
   ]
  },
  {
   "cell_type": "code",
   "execution_count": 4,
   "metadata": {
    "collapsed": true
   },
   "outputs": [],
   "source": [
    "p_data = sp.sparse.load_npz('../data/tilt/20x20x20/pDisc_40000_20x20x20_tilt_largeEvts.npz')\n",
    "p_labels = np.ones((p_data.shape[0],))"
   ]
  },
  {
   "cell_type": "code",
   "execution_count": 5,
   "metadata": {
    "collapsed": true
   },
   "outputs": [],
   "source": [
    "p_train, p_test, p_labels_train, p_labels_test = train_test_split(p_data, p_labels, test_size=0.25, random_state=42)"
   ]
  },
  {
   "cell_type": "code",
   "execution_count": 6,
   "metadata": {
    "collapsed": true
   },
   "outputs": [],
   "source": [
    "#import carbon and noise for test\n",
    "C_data = sp.sparse.load_npz('../data/tilt/20x20x20/CDisc_40000_20x20x20_tilt_largeEvts.npz')\n",
    "noise_data = sp.sparse.load_npz('../data/tilt/20x20x20/noiseDisc_40000_20x20x20.npz')"
   ]
  },
  {
   "cell_type": "code",
   "execution_count": 7,
   "metadata": {},
   "outputs": [
    {
     "name": "stdout",
     "output_type": "stream",
     "text": [
      "(40001, 8000)\n",
      "(40000, 8000)\n",
      "(10000, 8000)\n",
      "(10000, 8000)\n"
     ]
    }
   ],
   "source": [
    "print(C_data.shape)\n",
    "print(noise_data.shape)\n",
    "\n",
    "C_test = C_data[0:10000]\n",
    "noise_test  = noise_data[0:10000]\n",
    "\n",
    "print(C_test.shape)\n",
    "print(noise_test.shape)"
   ]
  },
  {
   "cell_type": "code",
   "execution_count": 8,
   "metadata": {},
   "outputs": [
    {
     "name": "stdout",
     "output_type": "stream",
     "text": [
      "(30001, 8000)\n"
     ]
    }
   ],
   "source": [
    "full_test = sp.sparse.vstack([p_test, C_test, noise_test], format='csr')\n",
    "print(full_test.shape)\n",
    "\n",
    "full_labels = np.hstack((p_labels_test, np.negative(np.ones(C_test.shape[0])), np.negative(np.ones(noise_test.shape[0]))))\n",
    "\n",
    "full_charLabels = ['p']*p_test.shape[0] + ['c']*C_test.shape[0] + ['n']*noise_test.shape[0]\n",
    "\n",
    "full_test, full_labels, full_charLabels = utils.shuffle(full_test, full_labels, full_charLabels)"
   ]
  },
  {
   "cell_type": "code",
   "execution_count": 9,
   "metadata": {},
   "outputs": [
    {
     "data": {
      "text/plain": [
       "OneClassSVM(cache_size=200, coef0=0.0, degree=3, gamma='auto',\n",
       "      kernel='linear', max_iter=-1, nu=0.05, random_state=None,\n",
       "      shrinking=True, tol=0.001, verbose=False)"
      ]
     },
     "execution_count": 9,
     "metadata": {},
     "output_type": "execute_result"
    }
   ],
   "source": [
    "clf = svm.OneClassSVM(nu=0.08, kernel='linear')\n",
    "clf.fit(p_train[0:-1])"
   ]
  },
  {
   "cell_type": "code",
   "execution_count": 10,
   "metadata": {
    "collapsed": true
   },
   "outputs": [],
   "source": [
    "subset_size = -1"
   ]
  },
  {
   "cell_type": "code",
   "execution_count": 11,
   "metadata": {
    "collapsed": true
   },
   "outputs": [],
   "source": [
    "y_pred_train = clf.predict(p_train[0:subset_size]) \n",
    "y_pred_test = clf.predict(full_test)"
   ]
  },
  {
   "cell_type": "code",
   "execution_count": 12,
   "metadata": {},
   "outputs": [
    {
     "name": "stdout",
     "output_type": "stream",
     "text": [
      "             precision    recall  f1-score   support\n",
      "\n",
      "       -1.0       0.71      0.07      0.13     20000\n",
      "        1.0       0.34      0.94      0.50     10001\n",
      "\n",
      "avg / total       0.58      0.36      0.25     30001\n",
      "\n",
      "[[ 1384 18616]\n",
      " [  577  9424]]\n"
     ]
    }
   ],
   "source": [
    "print(metrics.classification_report(full_labels, y_pred_test))\n",
    "print(metrics.confusion_matrix(full_labels, y_pred_test))"
   ]
  },
  {
   "cell_type": "code",
   "execution_count": 13,
   "metadata": {},
   "outputs": [
    {
     "name": "stdout",
     "output_type": "stream",
     "text": [
      "f1-score with proton training data: 0.9741125777990561\n",
      "f1-score with mixed proton/carbon/noise test data: 0.49546541889014484\n"
     ]
    }
   ],
   "source": [
    "print(\"f1-score with proton training data: \" + str(metrics.f1_score(p_labels_train[0:subset_size], y_pred_train)))\n",
    "print(\"f1-score with mixed proton/carbon/noise test data: \" + str(metrics.f1_score(full_labels, y_pred_test)))"
   ]
  },
  {
   "cell_type": "code",
   "execution_count": 14,
   "metadata": {
    "collapsed": true
   },
   "outputs": [],
   "source": [
    "n_test_p = p_test.shape[0]\n",
    "n_test_C = C_test.shape[0]\n",
    "n_test_noise = noise_test.shape[0]\n",
    "\n",
    "p_correct = 0              #protons predicted correctly (1)\n",
    "C_correct = 0              #carbons predicted correctly (-1)\n",
    "noise_correct = 0          #noise events predicted correctly = (-1)\n",
    "\n",
    "for i in range(len(y_pred_test)):\n",
    "    #if prediction was correct\n",
    "    if(full_labels[i] == y_pred_test[i]):\n",
    "        if (full_charLabels[i] == 'p'):\n",
    "            p_correct += 1\n",
    "        elif (full_charLabels[i] == 'c'):\n",
    "            C_correct += 1\n",
    "        elif (full_charLabels[i] == 'n'):\n",
    "            noise_correct += 1"
   ]
  },
  {
   "cell_type": "code",
   "execution_count": 15,
   "metadata": {},
   "outputs": [
    {
     "name": "stdout",
     "output_type": "stream",
     "text": [
      "Proton accuracy: 94.23%\n",
      "Carbon accuracy: 0.08%\n",
      "Noise event accuracy: 13.76%\n"
     ]
    }
   ],
   "source": [
    "print(\"Proton accuracy: %.2f%%\" % ((p_correct/n_test_p)*100))\n",
    "print(\"Carbon accuracy: %.2f%%\" % ((C_correct/n_test_C)*100))\n",
    "print(\"Noise event accuracy: %.2f%%\" % ((noise_correct/n_test_noise)*100))"
   ]
  },
  {
   "cell_type": "code",
   "execution_count": 16,
   "metadata": {
    "scrolled": true
   },
   "outputs": [
    {
     "name": "stdout",
     "output_type": "stream",
     "text": [
      "protons correct = 9424   | protons incorrect = 577\n",
      "carbons correct = 8   | carbons incorrect = 9992\n",
      "noise   correct = 1376    | noise incorrect = 8624\n",
      "[[ 1384 18616]\n",
      " [  577  9424]]\n"
     ]
    }
   ],
   "source": [
    "print(\"protons correct = \" + str(p_correct) + \"   | protons incorrect = \" + str(n_test_p-p_correct) )\n",
    "print(\"carbons correct = \" + str(C_correct) + \"   | carbons incorrect = \" + str(n_test_C-C_correct) )\n",
    "print(\"noise   correct = \" + str(noise_correct) + \"    | noise incorrect = \" + str(n_test_noise-noise_correct) )\n",
    "\n",
    "print(metrics.confusion_matrix(full_labels, y_pred_test))"
   ]
  },
  {
   "cell_type": "code",
   "execution_count": null,
   "metadata": {
    "collapsed": true
   },
   "outputs": [],
   "source": []
  },
  {
   "cell_type": "markdown",
   "metadata": {},
   "source": [
    "# Tests with Real Data"
   ]
  },
  {
   "cell_type": "code",
   "execution_count": 18,
   "metadata": {},
   "outputs": [],
   "source": [
    "#loading real data\n",
    "p_0130 = sp.sparse.load_npz('../data/real/20x20x20/run_0130_pDisc.npz')\n",
    "C_0130 = sp.sparse.load_npz('../data/real/20x20x20/run_0130_CDisc.npz')\n",
    "junk_0130 = sp.sparse.load_npz('../data/real/20x20x20/run_0130_junkDisc.npz')\n",
    "p_0210 = sp.sparse.load_npz('../data/real/20x20x20/run_0210_pDisc.npz')\n",
    "C_0210 = sp.sparse.load_npz('../data/real/20x20x20/run_0210_CDisc.npz')\n",
    "junk_0210 = sp.sparse.load_npz('../data/real/20x20x20/run_0210_junkDisc.npz')\n",
    "\n",
    "p_real = sp.sparse.vstack([p_0130, p_0210], format='csr')\n",
    "C_real = sp.sparse.vstack([C_0130, C_0210], format='csr')\n",
    "junk_real = sp.sparse.vstack([junk_0130, junk_0210], format='csr')"
   ]
  },
  {
   "cell_type": "code",
   "execution_count": 19,
   "metadata": {
    "collapsed": true
   },
   "outputs": [],
   "source": [
    "p_real_labels = np.ones((p_real.shape[0],))\n",
    "C_real_labels = np.negative(np.ones((C_real.shape[0],)))\n",
    "junk_real_labels = np.negative(np.ones((junk_real.shape[0],)))"
   ]
  },
  {
   "cell_type": "code",
   "execution_count": 20,
   "metadata": {
    "collapsed": true
   },
   "outputs": [],
   "source": [
    "p_real_train, p_real_test, p_real_labels_train, p_real_labels_test = train_test_split(p_real, p_real_labels, test_size=0.25, random_state=42)"
   ]
  },
  {
   "cell_type": "code",
   "execution_count": 28,
   "metadata": {},
   "outputs": [],
   "source": [
    "real_test = sp.sparse.vstack([p_real_test, C_real, junk_real], format='csr')\n",
    "real_test_labels = np.hstack((p_real_labels_test, C_real_labels, junk_real_labels))"
   ]
  },
  {
   "cell_type": "code",
   "execution_count": 29,
   "metadata": {},
   "outputs": [
    {
     "data": {
      "text/plain": [
       "OneClassSVM(cache_size=200, coef0=0.0, degree=3, gamma='auto',\n",
       "      kernel='linear', max_iter=-1, nu=0.08, random_state=None,\n",
       "      shrinking=True, tol=0.001, verbose=False)"
      ]
     },
     "execution_count": 29,
     "metadata": {},
     "output_type": "execute_result"
    }
   ],
   "source": [
    "clf_real = svm.OneClassSVM(nu=0.08, kernel='linear')\n",
    "clf_real.fit(p_real_train)"
   ]
  },
  {
   "cell_type": "code",
   "execution_count": 30,
   "metadata": {
    "collapsed": true
   },
   "outputs": [],
   "source": [
    "y_real_pred = clf_real.predict(real_test)"
   ]
  },
  {
   "cell_type": "code",
   "execution_count": 31,
   "metadata": {},
   "outputs": [
    {
     "name": "stdout",
     "output_type": "stream",
     "text": [
      "             precision    recall  f1-score   support\n",
      "\n",
      "       -1.0       0.95      0.42      0.58      2026\n",
      "        1.0       0.09      0.72      0.16       166\n",
      "\n",
      "avg / total       0.88      0.44      0.55      2192\n",
      "\n",
      "[[ 853 1173]\n",
      " [  47  119]]\n"
     ]
    }
   ],
   "source": [
    "print(metrics.classification_report(real_test_labels, y_real_pred))\n",
    "print(metrics.confusion_matrix(real_test_labels, y_real_pred))"
   ]
  },
  {
   "cell_type": "markdown",
   "metadata": {},
   "source": [
    "# Tests with Transfer Learning"
   ]
  },
  {
   "cell_type": "code",
   "execution_count": 34,
   "metadata": {},
   "outputs": [
    {
     "name": "stdout",
     "output_type": "stream",
     "text": [
      "(2689, 8000)\n",
      "(2689,)\n"
     ]
    }
   ],
   "source": [
    "real_full = sp.sparse.vstack([p_real, C_real, junk_real], format='csr')\n",
    "real_full_labels = np.hstack((p_real_labels, C_real_labels, junk_real_labels))\n",
    "print(real_full.shape)\n",
    "print(real_full_labels.shape)"
   ]
  },
  {
   "cell_type": "code",
   "execution_count": 35,
   "metadata": {},
   "outputs": [
    {
     "data": {
      "text/plain": [
       "OneClassSVM(cache_size=200, coef0=0.0, degree=3, gamma='auto',\n",
       "      kernel='linear', max_iter=-1, nu=0.08, random_state=None,\n",
       "      shrinking=True, tol=0.001, verbose=False)"
      ]
     },
     "execution_count": 35,
     "metadata": {},
     "output_type": "execute_result"
    }
   ],
   "source": [
    "clf_transfer = svm.OneClassSVM(nu=0.08, kernel='linear')\n",
    "clf_transfer.fit(p_train)"
   ]
  },
  {
   "cell_type": "code",
   "execution_count": 38,
   "metadata": {
    "collapsed": true
   },
   "outputs": [],
   "source": [
    "y_transfer_pred = clf_real.predict(real_full)"
   ]
  },
  {
   "cell_type": "code",
   "execution_count": 39,
   "metadata": {},
   "outputs": [
    {
     "name": "stdout",
     "output_type": "stream",
     "text": [
      "             precision    recall  f1-score   support\n",
      "\n",
      "       -1.0       0.86      0.42      0.56      2026\n",
      "        1.0       0.31      0.79      0.44       663\n",
      "\n",
      "avg / total       0.72      0.51      0.53      2689\n",
      "\n",
      "[[ 853 1173]\n",
      " [ 142  521]]\n"
     ]
    }
   ],
   "source": [
    "print(metrics.classification_report(real_full_labels, y_transfer_pred))\n",
    "print(metrics.confusion_matrix(real_full_labels, y_transfer_pred))"
   ]
  },
  {
   "cell_type": "code",
   "execution_count": null,
   "metadata": {
    "collapsed": true
   },
   "outputs": [],
   "source": []
  }
 ],
 "metadata": {
  "kernelspec": {
   "display_name": "Python 3",
   "language": "python",
   "name": "python3"
  },
  "language_info": {
   "codemirror_mode": {
    "name": "ipython",
    "version": 3
   },
   "file_extension": ".py",
   "mimetype": "text/x-python",
   "name": "python",
   "nbconvert_exporter": "python",
   "pygments_lexer": "ipython3",
   "version": "3.6.1"
  }
 },
 "nbformat": 4,
 "nbformat_minor": 2
}
