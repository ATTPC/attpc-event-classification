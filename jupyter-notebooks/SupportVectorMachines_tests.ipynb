{
 "cells": [
  {
   "cell_type": "code",
   "execution_count": 2,
   "metadata": {
    "collapsed": true
   },
   "outputs": [],
   "source": [
    "%matplotlib inline"
   ]
  },
  {
   "cell_type": "code",
   "execution_count": 3,
   "metadata": {
    "collapsed": true
   },
   "outputs": [],
   "source": [
    "import matplotlib.pyplot as plt\n",
    "\n",
    "import scipy as sp\n",
    "import numpy as np\n",
    "\n",
    "from sklearn.model_selection import train_test_split\n",
    "from sklearn import svm\n",
    "from sklearn import utils\n",
    "from sklearn import metrics"
   ]
  },
  {
   "cell_type": "code",
   "execution_count": null,
   "metadata": {
    "collapsed": true
   },
   "outputs": [],
   "source": []
  },
  {
   "cell_type": "markdown",
   "metadata": {},
   "source": [
    "# Testing OneClassSVM"
   ]
  },
  {
   "cell_type": "code",
   "execution_count": 4,
   "metadata": {
    "collapsed": true
   },
   "outputs": [],
   "source": [
    "#unsupervised outlier detection\n",
    "#anomaly detection\n",
    "#train only on protons"
   ]
  },
  {
   "cell_type": "code",
   "execution_count": 5,
   "metadata": {
    "collapsed": true
   },
   "outputs": [],
   "source": [
    "p_data = sp.sparse.load_npz('../data/tilt/20x20x20/pDisc_40000_20x20x20_tilt.npz')\n",
    "p_labels = np.ones((p_data.shape[0],))"
   ]
  },
  {
   "cell_type": "code",
   "execution_count": 6,
   "metadata": {
    "collapsed": true
   },
   "outputs": [],
   "source": [
    "p_train, p_test, p_labels_train, p_labels_test = train_test_split(p_data, p_labels, test_size=0.25, random_state=42)"
   ]
  },
  {
   "cell_type": "code",
   "execution_count": 7,
   "metadata": {
    "collapsed": true
   },
   "outputs": [],
   "source": [
    "#import carbon and noise for test\n",
    "C_data = sp.sparse.load_npz('../data/tilt/20x20x20/CDisc_40000_20x20x20_tilt.npz')\n",
    "noise_data = sp.sparse.load_npz('../data/tilt/20x20x20/noiseDisc_40000_20x20x20.npz')"
   ]
  },
  {
   "cell_type": "code",
   "execution_count": 8,
   "metadata": {},
   "outputs": [
    {
     "name": "stdout",
     "output_type": "stream",
     "text": [
      "(40001, 8000)\n",
      "(40000, 8000)\n",
      "(10000, 8000)\n",
      "(10000, 8000)\n"
     ]
    }
   ],
   "source": [
    "print(C_data.shape)\n",
    "print(noise_data.shape)\n",
    "\n",
    "C_test = C_data[0:10000]\n",
    "noise_test  = noise_data[0:10000]\n",
    "\n",
    "print(C_test.shape)\n",
    "print(noise_test.shape)"
   ]
  },
  {
   "cell_type": "code",
   "execution_count": 9,
   "metadata": {},
   "outputs": [
    {
     "name": "stdout",
     "output_type": "stream",
     "text": [
      "(10001, 8000)\n",
      "(10000, 8000)\n",
      "(10000, 8000)\n",
      "(30001, 8000)\n",
      "(30001,)\n",
      "30001\n"
     ]
    }
   ],
   "source": [
    "full_test = sp.sparse.vstack([p_test, C_test, noise_test], format='csr')\n",
    "\n",
    "print(p_test.shape)\n",
    "print(C_test.shape)\n",
    "print(noise_test.shape)\n",
    "\n",
    "#third label array p, c, j\n",
    "\n",
    "full_labels = np.hstack((p_labels_test, np.negative(np.ones(C_test.shape[0])), np.negative(np.ones(noise_test.shape[0]))))\n",
    "#print(full_data_nocharge.shape)\n",
    "\n",
    "full_charLabels = ['p']*p_test.shape[0] + ['c']*C_test.shape[0] + ['n']*noise_test.shape[0]\n",
    "\n",
    "full_test, full_labels, full_charLabels = utils.shuffle(full_test, full_labels, full_charLabels)\n",
    "\n",
    "print(full_test.shape)\n",
    "print(full_labels.shape)\n",
    "print(len(full_charLabels))"
   ]
  },
  {
   "cell_type": "code",
   "execution_count": 19,
   "metadata": {},
   "outputs": [
    {
     "data": {
      "text/plain": [
       "OneClassSVM(cache_size=200, coef0=0.0, degree=3, gamma='auto', kernel='rbf',\n",
       "      max_iter=-1, nu=0.08, random_state=None, shrinking=True, tol=0.001,\n",
       "      verbose=False)"
      ]
     },
     "execution_count": 19,
     "metadata": {},
     "output_type": "execute_result"
    }
   ],
   "source": [
    "clf = svm.OneClassSVM(nu=0.08, kernel='rbf')\n",
    "clf.fit(p_train[0:-1])"
   ]
  },
  {
   "cell_type": "code",
   "execution_count": 20,
   "metadata": {
    "collapsed": true
   },
   "outputs": [],
   "source": [
    "subset_size = -1"
   ]
  },
  {
   "cell_type": "code",
   "execution_count": 21,
   "metadata": {
    "collapsed": true
   },
   "outputs": [],
   "source": [
    "y_pred_train = clf.predict(p_train[0:subset_size]) \n",
    "y_pred_test = clf.predict(full_test)"
   ]
  },
  {
   "cell_type": "code",
   "execution_count": 22,
   "metadata": {},
   "outputs": [
    {
     "name": "stdout",
     "output_type": "stream",
     "text": [
      "f1-score with proton training data: 0.958313801066\n",
      "f1-score with mixed proton/carbon/noise test data: 0.567796349309\n"
     ]
    }
   ],
   "source": [
    "print(\"f1-score with proton training data: \" + str(metrics.f1_score(p_labels_train[0:subset_size], y_pred_train)))\n",
    "print(\"f1-score with mixed proton/carbon/noise test data: \" + str(metrics.f1_score(full_labels, y_pred_test)))"
   ]
  },
  {
   "cell_type": "markdown",
   "metadata": {},
   "source": [
    "# Looking at test set results"
   ]
  },
  {
   "cell_type": "code",
   "execution_count": 23,
   "metadata": {},
   "outputs": [],
   "source": [
    "n_test_p = p_test.shape[0]\n",
    "n_test_C = C_test.shape[0]\n",
    "n_test_noise = noise_test.shape[0]\n",
    "\n",
    "p_correct = 0              #protons predicted correctly (1)\n",
    "C_correct = 0              #carbons predicted correctly (-1)\n",
    "noise_correct = 0          #noise events predicted correctly = (-1)\n",
    "\n",
    "for i in range(len(y_pred_test)):\n",
    "    #if prediction was correct\n",
    "    if(full_labels[i] == y_pred_test[i]):\n",
    "        if (full_charLabels[i] == 'p'):\n",
    "            p_correct += 1\n",
    "        elif (full_charLabels[i] == 'c'):\n",
    "            C_correct += 1\n",
    "        elif (full_charLabels[i] == 'n'):\n",
    "            noise_correct += 1"
   ]
  },
  {
   "cell_type": "code",
   "execution_count": 24,
   "metadata": {},
   "outputs": [
    {
     "name": "stdout",
     "output_type": "stream",
     "text": [
      "Proton accuracy: 92.22%\n",
      "Carbon accuracy: 64.34%\n",
      "Noise event accuracy: 3.03%\n"
     ]
    }
   ],
   "source": [
    "print(\"Proton accuracy: %.2f%%\" % ((p_correct/n_test_p)*100))\n",
    "print(\"Carbon accuracy: %.2f%%\" % ((C_correct/n_test_C)*100))\n",
    "print(\"Noise event accuracy: %.2f%%\" % ((noise_correct/n_test_noise)*100))"
   ]
  },
  {
   "cell_type": "code",
   "execution_count": 25,
   "metadata": {},
   "outputs": [
    {
     "name": "stdout",
     "output_type": "stream",
     "text": [
      "protons correct = 9223   | protons incorrect = 778\n",
      "carbons correct = 6434   | carbons incorrect = 3566\n",
      "noise   correct = 303    | noise incorrect = 9697\n"
     ]
    }
   ],
   "source": [
    "print(\"protons correct = \" + str(p_correct) + \"   | protons incorrect = \" + str(n_test_p-p_correct) )\n",
    "print(\"carbons correct = \" + str(C_correct) + \"   | carbons incorrect = \" + str(n_test_C-C_correct) )\n",
    "print(\"noise   correct = \" + str(noise_correct) + \"    | noise incorrect = \" + str(n_test_noise-noise_correct) )"
   ]
  },
  {
   "cell_type": "code",
   "execution_count": null,
   "metadata": {
    "collapsed": true
   },
   "outputs": [],
   "source": []
  }
 ],
 "metadata": {
  "kernelspec": {
   "display_name": "Python 3",
   "language": "python",
   "name": "python3"
  },
  "language_info": {
   "codemirror_mode": {
    "name": "ipython",
    "version": 3
   },
   "file_extension": ".py",
   "mimetype": "text/x-python",
   "name": "python",
   "nbconvert_exporter": "python",
   "pygments_lexer": "ipython3",
   "version": "3.6.1"
  }
 },
 "nbformat": 4,
 "nbformat_minor": 2
}
