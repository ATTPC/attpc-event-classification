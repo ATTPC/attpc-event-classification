{
 "cells": [
  {
   "cell_type": "code",
   "execution_count": 4,
   "metadata": {
    "collapsed": true
   },
   "outputs": [],
   "source": [
    "import math\n",
    "import numpy as np\n",
    "\n",
    "import pytpc\n",
    "import pytpc.utilities as utils\n",
    "import pytpc.simulation as sim"
   ]
  },
  {
   "cell_type": "code",
   "execution_count": 5,
   "metadata": {},
   "outputs": [
    {
     "name": "stdout",
     "output_type": "stream",
     "text": [
      "[    0.     0.  9500.]\n",
      "[ 0.    0.    1.68]\n"
     ]
    }
   ],
   "source": [
    "#calculating efield vector for NO tilt\n",
    "#remember that B is always along detector (all in z)\n",
    "emag = 9500\n",
    "bmag = 1.68\n",
    "tiltDegUVW = 0.0\n",
    "tiltRadUVW = (tiltDegUVW*math.pi)/180\n",
    "#print(tiltRad)\n",
    "\n",
    "ef_orig = np.array([0, 0, emag])\n",
    "bf_orig = np.array([0, 0, bmag])\n",
    "\n",
    "trans = utils.tilt_matrix(tiltRadUVW)\n",
    "ef = trans.dot(ef_orig)\n",
    "\n",
    "print(ef)\n",
    "print(bf_orig)"
   ]
  },
  {
   "cell_type": "code",
   "execution_count": 6,
   "metadata": {},
   "outputs": [
    {
     "name": "stdout",
     "output_type": "stream",
     "text": [
      "[-0.  -0.  -5.2]\n"
     ]
    }
   ],
   "source": [
    "#calculating drift velocity\n",
    "vdmag = -5.2\n",
    "tiltDegXYZ = 0.0\n",
    "tiltRadXYZ = (tiltDegXYZ*math.pi)/180\n",
    "\n",
    "vd = sim.drift_velocity_vector(vdmag, emag, bmag, tiltRadXYZ)\n",
    "print(vd)"
   ]
  },
  {
   "cell_type": "code",
   "execution_count": null,
   "metadata": {
    "collapsed": true
   },
   "outputs": [],
   "source": []
  },
  {
   "cell_type": "code",
   "execution_count": null,
   "metadata": {
    "collapsed": true
   },
   "outputs": [],
   "source": []
  }
 ],
 "metadata": {
  "kernelspec": {
   "display_name": "Python 3",
   "language": "python",
   "name": "python3"
  },
  "language_info": {
   "codemirror_mode": {
    "name": "ipython",
    "version": 3
   },
   "file_extension": ".py",
   "mimetype": "text/x-python",
   "name": "python",
   "nbconvert_exporter": "python",
   "pygments_lexer": "ipython3",
   "version": "3.6.1"
  }
 },
 "nbformat": 4,
 "nbformat_minor": 2
}
