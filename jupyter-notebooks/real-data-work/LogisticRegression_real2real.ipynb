{
 "cells": [
  {
   "cell_type": "code",
   "execution_count": 1,
   "metadata": {
    "collapsed": true
   },
   "outputs": [],
   "source": [
    "%matplotlib inline"
   ]
  },
  {
   "cell_type": "code",
   "execution_count": 2,
   "metadata": {
    "collapsed": true
   },
   "outputs": [],
   "source": [
    "import matplotlib.pyplot as plt\n",
    "\n",
    "import scipy as sp\n",
    "import numpy as np\n",
    "from sklearn.model_selection import train_test_split\n",
    "from sklearn.linear_model import LogisticRegression\n",
    "from sklearn import metrics"
   ]
  },
  {
   "cell_type": "code",
   "execution_count": 3,
   "metadata": {
    "collapsed": true
   },
   "outputs": [],
   "source": [
    "#loading real data\n",
    "p_0130 = sp.sparse.load_npz('../../data/real/20x20x20/run_0130_pDisc.npz')\n",
    "C_0130 = sp.sparse.load_npz('../../data/real/20x20x20/run_0130_CDisc.npz')\n",
    "junk_0130 = sp.sparse.load_npz('../../data/real/20x20x20/run_0130_junkDisc.npz')\n",
    "p_0210 = sp.sparse.load_npz('../../data/real/20x20x20/run_0210_pDisc.npz')\n",
    "C_0210 = sp.sparse.load_npz('../../data/real/20x20x20/run_0210_CDisc.npz')\n",
    "junk_0210 = sp.sparse.load_npz('../../data/real/20x20x20/run_0210_junkDisc.npz')\n",
    "\n",
    "p_real = sp.sparse.vstack([p_0130, p_0210], format='csr')\n",
    "C_real = sp.sparse.vstack([C_0130, C_0210], format='csr')\n",
    "junk_real = sp.sparse.vstack([junk_0130, junk_0210], format='csr')"
   ]
  },
  {
   "cell_type": "code",
   "execution_count": 4,
   "metadata": {
    "collapsed": true
   },
   "outputs": [],
   "source": [
    "p_real_labels = np.zeros((p_real.shape[0],))\n",
    "C_real_labels = np.ones((C_real.shape[0],))\n",
    "junk_real_labels = np.ones((junk_real.shape[0],))"
   ]
  },
  {
   "cell_type": "code",
   "execution_count": 5,
   "metadata": {},
   "outputs": [
    {
     "name": "stdout",
     "output_type": "stream",
     "text": [
      "Real proton events: 663\n",
      "Real Carbon events: 340\n",
      "Real junk events: 1686\n"
     ]
    }
   ],
   "source": [
    "print(\"Real proton events: \" + str(p_real.shape[0]))\n",
    "print(\"Real Carbon events: \" + str(C_real.shape[0]))\n",
    "print(\"Real junk events: \" + str(junk_real.shape[0]))"
   ]
  },
  {
   "cell_type": "markdown",
   "metadata": {},
   "source": [
    "# Predicting proton vs. Carbon (w/ Simulated Noise)"
   ]
  },
  {
   "cell_type": "code",
   "execution_count": 6,
   "metadata": {
    "collapsed": true
   },
   "outputs": [],
   "source": [
    "pC_real = sp.sparse.vstack([p_real, C_real], format='csr')\n",
    "pC_real_labels = np.hstack((p_real_labels, C_real_labels))"
   ]
  },
  {
   "cell_type": "code",
   "execution_count": 7,
   "metadata": {
    "collapsed": true
   },
   "outputs": [],
   "source": [
    "pC_train, pC_test, pC_labels_train, pC_labels_test = train_test_split(pC_real, pC_real_labels, test_size=0.25, random_state=42)"
   ]
  },
  {
   "cell_type": "code",
   "execution_count": 8,
   "metadata": {},
   "outputs": [
    {
     "name": "stdout",
     "output_type": "stream",
     "text": [
      "(752, 8000)\n",
      "(251, 8000)\n"
     ]
    }
   ],
   "source": [
    "print(pC_train.shape)\n",
    "print(pC_test.shape)"
   ]
  },
  {
   "cell_type": "code",
   "execution_count": 9,
   "metadata": {},
   "outputs": [
    {
     "data": {
      "text/plain": [
       "LogisticRegression(C=0.001, class_weight=None, dual=False, fit_intercept=True,\n",
       "          intercept_scaling=1, max_iter=100, multi_class='ovr', n_jobs=1,\n",
       "          penalty='l2', random_state=None, solver='liblinear', tol=0.0001,\n",
       "          verbose=0, warm_start=False)"
      ]
     },
     "execution_count": 9,
     "metadata": {},
     "output_type": "execute_result"
    }
   ],
   "source": [
    "reg = 0.001\n",
    "lr_pC = LogisticRegression(C=reg)\n",
    "lr_pC.fit(pC_train, pC_labels_train)"
   ]
  },
  {
   "cell_type": "code",
   "execution_count": 10,
   "metadata": {},
   "outputs": [
    {
     "name": "stdout",
     "output_type": "stream",
     "text": [
      "Accuracy: 0.848605577689243\n",
      "             precision    recall  f1-score   support\n",
      "\n",
      "        0.0       0.86      0.93      0.89       168\n",
      "        1.0       0.83      0.69      0.75        83\n",
      "\n",
      "avg / total       0.85      0.85      0.84       251\n",
      "\n",
      "[[156  12]\n",
      " [ 26  57]]\n"
     ]
    }
   ],
   "source": [
    "#train on simulated + test on simulated \n",
    "pC_pred = lr_pC.predict(pC_test)\n",
    "\n",
    "print(\"Accuracy: \" + str(metrics.accuracy_score(pC_labels_test, pC_pred)))\n",
    "print(metrics.classification_report(pC_labels_test, pC_pred))\n",
    "print(metrics.confusion_matrix(pC_labels_test, pC_pred))"
   ]
  },
  {
   "cell_type": "code",
   "execution_count": 11,
   "metadata": {},
   "outputs": [
    {
     "name": "stdout",
     "output_type": "stream",
     "text": [
      "Real Data       C=1e-05 accuracy=0.47808764940239046\n",
      "Real Data       C=0.0001 accuracy=0.8087649402390438\n",
      "Real Data       C=0.001 accuracy=0.848605577689243\n",
      "Real Data       C=0.01 accuracy=0.8366533864541833\n",
      "Real Data       C=0.1 accuracy=0.8326693227091634\n",
      "Real Data       C=1.0 accuracy=0.8087649402390438\n",
      "Real Data       C=10.0 accuracy=0.8087649402390438\n",
      "Real Data       C=100.0 accuracy=0.8047808764940239\n",
      "Real Data       C=1000.0 accuracy=0.7888446215139442\n",
      "Real Data       C=10000.0 accuracy=0.7848605577689243\n"
     ]
    }
   ],
   "source": [
    "C_vals = [10e-6, 10e-5, 10e-4, 10e-3, 10e-2, 10e-1, 10e0, 10e1, 10e2, 10e3]\n",
    "\n",
    "precisions_real = []\n",
    "recalls_real = []\n",
    "f1s_real = []\n",
    "accuracies_real = []\n",
    "\n",
    "for c in C_vals:\n",
    "    pC_pred = LogisticRegression(C=c).fit(pC_train, pC_labels_train).predict(pC_test)\n",
    "    \n",
    "    precisions_real.append(metrics.precision_score(pC_labels_test, pC_pred))\n",
    "    recalls_real.append(metrics.recall_score(pC_labels_test, pC_pred))\n",
    "    f1s_real.append(metrics.f1_score(pC_labels_test, pC_pred))\n",
    "    accuracies_real.append(metrics.accuracy_score(pC_labels_test, pC_pred))\n",
    "    print(\"Real Data       C=\" + str(c) + \" accuracy=\" + str(metrics.accuracy_score(pC_labels_test, pC_pred)))"
   ]
  },
  {
   "cell_type": "code",
   "execution_count": 12,
   "metadata": {},
   "outputs": [
    {
     "data": {
      "text/plain": [
       "<matplotlib.legend.Legend at 0x7fe967734630>"
      ]
     },
     "execution_count": 12,
     "metadata": {},
     "output_type": "execute_result"
    },
    {
     "data": {
      "image/png": "[encoded data removed]",
      "text/plain": [
       "<matplotlib.figure.Figure at 0x7fe967734358>"
      ]
     },
     "metadata": {},
     "output_type": "display_data"
    }
   ],
   "source": [
    "a = np.arange(len(C_vals))\n",
    "\n",
    "plt.plot(C_vals, accuracies_real)\n",
    "\n",
    "plt.xscale('log')\n",
    "        \n",
    "plt.xlabel('C (inverse regularization constant)')\n",
    "plt.ylabel('Accuracy')\n",
    "plt.title('Accuracy by Regularization')\n",
    "plt.legend(['Real Data'], loc='lower right')\n",
    "\n",
    "#plt.savefig('../../plots/results/real/LR_pC_accuracyxC.pdf')"
   ]
  },
  {
   "cell_type": "code",
   "execution_count": 13,
   "metadata": {},
   "outputs": [
    {
     "data": {
      "text/plain": [
       "<matplotlib.legend.Legend at 0x7fe9651955c0>"
      ]
     },
     "execution_count": 13,
     "metadata": {},
     "output_type": "execute_result"
    },
    {
     "data": {
      "image/png": "[encoded data removed]",
      "text/plain": [
       "<matplotlib.figure.Figure at 0x7fe96522d518>"
      ]
     },
     "metadata": {},
     "output_type": "display_data"
    }
   ],
   "source": [
    "a = np.arange(len(C_vals))\n",
    "\n",
    "plt.plot(C_vals, f1s_real)\n",
    "\n",
    "plt.xscale('log')\n",
    "        \n",
    "plt.xlabel('C (inverse regularization constant)')\n",
    "plt.ylabel('F1 Score')\n",
    "plt.title('F1 Score by Regularization')\n",
    "plt.legend(['Real Data'], loc='lower right')\n",
    "\n",
    "#plt.savefig('')"
   ]
  },
  {
   "cell_type": "markdown",
   "metadata": {},
   "source": [
    "# Predicting proton vs. Carbon + junk (w/ Simulated Noise)"
   ]
  },
  {
   "cell_type": "code",
   "execution_count": 14,
   "metadata": {
    "collapsed": true
   },
   "outputs": [],
   "source": [
    "# proton 0s\n",
    "# Carbon+junk 1s\n",
    "pCjunk_real = sp.sparse.vstack([p_real, C_real, junk_real], format='csr')\n",
    "pCjunk_real_labels = np.hstack((p_real_labels, C_real_labels, junk_real_labels))"
   ]
  },
  {
   "cell_type": "code",
   "execution_count": 15,
   "metadata": {
    "collapsed": true
   },
   "outputs": [],
   "source": [
    "pCjunk_train, pCjunk_test, pCjunk_labels_train, pCjunk_labels_test = train_test_split(pCjunk_real, pCjunk_real_labels, test_size=0.25, random_state=42)"
   ]
  },
  {
   "cell_type": "code",
   "execution_count": 16,
   "metadata": {},
   "outputs": [
    {
     "name": "stdout",
     "output_type": "stream",
     "text": [
      "(2016, 8000)\n",
      "(673, 8000)\n"
     ]
    }
   ],
   "source": [
    "print(pCjunk_train.shape)\n",
    "print(pCjunk_test.shape)"
   ]
  },
  {
   "cell_type": "code",
   "execution_count": 17,
   "metadata": {},
   "outputs": [
    {
     "data": {
      "text/plain": [
       "LogisticRegression(C=0.001, class_weight=None, dual=False, fit_intercept=True,\n",
       "          intercept_scaling=1, max_iter=100, multi_class='ovr', n_jobs=1,\n",
       "          penalty='l2', random_state=None, solver='liblinear', tol=0.0001,\n",
       "          verbose=0, warm_start=False)"
      ]
     },
     "execution_count": 17,
     "metadata": {},
     "output_type": "execute_result"
    }
   ],
   "source": [
    "reg = 0.001\n",
    "lr_pCjunk = LogisticRegression(C=reg)\n",
    "lr_pCjunk.fit(pCjunk_train, pCjunk_labels_train)"
   ]
  },
  {
   "cell_type": "code",
   "execution_count": 18,
   "metadata": {},
   "outputs": [
    {
     "name": "stdout",
     "output_type": "stream",
     "text": [
      "Accuracy: 0.8202080237741456\n",
      "             precision    recall  f1-score   support\n",
      "\n",
      "        0.0       0.86      0.35      0.50       171\n",
      "        1.0       0.82      0.98      0.89       502\n",
      "\n",
      "avg / total       0.83      0.82      0.79       673\n",
      "\n",
      "[[ 60 111]\n",
      " [ 10 492]]\n"
     ]
    }
   ],
   "source": [
    "#train on simulated + test on simulated \n",
    "pCjunk_pred = lr_pCjunk.predict(pCjunk_test)\n",
    "\n",
    "print(\"Accuracy: \" + str(metrics.accuracy_score(pCjunk_labels_test, pCjunk_pred)))\n",
    "print(metrics.classification_report(pCjunk_labels_test, pCjunk_pred))\n",
    "print(metrics.confusion_matrix(pCjunk_labels_test, pCjunk_pred))"
   ]
  },
  {
   "cell_type": "markdown",
   "metadata": {},
   "source": [
    "# Predicting proton vs. Carbon vs. junk (w/ Simulated Noise) - **multi-class**"
   ]
  },
  {
   "cell_type": "code",
   "execution_count": 19,
   "metadata": {
    "collapsed": true
   },
   "outputs": [],
   "source": [
    "#protons 0\n",
    "#carbons 1\n",
    "#junk 2\n",
    "\n",
    "#create junk 2s labels\n",
    "junkMC_real_labels = np.full((junk_real_labels.shape[0],), 2)\n",
    "\n",
    "multi_real = sp.sparse.vstack([p_real, C_real, junk_real], format='csr')\n",
    "multi_real_labels = np.hstack((p_real_labels, C_real_labels, junkMC_real_labels))"
   ]
  },
  {
   "cell_type": "code",
   "execution_count": 20,
   "metadata": {},
   "outputs": [
    {
     "name": "stdout",
     "output_type": "stream",
     "text": [
      "(2689,)\n"
     ]
    }
   ],
   "source": [
    "print(multi_real_labels.shape)"
   ]
  },
  {
   "cell_type": "code",
   "execution_count": 21,
   "metadata": {
    "collapsed": true
   },
   "outputs": [],
   "source": [
    "multi_train, multi_test, multi_labels_train, multi_labels_test = train_test_split(multi_real, multi_real_labels, test_size=0.25, random_state=42)"
   ]
  },
  {
   "cell_type": "code",
   "execution_count": 22,
   "metadata": {},
   "outputs": [
    {
     "data": {
      "text/plain": [
       "LogisticRegression(C=0.001, class_weight=None, dual=False, fit_intercept=True,\n",
       "          intercept_scaling=1, max_iter=100, multi_class='ovr', n_jobs=1,\n",
       "          penalty='l2', random_state=None, solver='liblinear', tol=0.0001,\n",
       "          verbose=0, warm_start=False)"
      ]
     },
     "execution_count": 22,
     "metadata": {},
     "output_type": "execute_result"
    }
   ],
   "source": [
    "reg = 0.001\n",
    "lr_multi = LogisticRegression(C=reg, multi_class='ovr')\n",
    "lr_multi.fit(multi_train, multi_labels_train)"
   ]
  },
  {
   "cell_type": "code",
   "execution_count": 23,
   "metadata": {},
   "outputs": [
    {
     "name": "stdout",
     "output_type": "stream",
     "text": [
      "Accuracy: 0.75037147102526\n",
      "             precision    recall  f1-score   support\n",
      "\n",
      "        0.0       0.87      0.47      0.61       171\n",
      "        1.0       0.59      0.31      0.41        83\n",
      "        2.0       0.74      0.95      0.83       419\n",
      "\n",
      "avg / total       0.76      0.75      0.73       673\n",
      "\n",
      "[[ 81   2  88]\n",
      " [  7  26  50]\n",
      " [  5  16 398]]\n"
     ]
    }
   ],
   "source": [
    "#train on simulated + test on simulated \n",
    "multi_pred = lr_multi.predict(multi_test)\n",
    "\n",
    "print(\"Accuracy: \" + str(metrics.accuracy_score(multi_labels_test, multi_pred)))\n",
    "print(metrics.classification_report(multi_labels_test, multi_pred))\n",
    "print(metrics.confusion_matrix(multi_labels_test, multi_pred))"
   ]
  },
  {
   "cell_type": "code",
   "execution_count": null,
   "metadata": {
    "collapsed": true
   },
   "outputs": [],
   "source": []
  }
 ],
 "metadata": {
  "kernelspec": {
   "display_name": "Python 3",
   "language": "python",
   "name": "python3"
  },
  "language_info": {
   "codemirror_mode": {
    "name": "ipython",
    "version": 3
   },
   "file_extension": ".py",
   "mimetype": "text/x-python",
   "name": "python",
   "nbconvert_exporter": "python",
   "pygments_lexer": "ipython3",
   "version": "3.6.1"
  }
 },
 "nbformat": 4,
 "nbformat_minor": 2
}
