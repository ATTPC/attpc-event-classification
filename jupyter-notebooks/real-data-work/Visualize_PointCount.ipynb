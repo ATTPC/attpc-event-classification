{
 "cells": [
  {
   "cell_type": "code",
   "execution_count": 1,
   "metadata": {
    "collapsed": true
   },
   "outputs": [],
   "source": [
    "%matplotlib inline"
   ]
  },
  {
   "cell_type": "code",
   "execution_count": 2,
   "metadata": {},
   "outputs": [
    {
     "name": "stderr",
     "output_type": "stream",
     "text": [
      "/usr/local/lib/python3.6/site-packages/h5py/__init__.py:34: FutureWarning: Conversion of the second argument of issubdtype from `float` to `np.floating` is deprecated. In future, it will be treated as `np.float64 == np.dtype(float).type`.\n",
      "  from ._conv import register_converters as _register_converters\n"
     ]
    }
   ],
   "source": [
    "import matplotlib.pyplot as plt\n",
    "\n",
    "import scipy as sp\n",
    "import numpy as np\n",
    "\n",
    "import pytpc"
   ]
  },
  {
   "cell_type": "markdown",
   "metadata": {},
   "source": [
    "# Simulated Data"
   ]
  },
  {
   "cell_type": "code",
   "execution_count": 8,
   "metadata": {
    "collapsed": true
   },
   "outputs": [],
   "source": [
    "hdfpath = '../../data/tilt/p_40000_tilt_largeEvts.h5'\n",
    "p_simfile = pytpc.HDFDataFile(hdfpath, 'r')"
   ]
  },
  {
   "cell_type": "code",
   "execution_count": 9,
   "metadata": {},
   "outputs": [],
   "source": [
    "p_pt_counts = []\n",
    "p_totalcharge = []\n",
    "\n",
    "for evt in p_simfile:\n",
    "    xyzs = evt.xyzs(peaks_only=True, drift_vel=5.2, clock=12.5, return_pads=False, baseline_correction=False, cg_times=False)\n",
    "    pt_count = xyzs.shape[0]\n",
    "    p_pt_counts.append(pt_count)\n",
    "    p_totalcharge.append(sum(xyzs[:,3]))"
   ]
  },
  {
   "cell_type": "code",
   "execution_count": 10,
   "metadata": {},
   "outputs": [
    {
     "name": "stdout",
     "output_type": "stream",
     "text": [
      "179.94662633434163\n",
      "54133.96164095884\n"
     ]
    }
   ],
   "source": [
    "print(sum(p_pt_counts)/len(p_pt_counts))\n",
    "print(sum(p_totalcharge)/len(p_totalcharge))"
   ]
  },
  {
   "cell_type": "code",
   "execution_count": 11,
   "metadata": {},
   "outputs": [
    {
     "data": {
      "text/plain": [
       "(array([2.732e+03, 2.838e+03, 3.190e+03, 3.268e+03, 3.173e+03, 2.490e+03,\n",
       "        1.993e+03, 1.895e+03, 1.697e+03, 1.434e+03, 1.343e+03, 1.174e+03,\n",
       "        1.028e+03, 1.114e+03, 9.760e+02, 7.780e+02, 8.550e+02, 7.550e+02,\n",
       "        5.940e+02, 6.220e+02, 5.280e+02, 4.380e+02, 4.420e+02, 3.920e+02,\n",
       "        2.950e+02, 3.340e+02, 2.850e+02, 2.630e+02, 2.150e+02, 1.990e+02,\n",
       "        1.530e+02, 1.440e+02, 1.620e+02, 1.330e+02, 1.380e+02, 1.450e+02,\n",
       "        1.200e+02, 1.060e+02, 1.210e+02, 9.000e+01, 9.900e+01, 9.000e+01,\n",
       "        7.100e+01, 6.900e+01, 6.100e+01, 5.800e+01, 7.800e+01, 6.200e+01,\n",
       "        5.800e+01, 5.000e+01, 5.100e+01, 4.900e+01, 4.600e+01, 3.900e+01,\n",
       "        3.000e+01, 4.000e+01, 2.400e+01, 2.700e+01, 2.500e+01, 3.200e+01,\n",
       "        2.400e+01, 1.900e+01, 1.800e+01, 2.300e+01, 2.000e+01, 1.100e+01,\n",
       "        1.500e+01, 1.500e+01, 1.300e+01, 8.000e+00, 1.500e+01, 6.000e+00,\n",
       "        1.100e+01, 7.000e+00, 1.400e+01, 5.000e+00, 8.000e+00, 6.000e+00,\n",
       "        5.000e+00, 6.000e+00, 4.000e+00, 4.000e+00, 2.000e+00, 7.000e+00,\n",
       "        5.000e+00, 2.000e+00, 2.000e+00, 1.000e+00, 3.000e+00, 3.000e+00,\n",
       "        1.000e+00, 2.000e+00, 2.000e+00, 0.000e+00, 2.000e+00, 0.000e+00,\n",
       "        0.000e+00, 0.000e+00, 0.000e+00, 1.000e+00]),\n",
       " array([  30.  ,   43.67,   57.34,   71.01,   84.68,   98.35,  112.02,\n",
       "         125.69,  139.36,  153.03,  166.7 ,  180.37,  194.04,  207.71,\n",
       "         221.38,  235.05,  248.72,  262.39,  276.06,  289.73,  303.4 ,\n",
       "         317.07,  330.74,  344.41,  358.08,  371.75,  385.42,  399.09,\n",
       "         412.76,  426.43,  440.1 ,  453.77,  467.44,  481.11,  494.78,\n",
       "         508.45,  522.12,  535.79,  549.46,  563.13,  576.8 ,  590.47,\n",
       "         604.14,  617.81,  631.48,  645.15,  658.82,  672.49,  686.16,\n",
       "         699.83,  713.5 ,  727.17,  740.84,  754.51,  768.18,  781.85,\n",
       "         795.52,  809.19,  822.86,  836.53,  850.2 ,  863.87,  877.54,\n",
       "         891.21,  904.88,  918.55,  932.22,  945.89,  959.56,  973.23,\n",
       "         986.9 , 1000.57, 1014.24, 1027.91, 1041.58, 1055.25, 1068.92,\n",
       "        1082.59, 1096.26, 1109.93, 1123.6 , 1137.27, 1150.94, 1164.61,\n",
       "        1178.28, 1191.95, 1205.62, 1219.29, 1232.96, 1246.63, 1260.3 ,\n",
       "        1273.97, 1287.64, 1301.31, 1314.98, 1328.65, 1342.32, 1355.99,\n",
       "        1369.66, 1383.33, 1397.  ]),\n",
       " <a list of 100 Patch objects>)"
      ]
     },
     "execution_count": 11,
     "metadata": {},
     "output_type": "execute_result"
    },
    {
     "data": {
      "image/png": "[encoded data removed]",
      "text/plain": [
       "<matplotlib.figure.Figure at 0x7f3337bb50f0>"
      ]
     },
     "metadata": {},
     "output_type": "display_data"
    }
   ],
   "source": [
    "plt.hist(p_pt_counts, bins=100)"
   ]
  },
  {
   "cell_type": "code",
   "execution_count": 16,
   "metadata": {
    "collapsed": true
   },
   "outputs": [],
   "source": [
    "hdfpath = '../../data/tilt/C_40000_tilt_largeEvts.h5'\n",
    "C_simfile = pytpc.HDFDataFile(hdfpath, 'r')"
   ]
  },
  {
   "cell_type": "code",
   "execution_count": 17,
   "metadata": {
    "collapsed": true
   },
   "outputs": [],
   "source": [
    "C_pt_counts = []\n",
    "C_totalcharge = []\n",
    "\n",
    "for evt in C_simfile:\n",
    "    xyzs = evt.xyzs(peaks_only=True, drift_vel=5.2, clock=12.5, return_pads=False, baseline_correction=False, cg_times=False)\n",
    "    pt_count = xyzs.shape[0]\n",
    "    C_pt_counts.append(pt_count)\n",
    "    C_totalcharge.append(sum(xyzs[:,3]))"
   ]
  },
  {
   "cell_type": "code",
   "execution_count": 18,
   "metadata": {},
   "outputs": [
    {
     "name": "stdout",
     "output_type": "stream",
     "text": [
      "118.3718407039824\n",
      "332936.38107047346\n"
     ]
    }
   ],
   "source": [
    "print(sum(C_pt_counts)/len(C_pt_counts))\n",
    "print(sum(C_totalcharge)/len(C_totalcharge))"
   ]
  },
  {
   "cell_type": "code",
   "execution_count": 19,
   "metadata": {},
   "outputs": [
    {
     "data": {
      "text/plain": [
       "(array([9.850e+02, 9.290e+02, 7.850e+02, 1.107e+03, 9.730e+02, 1.365e+03,\n",
       "        1.161e+03, 1.678e+03, 1.556e+03, 2.022e+03, 1.983e+03, 1.490e+03,\n",
       "        1.561e+03, 1.165e+03, 1.398e+03, 1.077e+03, 1.230e+03, 8.480e+02,\n",
       "        9.470e+02, 6.710e+02, 7.380e+02, 6.970e+02, 5.630e+02, 6.980e+02,\n",
       "        5.150e+02, 6.240e+02, 4.480e+02, 5.010e+02, 3.920e+02, 5.000e+02,\n",
       "        5.120e+02, 4.140e+02, 4.490e+02, 3.740e+02, 4.650e+02, 4.250e+02,\n",
       "        4.980e+02, 4.370e+02, 5.570e+02, 3.700e+02, 5.480e+02, 4.740e+02,\n",
       "        3.930e+02, 4.840e+02, 3.280e+02, 4.330e+02, 3.510e+02, 3.990e+02,\n",
       "        2.980e+02, 2.780e+02, 2.120e+02, 8.100e+01, 7.000e+01, 3.800e+01,\n",
       "        4.200e+01, 3.200e+01, 2.500e+01, 2.200e+01, 2.300e+01, 1.300e+01,\n",
       "        2.100e+01, 1.500e+01, 1.800e+01, 1.800e+01, 1.500e+01, 1.700e+01,\n",
       "        1.700e+01, 1.400e+01, 1.200e+01, 1.900e+01, 1.600e+01, 1.200e+01,\n",
       "        1.500e+01, 1.000e+01, 1.500e+01, 6.000e+00, 3.000e+00, 7.000e+00,\n",
       "        3.000e+00, 8.000e+00, 6.000e+00, 5.000e+00, 7.000e+00, 6.000e+00,\n",
       "        5.000e+00, 5.000e+00, 3.000e+00, 1.400e+01, 1.000e+00, 6.000e+00,\n",
       "        5.000e+00, 5.000e+00, 3.000e+00, 5.000e+00, 1.000e+00, 2.000e+00,\n",
       "        2.000e+00, 3.000e+00, 3.000e+00, 1.000e+00]),\n",
       " array([ 30.  ,  34.55,  39.1 ,  43.65,  48.2 ,  52.75,  57.3 ,  61.85,\n",
       "         66.4 ,  70.95,  75.5 ,  80.05,  84.6 ,  89.15,  93.7 ,  98.25,\n",
       "        102.8 , 107.35, 111.9 , 116.45, 121.  , 125.55, 130.1 , 134.65,\n",
       "        139.2 , 143.75, 148.3 , 152.85, 157.4 , 161.95, 166.5 , 171.05,\n",
       "        175.6 , 180.15, 184.7 , 189.25, 193.8 , 198.35, 202.9 , 207.45,\n",
       "        212.  , 216.55, 221.1 , 225.65, 230.2 , 234.75, 239.3 , 243.85,\n",
       "        248.4 , 252.95, 257.5 , 262.05, 266.6 , 271.15, 275.7 , 280.25,\n",
       "        284.8 , 289.35, 293.9 , 298.45, 303.  , 307.55, 312.1 , 316.65,\n",
       "        321.2 , 325.75, 330.3 , 334.85, 339.4 , 343.95, 348.5 , 353.05,\n",
       "        357.6 , 362.15, 366.7 , 371.25, 375.8 , 380.35, 384.9 , 389.45,\n",
       "        394.  , 398.55, 403.1 , 407.65, 412.2 , 416.75, 421.3 , 425.85,\n",
       "        430.4 , 434.95, 439.5 , 444.05, 448.6 , 453.15, 457.7 , 462.25,\n",
       "        466.8 , 471.35, 475.9 , 480.45, 485.  ]),\n",
       " <a list of 100 Patch objects>)"
      ]
     },
     "execution_count": 19,
     "metadata": {},
     "output_type": "execute_result"
    },
    {
     "data": {
      "image/png": "[encoded data removed]",
      "text/plain": [
       "<matplotlib.figure.Figure at 0x7f3337679390>"
      ]
     },
     "metadata": {},
     "output_type": "display_data"
    }
   ],
   "source": [
    "plt.hist(C_pt_counts, bins=100)"
   ]
  },
  {
   "cell_type": "markdown",
   "metadata": {
    "collapsed": true
   },
   "source": [
    "# Real Data"
   ]
  },
  {
   "cell_type": "code",
   "execution_count": null,
   "metadata": {
    "collapsed": true
   },
   "outputs": [],
   "source": [
    "hdfpath = '../../data/tilt/C_40000_tilt_largeEvts.h5'\n",
    "p_realfile = pytpc.HDFDataFile(hdfpath, 'r')"
   ]
  }
 ],
 "metadata": {
  "kernelspec": {
   "display_name": "Python 3",
   "language": "python",
   "name": "python3"
  },
  "language_info": {
   "codemirror_mode": {
    "name": "ipython",
    "version": 3
   },
   "file_extension": ".py",
   "mimetype": "text/x-python",
   "name": "python",
   "nbconvert_exporter": "python",
   "pygments_lexer": "ipython3",
   "version": "3.6.1"
  }
 },
 "nbformat": 4,
 "nbformat_minor": 2
}
