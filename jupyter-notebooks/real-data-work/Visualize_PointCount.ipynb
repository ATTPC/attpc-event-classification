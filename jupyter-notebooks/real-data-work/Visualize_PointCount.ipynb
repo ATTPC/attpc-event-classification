{
 "cells": [
  {
   "cell_type": "code",
   "execution_count": 1,
   "metadata": {
    "collapsed": true
   },
   "outputs": [],
   "source": [
    "%matplotlib inline"
   ]
  },
  {
   "cell_type": "code",
   "execution_count": 2,
   "metadata": {},
   "outputs": [
    {
     "name": "stderr",
     "output_type": "stream",
     "text": [
      "/usr/local/lib/python3.6/site-packages/h5py/__init__.py:34: FutureWarning: Conversion of the second argument of issubdtype from `float` to `np.floating` is deprecated. In future, it will be treated as `np.float64 == np.dtype(float).type`.\n",
      "  from ._conv import register_converters as _register_converters\n"
     ]
    }
   ],
   "source": [
    "import matplotlib.pyplot as plt\n",
    "\n",
    "import scipy as sp\n",
    "import numpy as np\n",
    "\n",
    "import pytpc"
   ]
  },
  {
   "cell_type": "code",
   "execution_count": 3,
   "metadata": {},
   "outputs": [],
   "source": [
    "hdfpath = '../../data/tilt/p_40000_tilt.h5'\n",
    "p_simfile = pytpc.HDFDataFile(hdfpath, 'r')"
   ]
  },
  {
   "cell_type": "code",
   "execution_count": 4,
   "metadata": {},
   "outputs": [],
   "source": [
    "p_pt_counts = []\n",
    "\n",
    "for evt in p_simfile:\n",
    "    pt_count = evt.xyzs(peaks_only=True, drift_vel=5.2, clock=12.5, return_pads=False, baseline_correction=False, cg_times=False).shape[0]\n",
    "    p_pt_counts.append(pt_count)"
   ]
  },
  {
   "cell_type": "code",
   "execution_count": 5,
   "metadata": {},
   "outputs": [
    {
     "data": {
      "text/plain": [
       "(array([2.713e+03, 2.401e+03, 2.381e+03, 2.230e+03, 2.683e+03, 2.766e+03,\n",
       "        2.813e+03, 2.145e+03, 1.803e+03, 1.713e+03, 1.393e+03, 1.346e+03,\n",
       "        1.146e+03, 1.057e+03, 8.960e+02, 9.690e+02, 8.070e+02, 7.850e+02,\n",
       "        7.700e+02, 5.990e+02, 6.210e+02, 5.430e+02, 4.920e+02, 4.560e+02,\n",
       "        3.650e+02, 3.700e+02, 2.500e+02, 2.960e+02, 2.230e+02, 2.370e+02,\n",
       "        1.840e+02, 1.800e+02, 1.380e+02, 1.140e+02, 1.480e+02, 1.340e+02,\n",
       "        1.340e+02, 1.010e+02, 1.020e+02, 8.500e+01, 8.800e+01, 7.600e+01,\n",
       "        6.700e+01, 9.400e+01, 7.300e+01, 6.500e+01, 7.600e+01, 7.100e+01,\n",
       "        6.000e+01, 4.900e+01, 5.700e+01, 5.500e+01, 5.700e+01, 4.000e+01,\n",
       "        4.300e+01, 3.500e+01, 2.300e+01, 2.400e+01, 2.500e+01, 3.100e+01,\n",
       "        3.000e+01, 2.600e+01, 2.300e+01, 2.100e+01, 1.500e+01, 2.800e+01,\n",
       "        1.600e+01, 1.600e+01, 1.200e+01, 1.000e+01, 1.600e+01, 1.200e+01,\n",
       "        1.000e+01, 8.000e+00, 5.000e+00, 7.000e+00, 4.000e+00, 2.000e+00,\n",
       "        4.000e+00, 5.000e+00, 3.000e+00, 4.000e+00, 2.000e+00, 4.000e+00,\n",
       "        5.000e+00, 0.000e+00, 2.000e+00, 3.000e+00, 1.000e+00, 3.000e+00,\n",
       "        1.000e+00, 1.000e+00, 0.000e+00, 1.000e+00, 0.000e+00, 0.000e+00,\n",
       "        1.000e+00, 1.000e+00, 0.000e+00, 1.000e+00]),\n",
       " array([   0.  ,   13.44,   26.88,   40.32,   53.76,   67.2 ,   80.64,\n",
       "          94.08,  107.52,  120.96,  134.4 ,  147.84,  161.28,  174.72,\n",
       "         188.16,  201.6 ,  215.04,  228.48,  241.92,  255.36,  268.8 ,\n",
       "         282.24,  295.68,  309.12,  322.56,  336.  ,  349.44,  362.88,\n",
       "         376.32,  389.76,  403.2 ,  416.64,  430.08,  443.52,  456.96,\n",
       "         470.4 ,  483.84,  497.28,  510.72,  524.16,  537.6 ,  551.04,\n",
       "         564.48,  577.92,  591.36,  604.8 ,  618.24,  631.68,  645.12,\n",
       "         658.56,  672.  ,  685.44,  698.88,  712.32,  725.76,  739.2 ,\n",
       "         752.64,  766.08,  779.52,  792.96,  806.4 ,  819.84,  833.28,\n",
       "         846.72,  860.16,  873.6 ,  887.04,  900.48,  913.92,  927.36,\n",
       "         940.8 ,  954.24,  967.68,  981.12,  994.56, 1008.  , 1021.44,\n",
       "        1034.88, 1048.32, 1061.76, 1075.2 , 1088.64, 1102.08, 1115.52,\n",
       "        1128.96, 1142.4 , 1155.84, 1169.28, 1182.72, 1196.16, 1209.6 ,\n",
       "        1223.04, 1236.48, 1249.92, 1263.36, 1276.8 , 1290.24, 1303.68,\n",
       "        1317.12, 1330.56, 1344.  ]),\n",
       " <a list of 100 Patch objects>)"
      ]
     },
     "execution_count": 5,
     "metadata": {},
     "output_type": "execute_result"
    },
    {
     "data": {
      "image/png": "[encoded data removed]",
      "text/plain": [
       "<matplotlib.figure.Figure at 0x7f6e64a60320>"
      ]
     },
     "metadata": {},
     "output_type": "display_data"
    }
   ],
   "source": [
    "plt.hist(p_pt_counts, bins=100)"
   ]
  },
  {
   "cell_type": "code",
   "execution_count": 6,
   "metadata": {
    "collapsed": true
   },
   "outputs": [],
   "source": [
    "hdfpath = '../../data/tilt/C_40000_tilt.h5'\n",
    "C_simfile = pytpc.HDFDataFile(hdfpath, 'r')"
   ]
  },
  {
   "cell_type": "code",
   "execution_count": 7,
   "metadata": {
    "collapsed": true
   },
   "outputs": [],
   "source": [
    "C_pt_counts = []\n",
    "\n",
    "for evt in C_simfile:\n",
    "    pt_count = evt.xyzs(peaks_only=True, drift_vel=5.2, clock=12.5, return_pads=False, baseline_correction=False, cg_times=False).shape[0]\n",
    "    C_pt_counts.append(pt_count)"
   ]
  },
  {
   "cell_type": "code",
   "execution_count": 8,
   "metadata": {},
   "outputs": [
    {
     "data": {
      "text/plain": [
       "(array([9.520e+02, 1.036e+03, 9.710e+02, 8.880e+02, 8.880e+02, 8.120e+02,\n",
       "        8.180e+02, 8.410e+02, 8.980e+02, 1.021e+03, 1.112e+03, 1.279e+03,\n",
       "        1.121e+03, 1.619e+03, 1.740e+03, 1.746e+03, 1.650e+03, 1.400e+03,\n",
       "        1.201e+03, 1.209e+03, 1.141e+03, 1.033e+03, 8.260e+02, 7.090e+02,\n",
       "        5.480e+02, 6.460e+02, 5.760e+02, 5.510e+02, 5.890e+02, 5.290e+02,\n",
       "        4.630e+02, 4.250e+02, 4.020e+02, 4.240e+02, 3.960e+02, 4.140e+02,\n",
       "        4.390e+02, 3.580e+02, 4.230e+02, 4.690e+02, 4.440e+02, 4.430e+02,\n",
       "        4.340e+02, 4.400e+02, 4.160e+02, 4.180e+02, 3.840e+02, 4.160e+02,\n",
       "        3.770e+02, 2.920e+02, 2.990e+02, 2.730e+02, 1.970e+02, 1.010e+02,\n",
       "        5.200e+01, 4.300e+01, 3.300e+01, 2.700e+01, 2.400e+01, 1.600e+01,\n",
       "        1.400e+01, 1.500e+01, 1.400e+01, 1.800e+01, 1.700e+01, 1.600e+01,\n",
       "        1.200e+01, 1.300e+01, 1.700e+01, 1.800e+01, 1.300e+01, 1.300e+01,\n",
       "        1.300e+01, 9.000e+00, 3.000e+00, 1.300e+01, 5.000e+00, 8.000e+00,\n",
       "        7.000e+00, 3.000e+00, 5.000e+00, 6.000e+00, 6.000e+00, 6.000e+00,\n",
       "        0.000e+00, 6.000e+00, 3.000e+00, 4.000e+00, 7.000e+00, 3.000e+00,\n",
       "        4.000e+00, 2.000e+00, 1.000e+00, 4.000e+00, 1.000e+00, 1.000e+00,\n",
       "        4.000e+00, 2.000e+00, 2.000e+00, 1.000e+00]),\n",
       " array([  1.  ,   5.92,  10.84,  15.76,  20.68,  25.6 ,  30.52,  35.44,\n",
       "         40.36,  45.28,  50.2 ,  55.12,  60.04,  64.96,  69.88,  74.8 ,\n",
       "         79.72,  84.64,  89.56,  94.48,  99.4 , 104.32, 109.24, 114.16,\n",
       "        119.08, 124.  , 128.92, 133.84, 138.76, 143.68, 148.6 , 153.52,\n",
       "        158.44, 163.36, 168.28, 173.2 , 178.12, 183.04, 187.96, 192.88,\n",
       "        197.8 , 202.72, 207.64, 212.56, 217.48, 222.4 , 227.32, 232.24,\n",
       "        237.16, 242.08, 247.  , 251.92, 256.84, 261.76, 266.68, 271.6 ,\n",
       "        276.52, 281.44, 286.36, 291.28, 296.2 , 301.12, 306.04, 310.96,\n",
       "        315.88, 320.8 , 325.72, 330.64, 335.56, 340.48, 345.4 , 350.32,\n",
       "        355.24, 360.16, 365.08, 370.  , 374.92, 379.84, 384.76, 389.68,\n",
       "        394.6 , 399.52, 404.44, 409.36, 414.28, 419.2 , 424.12, 429.04,\n",
       "        433.96, 438.88, 443.8 , 448.72, 453.64, 458.56, 463.48, 468.4 ,\n",
       "        473.32, 478.24, 483.16, 488.08, 493.  ]),\n",
       " <a list of 100 Patch objects>)"
      ]
     },
     "execution_count": 8,
     "metadata": {},
     "output_type": "execute_result"
    },
    {
     "data": {
      "image/png": "[encoded data removed]",
      "text/plain": [
       "<matplotlib.figure.Figure at 0x7f6e07dce5f8>"
      ]
     },
     "metadata": {},
     "output_type": "display_data"
    }
   ],
   "source": [
    "plt.hist(C_pt_counts, bins=100)"
   ]
  },
  {
   "cell_type": "code",
   "execution_count": null,
   "metadata": {
    "collapsed": true
   },
   "outputs": [],
   "source": []
  }
 ],
 "metadata": {
  "kernelspec": {
   "display_name": "Python 3",
   "language": "python",
   "name": "python3"
  },
  "language_info": {
   "codemirror_mode": {
    "name": "ipython",
    "version": 3
   },
   "file_extension": ".py",
   "mimetype": "text/x-python",
   "name": "python",
   "nbconvert_exporter": "python",
   "pygments_lexer": "ipython3",
   "version": "3.6.1"
  }
 },
 "nbformat": 4,
 "nbformat_minor": 2
}
