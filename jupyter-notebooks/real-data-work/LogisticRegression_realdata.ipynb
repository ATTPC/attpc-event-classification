{
 "cells": [
  {
   "cell_type": "code",
   "execution_count": 1,
   "metadata": {
    "collapsed": true
   },
   "outputs": [],
   "source": [
    "%matplotlib inline"
   ]
  },
  {
   "cell_type": "code",
   "execution_count": 2,
   "metadata": {
    "collapsed": true
   },
   "outputs": [],
   "source": [
    "import matplotlib.pyplot as plt\n",
    "\n",
    "import scipy as sp\n",
    "import numpy as np\n",
    "from sklearn.model_selection import train_test_split\n",
    "from sklearn.linear_model import LogisticRegression\n",
    "from sklearn import metrics"
   ]
  },
  {
   "cell_type": "code",
   "execution_count": 3,
   "metadata": {
    "collapsed": true
   },
   "outputs": [],
   "source": [
    "#loading simulated data\n",
    "p_sim = sp.sparse.load_npz('../../data/tilt/20x20x20/pDisc_noise_40000_20x20x20_tilt.npz')\n",
    "C_sim = sp.sparse.load_npz('../../data/tilt/20x20x20/CDisc_noise_40000_20x20x20_tilt.npz')\n",
    "junk_sim = sp.sparse.load_npz('../../data/tilt/20x20x20/noiseDisc_40000_20x20x20.npz')\n",
    "\n",
    "#loading real data\n",
    "p_0130 = sp.sparse.load_npz('../../data/real/20x20x20/run_0130_pDisc.npz')\n",
    "C_0130 = sp.sparse.load_npz('../../data/real/20x20x20/run_0130_CDisc.npz')\n",
    "junk_0130 = sp.sparse.load_npz('../../data/real/20x20x20/run_0130_junkDisc.npz')\n",
    "p_0210 = sp.sparse.load_npz('../../data/real/20x20x20/run_0210_pDisc.npz')\n",
    "C_0210 = sp.sparse.load_npz('../../data/real/20x20x20/run_0210_CDisc.npz')\n",
    "junk_0210 = sp.sparse.load_npz('../../data/real/20x20x20/run_0210_junkDisc.npz')\n",
    "\n",
    "p_real = sp.sparse.vstack([p_0130, p_0210], format='csr')\n",
    "C_real = sp.sparse.vstack([C_0130, C_0210], format='csr')\n",
    "junk_real = sp.sparse.vstack([junk_0130, junk_0210], format='csr')"
   ]
  },
  {
   "cell_type": "code",
   "execution_count": 4,
   "metadata": {
    "collapsed": true
   },
   "outputs": [],
   "source": [
    "#creating labels\n",
    "p_sim_labels = np.zeros((p_sim.shape[0],))\n",
    "C_sim_labels = np.ones((C_sim.shape[0],))\n",
    "junk_sim_labels = np.ones((junk_sim.shape[0],))\n",
    "\n",
    "p_real_labels = np.zeros((p_real.shape[0],))\n",
    "C_real_labels = np.ones((C_real.shape[0],))\n",
    "junk_real_labels = np.ones((junk_real.shape[0],))"
   ]
  },
  {
   "cell_type": "code",
   "execution_count": 5,
   "metadata": {},
   "outputs": [
    {
     "name": "stdout",
     "output_type": "stream",
     "text": [
      "Simulated proton events: 40001\n",
      "Simulated Carbon events: 40001\n",
      "Simulated junk events: 40000\n",
      "Real proton events: 663\n",
      "Real Carbon events: 340\n",
      "Real junk events: 1686\n"
     ]
    }
   ],
   "source": [
    "print(\"Simulated proton events: \" + str(p_sim.shape[0]))\n",
    "print(\"Simulated Carbon events: \" + str(C_sim.shape[0]))\n",
    "print(\"Simulated junk events: \" + str(junk_sim.shape[0]))\n",
    "\n",
    "print(\"Real proton events: \" + str(p_real.shape[0]))\n",
    "print(\"Real Carbon events: \" + str(C_real.shape[0]))\n",
    "print(\"Real junk events: \" + str(junk_real.shape[0]))"
   ]
  },
  {
   "cell_type": "markdown",
   "metadata": {},
   "source": [
    "# Predicting proton vs. Carbon (w/ Simulated Noise)"
   ]
  },
  {
   "cell_type": "code",
   "execution_count": 6,
   "metadata": {
    "collapsed": true
   },
   "outputs": [],
   "source": [
    "pC_sim = sp.sparse.vstack([p_sim, C_sim], format='csr')\n",
    "pC_sim_labels = np.hstack((p_sim_labels, C_sim_labels))\n",
    "\n",
    "pC_real = sp.sparse.vstack([p_real, C_real], format='csr')\n",
    "pC_real_labels = np.hstack((p_real_labels, C_real_labels))"
   ]
  },
  {
   "cell_type": "code",
   "execution_count": 7,
   "metadata": {
    "collapsed": true
   },
   "outputs": [],
   "source": [
    "pC_sim_train, pC_sim_test, pC_sim_labels_train, pC_sim_labels_test = train_test_split(pC_sim, pC_sim_labels, test_size=0.25, random_state=42)"
   ]
  },
  {
   "cell_type": "code",
   "execution_count": 8,
   "metadata": {},
   "outputs": [
    {
     "data": {
      "text/plain": [
       "LogisticRegression(C=0.1, class_weight=None, dual=False, fit_intercept=True,\n",
       "          intercept_scaling=1, max_iter=100, multi_class='ovr', n_jobs=1,\n",
       "          penalty='l2', random_state=None, solver='liblinear', tol=0.0001,\n",
       "          verbose=0, warm_start=False)"
      ]
     },
     "execution_count": 8,
     "metadata": {},
     "output_type": "execute_result"
    }
   ],
   "source": [
    "reg = 0.1\n",
    "lr_pC = LogisticRegression(C=reg)\n",
    "lr_pC.fit(pC_sim_train, pC_sim_labels_train)"
   ]
  },
  {
   "cell_type": "code",
   "execution_count": 9,
   "metadata": {},
   "outputs": [
    {
     "name": "stdout",
     "output_type": "stream",
     "text": [
      "Accuracy: 0.868856557172\n",
      "             precision    recall  f1-score   support\n",
      "\n",
      "        0.0       0.86      0.89      0.87     10007\n",
      "        1.0       0.88      0.85      0.87      9994\n",
      "\n",
      "avg / total       0.87      0.87      0.87     20001\n",
      "\n",
      "[[8863 1144]\n",
      " [1479 8515]]\n"
     ]
    }
   ],
   "source": [
    "#train on simulated + test on simulated \n",
    "pC_sim_pred = lr_pC.predict(pC_sim_test)\n",
    "\n",
    "print(\"Accuracy: \" + str(metrics.accuracy_score(pC_sim_labels_test, pC_sim_pred)))\n",
    "print(metrics.classification_report(pC_sim_labels_test, pC_sim_pred))\n",
    "print(metrics.confusion_matrix(pC_sim_labels_test, pC_sim_pred))"
   ]
  },
  {
   "cell_type": "code",
   "execution_count": 10,
   "metadata": {},
   "outputs": [
    {
     "name": "stdout",
     "output_type": "stream",
     "text": [
      "Accuracy: 0.50149551346\n",
      "             precision    recall  f1-score   support\n",
      "\n",
      "        0.0       0.96      0.26      0.40       663\n",
      "        1.0       0.40      0.98      0.57       340\n",
      "\n",
      "avg / total       0.77      0.50      0.46      1003\n",
      "\n",
      "[[170 493]\n",
      " [  7 333]]\n"
     ]
    }
   ],
   "source": [
    "#train on simulated + test on real\n",
    "pC_real_pred = lr_pC.predict(pC_real)\n",
    "\n",
    "print(\"Accuracy: \" + str(metrics.accuracy_score(pC_real_labels, pC_real_pred)))\n",
    "print(metrics.classification_report(pC_real_labels, pC_real_pred))\n",
    "print(metrics.confusion_matrix(pC_real_labels, pC_real_pred))"
   ]
  },
  {
   "cell_type": "code",
   "execution_count": 11,
   "metadata": {},
   "outputs": [
    {
     "name": "stdout",
     "output_type": "stream",
     "text": [
      "Simulated Data  C=1e-05 accuracy=0.764761761912\n",
      "Real Data       C=1e-05 accuracy=0.345962113659\n",
      "Simulated Data  C=0.0001 accuracy=0.853607319634\n",
      "Real Data       C=0.0001 accuracy=0.370887337986\n",
      "Simulated Data  C=0.001 accuracy=0.878756062197\n",
      "Real Data       C=0.001 accuracy=0.437686939182\n",
      "Simulated Data  C=0.01 accuracy=0.876556172191\n",
      "Real Data       C=0.01 accuracy=0.484546360917\n",
      "Simulated Data  C=0.1 accuracy=0.868856557172\n",
      "Real Data       C=0.1 accuracy=0.50149551346\n",
      "Simulated Data  C=1.0 accuracy=0.865656717164\n",
      "Real Data       C=1.0 accuracy=0.503489531406\n",
      "Simulated Data  C=10.0 accuracy=0.865306734663\n",
      "Real Data       C=10.0 accuracy=0.504486540379\n",
      "Simulated Data  C=100.0 accuracy=0.865256737163\n",
      "Real Data       C=100.0 accuracy=0.504486540379\n",
      "Simulated Data  C=1000.0 accuracy=0.865306734663\n",
      "Real Data       C=1000.0 accuracy=0.504486540379\n",
      "Simulated Data  C=10000.0 accuracy=0.865306734663\n",
      "Real Data       C=10000.0 accuracy=0.504486540379\n"
     ]
    }
   ],
   "source": [
    "C_vals = [10e-6, 10e-5, 10e-4, 10e-3, 10e-2, 10e-1, 10e0, 10e1, 10e2, 10e3]\n",
    "\n",
    "precisions_sim = []\n",
    "recalls_sim = []\n",
    "f1s_sim = []\n",
    "accuracies_sim = []\n",
    "\n",
    "precisions_real = []\n",
    "recalls_real = []\n",
    "f1s_real = []\n",
    "accuracies_real = []\n",
    "\n",
    "for c in C_vals:\n",
    "    pC_sim_pred = LogisticRegression(C=c).fit(pC_sim_train, pC_sim_labels_train).predict(pC_sim_test)\n",
    "    \n",
    "    precisions_sim.append(metrics.precision_score(pC_sim_labels_test, pC_sim_pred))\n",
    "    recalls_sim.append(metrics.recall_score(pC_sim_labels_test, pC_sim_pred))\n",
    "    f1s_sim.append(metrics.f1_score(pC_sim_labels_test, pC_sim_pred))\n",
    "    accuracies_sim.append(metrics.accuracy_score(pC_sim_labels_test, pC_sim_pred))\n",
    "    print(\"Simulated Data  C=\" + str(c) + \" accuracy=\" + str(metrics.accuracy_score(pC_sim_labels_test, pC_sim_pred)))\n",
    "    \n",
    "    pC_real_pred = LogisticRegression(C=c).fit(pC_sim_train, pC_sim_labels_train).predict(pC_real)\n",
    "    \n",
    "    precisions_real.append(metrics.precision_score(pC_real_labels, pC_real_pred))\n",
    "    recalls_real.append(metrics.recall_score(pC_real_labels, pC_real_pred))\n",
    "    f1s_real.append(metrics.f1_score(pC_real_labels, pC_real_pred))\n",
    "    accuracies_real.append(metrics.accuracy_score(pC_real_labels, pC_real_pred))\n",
    "    print(\"Real Data       C=\" + str(c) + \" accuracy=\" + str(metrics.accuracy_score(pC_real_labels, pC_real_pred)))"
   ]
  },
  {
   "cell_type": "code",
   "execution_count": 20,
   "metadata": {},
   "outputs": [
    {
     "data": {
      "image/png": "[encoded data removed]",
      "text/plain": [
       "<matplotlib.figure.Figure at 0x7f67e1acfe80>"
      ]
     },
     "metadata": {},
     "output_type": "display_data"
    }
   ],
   "source": [
    "a = np.arange(len(C_vals))\n",
    "\n",
    "plt.plot(C_vals, accuracies_sim)\n",
    "plt.plot(C_vals, accuracies_real)\n",
    "\n",
    "plt.xscale('log')\n",
    "        \n",
    "plt.xlabel('C (inverse regularization constant)')\n",
    "plt.ylabel('Accuracy')\n",
    "plt.title('Accuracy by Regularization')\n",
    "plt.legend(['Simulated Data', 'Real Data'], loc='lower right')\n",
    "\n",
    "plt.savefig('../../plots/results/real/LR_pC_accuracyxC.pdf')"
   ]
  },
  {
   "cell_type": "code",
   "execution_count": 14,
   "metadata": {},
   "outputs": [
    {
     "data": {
      "text/plain": [
       "<matplotlib.legend.Legend at 0x7ff6c4bdeb70>"
      ]
     },
     "execution_count": 14,
     "metadata": {},
     "output_type": "execute_result"
    },
    {
     "data": {
      "image/png": "[encoded data removed]",
      "text/plain": [
       "<matplotlib.figure.Figure at 0x7ff6c4c694a8>"
      ]
     },
     "metadata": {},
     "output_type": "display_data"
    }
   ],
   "source": [
    "a = np.arange(len(C_vals))\n",
    "\n",
    "plt.plot(C_vals, f1s_sim)\n",
    "plt.plot(C_vals, f1s_real)\n",
    "\n",
    "plt.xscale('log')\n",
    "        \n",
    "plt.xlabel('C (inverse regularization constant)')\n",
    "plt.ylabel('F1 Score')\n",
    "plt.title('F1 Score by Regularization')\n",
    "plt.legend(['Simulated Data', 'Real Data'], loc='lower right')\n",
    "\n",
    "#plt.savefig('')"
   ]
  },
  {
   "cell_type": "markdown",
   "metadata": {},
   "source": [
    "# Predicting proton vs. Carbon + junk (w/ Simulated Noise)"
   ]
  },
  {
   "cell_type": "code",
   "execution_count": 15,
   "metadata": {
    "collapsed": true
   },
   "outputs": [],
   "source": [
    "# proton 0s\n",
    "# Carbon+junk 1s\n",
    "pCjunk_sim = sp.sparse.vstack([p_sim, C_sim, junk_sim], format='csr')\n",
    "pCjunk_sim_labels = np.hstack((p_sim_labels, C_sim_labels, junk_sim_labels))\n",
    "\n",
    "pCjunk_real = sp.sparse.vstack([p_real, C_real, junk_real], format='csr')\n",
    "pCjunk_real_labels = np.hstack((p_real_labels, C_real_labels, junk_real_labels))"
   ]
  },
  {
   "cell_type": "code",
   "execution_count": 16,
   "metadata": {
    "collapsed": true
   },
   "outputs": [],
   "source": [
    "pCjunk_sim_train, pCjunk_sim_test, pCjunk_sim_labels_train, pCjunk_sim_labels_test = train_test_split(pCjunk_sim, pCjunk_sim_labels, test_size=0.25, random_state=42)"
   ]
  },
  {
   "cell_type": "code",
   "execution_count": 31,
   "metadata": {},
   "outputs": [
    {
     "data": {
      "text/plain": [
       "LogisticRegression(C=0.001, class_weight=None, dual=False, fit_intercept=True,\n",
       "          intercept_scaling=1, max_iter=100, multi_class='ovr', n_jobs=1,\n",
       "          penalty='l2', random_state=None, solver='liblinear', tol=0.0001,\n",
       "          verbose=0, warm_start=False)"
      ]
     },
     "execution_count": 31,
     "metadata": {},
     "output_type": "execute_result"
    }
   ],
   "source": [
    "reg = 0.001\n",
    "lr_pCjunk = LogisticRegression(C=reg)\n",
    "lr_pCjunk.fit(pCjunk_sim_train, pCjunk_sim_labels_train)"
   ]
  },
  {
   "cell_type": "code",
   "execution_count": 59,
   "metadata": {},
   "outputs": [
    {
     "name": "stdout",
     "output_type": "stream",
     "text": [
      "Accuracy: 0.636145461818\n",
      "             precision    recall  f1-score   support\n",
      "\n",
      "        0.0       0.41      0.19      0.26     10050\n",
      "        1.0       0.68      0.86      0.76     19951\n",
      "\n",
      "avg / total       0.59      0.64      0.59     30001\n",
      "\n",
      "[[ 1954  8096]\n",
      " [ 2820 17131]]\n"
     ]
    }
   ],
   "source": [
    "#train on simulated + test on simulated \n",
    "pCjunk_sim_pred = lr_pCjunk.predict(pCjunk_sim_test)\n",
    "\n",
    "print(\"Accuracy: \" + str(metrics.accuracy_score(pCjunk_sim_labels_test, pCjunk_sim_pred)))\n",
    "print(metrics.classification_report(pCjunk_sim_labels_test, pCjunk_sim_pred))\n",
    "print(metrics.confusion_matrix(pCjunk_sim_labels_test, pCjunk_sim_pred))"
   ]
  },
  {
   "cell_type": "code",
   "execution_count": 60,
   "metadata": {},
   "outputs": [
    {
     "name": "stdout",
     "output_type": "stream",
     "text": [
      "Accuracy: 0.771662328003\n",
      "             precision    recall  f1-score   support\n",
      "\n",
      "        0.0       0.83      0.09      0.17       663\n",
      "        1.0       0.77      0.99      0.87      2026\n",
      "\n",
      "avg / total       0.78      0.77      0.70      2689\n",
      "\n",
      "[[  62  601]\n",
      " [  13 2013]]\n",
      "(2689,)\n",
      "2614.0\n"
     ]
    }
   ],
   "source": [
    "#train on simulated + test on real \n",
    "pCjunk_real_pred = lr_pCjunk.predict(pCjunk_real)\n",
    "\n",
    "print(\"Accuracy: \" + str(metrics.accuracy_score(pCjunk_real_labels, pCjunk_real_pred)))\n",
    "print(metrics.classification_report(pCjunk_real_labels, pCjunk_real_pred))\n",
    "print(metrics.confusion_matrix(pCjunk_real_labels, pCjunk_real_pred))\n",
    "\n",
    "print(pCjunk_real_pred.shape)\n",
    "print(np.sum(pCjunk_real_pred))"
   ]
  },
  {
   "cell_type": "markdown",
   "metadata": {},
   "source": [
    "# Predicting proton vs. Carbon vs. junk (w/ Simulated Noise) - **multi-class**"
   ]
  },
  {
   "cell_type": "code",
   "execution_count": 61,
   "metadata": {
    "collapsed": true
   },
   "outputs": [],
   "source": [
    "#protons 0\n",
    "#carbons 1\n",
    "#junk 2\n",
    "\n",
    "#create junk 2s labels\n",
    "junkMC_sim_labels = np.full(junk_sim_labels.shape, 2)\n",
    "junkMC_real_labels = np.full(junk_real_labels.shape, 2)\n",
    "\n",
    "multi_sim = sp.sparse.vstack([p_sim, C_sim, junk_sim], format='csr')\n",
    "multi_sim_labels = np.hstack((p_sim_labels, C_sim_labels, junkMC_sim_labels))\n",
    "\n",
    "multi_real = sp.sparse.vstack([p_real, C_real, junk_real], format='csr')\n",
    "multi_real_labels = np.hstack((p_real_labels, C_real_labels, junkMC_real_labels))"
   ]
  },
  {
   "cell_type": "code",
   "execution_count": 62,
   "metadata": {},
   "outputs": [
    {
     "name": "stdout",
     "output_type": "stream",
     "text": [
      "(120002,)\n",
      "(2689,)\n"
     ]
    }
   ],
   "source": [
    "print(multi_sim_labels.shape)\n",
    "print(multi_real_labels.shape)"
   ]
  },
  {
   "cell_type": "code",
   "execution_count": 63,
   "metadata": {
    "collapsed": true
   },
   "outputs": [],
   "source": [
    "multi_sim_train, multi_sim_test, multi_sim_labels_train, multi_sim_labels_test = train_test_split(multi_sim, multi_sim_labels, test_size=0.25, random_state=42)"
   ]
  },
  {
   "cell_type": "code",
   "execution_count": 64,
   "metadata": {},
   "outputs": [
    {
     "data": {
      "text/plain": [
       "LogisticRegression(C=0.001, class_weight=None, dual=False, fit_intercept=True,\n",
       "          intercept_scaling=1, max_iter=100, multi_class='ovr', n_jobs=1,\n",
       "          penalty='l2', random_state=None, solver='liblinear', tol=0.0001,\n",
       "          verbose=0, warm_start=False)"
      ]
     },
     "execution_count": 64,
     "metadata": {},
     "output_type": "execute_result"
    }
   ],
   "source": [
    "reg = 0.001\n",
    "lr_multi = LogisticRegression(C=reg, multi_class='ovr')\n",
    "lr_multi.fit(multi_sim_train, multi_sim_labels_train)"
   ]
  },
  {
   "cell_type": "code",
   "execution_count": 67,
   "metadata": {},
   "outputs": [
    {
     "name": "stdout",
     "output_type": "stream",
     "text": [
      "Accuracy: 0.712076264125\n",
      "             precision    recall  f1-score   support\n",
      "\n",
      "        0.0       0.63      0.45      0.52     10050\n",
      "        1.0       0.83      0.90      0.86     10053\n",
      "        2.0       0.66      0.79      0.72      9898\n",
      "\n",
      "avg / total       0.70      0.71      0.70     30001\n",
      "\n",
      "[[4479 1651 3920]\n",
      " [ 806 9042  205]\n",
      " [1827  229 7842]]\n"
     ]
    }
   ],
   "source": [
    "#train on simulated + test on simulated \n",
    "multi_sim_pred = lr_multi.predict(multi_sim_test)\n",
    "\n",
    "print(\"Accuracy: \" + str(metrics.accuracy_score(multi_sim_labels_test, multi_sim_pred)))\n",
    "print(metrics.classification_report(multi_sim_labels_test, multi_sim_pred))\n",
    "print(metrics.confusion_matrix(multi_sim_labels_test, multi_sim_pred))"
   ]
  },
  {
   "cell_type": "code",
   "execution_count": 68,
   "metadata": {},
   "outputs": [
    {
     "name": "stdout",
     "output_type": "stream",
     "text": [
      "Accuracy: 0.246931944961\n",
      "             precision    recall  f1-score   support\n",
      "\n",
      "        0.0       0.56      0.11      0.18       663\n",
      "        1.0       0.15      0.98      0.25       340\n",
      "        2.0       0.92      0.15      0.26      1686\n",
      "\n",
      "avg / total       0.73      0.25      0.24      2689\n",
      "\n",
      "[[  71  574   18]\n",
      " [   1  333    6]\n",
      " [  55 1371  260]]\n"
     ]
    }
   ],
   "source": [
    "#train on simulated + test on simulated \n",
    "multi_real_pred = lr_multi.predict(multi_real)\n",
    "\n",
    "print(\"Accuracy: \" + str(metrics.accuracy_score(multi_real_labels, multi_real_pred)))\n",
    "print(metrics.classification_report(multi_real_labels, multi_real_pred))\n",
    "print(metrics.confusion_matrix(multi_real_labels, multi_real_pred))"
   ]
  },
  {
   "cell_type": "markdown",
   "metadata": {
    "collapsed": true
   },
   "source": [
    "# Predicting proton vs. junk (w/ Simulated Noise)"
   ]
  },
  {
   "cell_type": "code",
   "execution_count": 13,
   "metadata": {
    "collapsed": true
   },
   "outputs": [],
   "source": [
    "# proton 0s\n",
    "# junk 1s\n",
    "pjunk_sim = sp.sparse.vstack([p_sim, junk_sim], format='csr')\n",
    "pjunk_sim_labels = np.hstack((p_sim_labels, junk_sim_labels))\n",
    "\n",
    "pjunk_real = sp.sparse.vstack([p_real, junk_real], format='csr')\n",
    "pjunk_real_labels = np.hstack((p_real_labels, junk_real_labels))"
   ]
  },
  {
   "cell_type": "code",
   "execution_count": 14,
   "metadata": {
    "collapsed": true
   },
   "outputs": [],
   "source": [
    "pjunk_sim_train, pjunk_sim_test, pjunk_sim_labels_train, pjunk_sim_labels_test = train_test_split(pjunk_sim, pjunk_sim_labels, test_size=0.25, random_state=42)"
   ]
  },
  {
   "cell_type": "code",
   "execution_count": 17,
   "metadata": {},
   "outputs": [
    {
     "data": {
      "text/plain": [
       "LogisticRegression(C=0.001, class_weight=None, dual=False, fit_intercept=True,\n",
       "          intercept_scaling=1, max_iter=100, multi_class='ovr', n_jobs=1,\n",
       "          penalty='l2', random_state=None, solver='liblinear', tol=0.0001,\n",
       "          verbose=0, warm_start=False)"
      ]
     },
     "execution_count": 17,
     "metadata": {},
     "output_type": "execute_result"
    }
   ],
   "source": [
    "reg = 0.001\n",
    "lr_pjunk = LogisticRegression(C=reg)\n",
    "lr_pjunk.fit(pjunk_sim_train, pjunk_sim_labels_train)"
   ]
  },
  {
   "cell_type": "code",
   "execution_count": 18,
   "metadata": {},
   "outputs": [
    {
     "name": "stdout",
     "output_type": "stream",
     "text": [
      "Accuracy: 0.726563671816\n",
      "             precision    recall  f1-score   support\n",
      "\n",
      "        0.0       0.74      0.69      0.72     10002\n",
      "        1.0       0.71      0.76      0.74      9999\n",
      "\n",
      "avg / total       0.73      0.73      0.73     20001\n",
      "\n",
      "[[6941 3061]\n",
      " [2408 7591]]\n"
     ]
    }
   ],
   "source": [
    "#train on simulated + test on simulated \n",
    "pjunk_sim_pred = lr_pjunk.predict(pjunk_sim_test)\n",
    "\n",
    "print(\"Accuracy: \" + str(metrics.accuracy_score(pjunk_sim_labels_test, pjunk_sim_pred)))\n",
    "print(metrics.classification_report(pjunk_sim_labels_test, pjunk_sim_pred))\n",
    "print(metrics.confusion_matrix(pjunk_sim_labels_test, pjunk_sim_pred))"
   ]
  },
  {
   "cell_type": "code",
   "execution_count": 19,
   "metadata": {},
   "outputs": [
    {
     "name": "stdout",
     "output_type": "stream",
     "text": [
      "Accuracy: 0.363133248191\n",
      "             precision    recall  f1-score   support\n",
      "\n",
      "        0.0       0.30      0.97      0.46       663\n",
      "        1.0       0.91      0.12      0.22      1686\n",
      "\n",
      "avg / total       0.74      0.36      0.29      2349\n",
      "\n",
      "[[ 643   20]\n",
      " [1476  210]]\n"
     ]
    }
   ],
   "source": [
    "#train on simulated + test on real \n",
    "pjunk_real_pred = lr_pjunk.predict(pjunk_real)\n",
    "\n",
    "print(\"Accuracy: \" + str(metrics.accuracy_score(pjunk_real_labels, pjunk_real_pred)))\n",
    "print(metrics.classification_report(pjunk_real_labels, pjunk_real_pred))\n",
    "print(metrics.confusion_matrix(pjunk_real_labels, pjunk_real_pred))"
   ]
  },
  {
   "cell_type": "code",
   "execution_count": null,
   "metadata": {
    "collapsed": true
   },
   "outputs": [],
   "source": []
  }
 ],
 "metadata": {
  "kernelspec": {
   "display_name": "Python 3",
   "language": "python",
   "name": "python3"
  },
  "language_info": {
   "codemirror_mode": {
    "name": "ipython",
    "version": 3
   },
   "file_extension": ".py",
   "mimetype": "text/x-python",
   "name": "python",
   "nbconvert_exporter": "python",
   "pygments_lexer": "ipython3",
   "version": "3.6.1"
  }
 },
 "nbformat": 4,
 "nbformat_minor": 2
}
