{
 "cells": [
  {
   "cell_type": "code",
   "execution_count": 2,
   "metadata": {
    "collapsed": true
   },
   "outputs": [],
   "source": [
    "%matplotlib inline"
   ]
  },
  {
   "cell_type": "code",
   "execution_count": 3,
   "metadata": {
    "collapsed": true
   },
   "outputs": [],
   "source": [
    "import matplotlib.pyplot as plt\n",
    "\n",
    "import scipy as sp\n",
    "import numpy as np\n",
    "from sklearn.model_selection import train_test_split\n",
    "from sklearn.linear_model import LogisticRegression\n",
    "from sklearn import metrics\n",
    "\n",
    "from sklearn.model_selection import GridSearchCV\n",
    "from sklearn.metrics import classification_report"
   ]
  },
  {
   "cell_type": "code",
   "execution_count": 4,
   "metadata": {
    "collapsed": true
   },
   "outputs": [],
   "source": [
    "p_data_nocharge = sp.sparse.load_npz('/home/taylor/Documents/independent-research/data/20x20x20/pDisc_40000_nocharge.npz')\n",
    "C_data_nocharge = sp.sparse.load_npz('/home/taylor/Documents/independent-research/data/20x20x20/CDisc_40000_nocharge.npz')\n",
    "\n",
    "\n",
    "p_data_charge = sp.sparse.load_npz('/home/taylor/Documents/independent-research/data/20x20x20/pDisc_40000_charge.npz')\n",
    "C_data_charge = sp.sparse.load_npz('/home/taylor/Documents/independent-research/data/20x20x20/CDisc_40000_charge.npz')\n",
    "\n",
    "#same labels will work\n",
    "p_labels = np.zeros((p_data_nocharge.shape[0],))\n",
    "C_labels = np.ones((C_data_nocharge.shape[0],))"
   ]
  },
  {
   "cell_type": "code",
   "execution_count": 5,
   "metadata": {},
   "outputs": [
    {
     "name": "stdout",
     "output_type": "stream",
     "text": [
      "(80002, 8000)\n",
      "(80002, 8000)\n",
      "(80002,)\n"
     ]
    }
   ],
   "source": [
    "full_data_nocharge = sp.sparse.vstack([p_data_nocharge, C_data_nocharge], format='csr')\n",
    "full_data_charge = sp.sparse.vstack([p_data_charge, C_data_charge], format='csr')\n",
    "\n",
    "full_labels = np.hstack((p_labels, C_labels))\n",
    "print(full_data_nocharge.shape)\n",
    "print(full_data_charge.shape)\n",
    "\n",
    "print(full_labels.shape)"
   ]
  },
  {
   "cell_type": "code",
   "execution_count": 6,
   "metadata": {
    "collapsed": true
   },
   "outputs": [],
   "source": [
    "X_train_nc, X_test_nc, y_train_nc, y_test_nc = train_test_split(full_data_nocharge, full_labels, test_size=0.25, random_state=42)\n",
    "\n",
    "X_train_c, X_test_c, y_train_c, y_test_c = train_test_split(full_data_charge, full_labels, test_size=0.25, random_state=42)"
   ]
  },
  {
   "cell_type": "code",
   "execution_count": 7,
   "metadata": {
    "collapsed": true
   },
   "outputs": [],
   "source": [
    "reg = 1\n",
    "iterations = 1000\n",
    "nc = LogisticRegression(C=reg, max_iter=iterations)\n",
    "y_pred = nc.fit(X_train_nc, y_train_nc).predict(X_test_nc)"
   ]
  },
  {
   "cell_type": "code",
   "execution_count": 8,
   "metadata": {},
   "outputs": [
    {
     "name": "stdout",
     "output_type": "stream",
     "text": [
      "With regularization C=1 precision: 0.665347081569\n",
      "With regularization C=1 accuracy: 0.6799160042\n",
      "             precision    recall  f1-score   support\n",
      "\n",
      "        0.0       0.70      0.64      0.67     10007\n",
      "        1.0       0.67      0.72      0.69      9994\n",
      "\n",
      "avg / total       0.68      0.68      0.68     20001\n",
      "\n"
     ]
    }
   ],
   "source": [
    "print(\"With regularization C=\" + str(reg) + \" precision: \" + str(metrics.precision_score(y_test_nc, y_pred)))\n",
    "print(\"With regularization C=\" + str(reg) + \" accuracy: \" + str(metrics.accuracy_score(y_test_nc, y_pred)))\n",
    "print(metrics.classification_report(y_test_nc, y_pred))"
   ]
  },
  {
   "cell_type": "code",
   "execution_count": 9,
   "metadata": {},
   "outputs": [
    {
     "name": "stdout",
     "output_type": "stream",
     "text": [
      "[1e-05, 0.0001, 0.001, 0.01, 0.1, 1.0, 10.0, 100.0, 1000.0, 10000.0]\n"
     ]
    }
   ],
   "source": [
    "C_vals = [10e-6, 10e-5, 10e-4, 10e-3, 10e-2, 10e-1, 10e0, 10e1, 10e2, 10e3]\n",
    "print(C_vals)"
   ]
  },
  {
   "cell_type": "code",
   "execution_count": 10,
   "metadata": {
    "collapsed": true
   },
   "outputs": [],
   "source": [
    "precisions_nc = []\n",
    "recalls_nc = []\n",
    "f1s_nc = []\n",
    "\n",
    "precisions_c = []\n",
    "recalls_c = []\n",
    "f1s_c = []\n",
    "\n",
    "for c in C_vals:\n",
    "    y_pred_nc = LogisticRegression(C=c, max_iter=iterations).fit(X_train_nc, y_train_nc).predict(X_test_nc)\n",
    "    \n",
    "    precisions_nc.append(metrics.precision_score(y_test_nc, y_pred_nc))\n",
    "    recalls_nc.append(metrics.recall_score(y_test_nc, y_pred_nc))\n",
    "    f1s_nc.append(metrics.f1_score(y_test_nc, y_pred_nc))\n",
    "    \n",
    "    y_pred_c = LogisticRegression(C=c, max_iter=iterations).fit(X_train_c, y_train_c).predict(X_test_c)\n",
    "    \n",
    "    precisions_c.append(metrics.precision_score(y_test_c, y_pred_c))\n",
    "    recalls_c.append(metrics.recall_score(y_test_c, y_pred_c))\n",
    "    f1s_c.append(metrics.f1_score(y_test_c, y_pred_c))"
   ]
  },
  {
   "cell_type": "code",
   "execution_count": 13,
   "metadata": {},
   "outputs": [
    {
     "data": {
      "text/plain": [
       "<matplotlib.legend.Legend at 0x7f6ea1ff6f60>"
      ]
     },
     "execution_count": 13,
     "metadata": {},
     "output_type": "execute_result"
    },
    {
     "data": {
      "image/png": "[encoded data removed]",
      "text/plain": [
       "<matplotlib.figure.Figure at 0x7f6ea20cce48>"
      ]
     },
     "metadata": {},
     "output_type": "display_data"
    }
   ],
   "source": [
    "a = np.arange(len(C_vals))\n",
    "\n",
    "plt.plot(C_vals, f1s_nc)\n",
    "plt.plot(C_vals, f1s_c)\n",
    "\n",
    "plt.xscale('log')\n",
    "        \n",
    "plt.xlabel('C (inverse regularization constant)')\n",
    "plt.ylabel('F1 Score')\n",
    "plt.title('F1 Score by Regularization')\n",
    "plt.legend(['no charge', 'charge'], loc='lower right')\n",
    "\n",
    "#plt.savefig('/home/taylor/Documents/independent-research/plots/LogisticRegression_F1xC.pdf')"
   ]
  },
  {
   "cell_type": "code",
   "execution_count": null,
   "metadata": {
    "collapsed": true
   },
   "outputs": [],
   "source": [
    "fig, ax = plt.subplots(1, 2, squeeze=True, figsize=(18, 6))\n",
    "\n",
    "ax[0].plot(C_vals, precisions)\n",
    "ax[0].semilogx()     \n",
    "ax[0].set_ylim(0,1)\n",
    "ax[0].set_xlabel('C (inverse regularization constant)')\n",
    "ax[0].set_ylabel('Precision')\n",
    "ax[0].set_title('LR Precision by Regularization')\n",
    "ax[0].grid()\n",
    "\n",
    "#######################################################################################################################\n",
    "ax[1].plot(C_vals, recalls, c='orange')\n",
    "ax[1].semilogx()\n",
    "ax[1].set_ylim(0,1)\n",
    "ax[1].set_xlabel('C (inverse regularization constant)')\n",
    "ax[1].set_ylabel('Recall')\n",
    "ax[1].set_title('LR Recall by Regularization')\n",
    "ax[1].grid()\n",
    "\n",
    "#fig.savefig('/home/taylor/Documents/independent-research/plots/LogisticRegression_C_PR.pdf')"
   ]
  },
  {
   "cell_type": "code",
   "execution_count": null,
   "metadata": {
    "collapsed": true
   },
   "outputs": [],
   "source": []
  },
  {
   "cell_type": "code",
   "execution_count": null,
   "metadata": {
    "collapsed": true
   },
   "outputs": [],
   "source": [
    "param_grid = {'C': [10e-6, 10e-5, 10e-4, 10e-3, 10e-2, 10e-1, 10e0, 10e1, 10e2, 10e3]}\n",
    "scores = ['precision', 'recall']\n",
    "\n",
    "for score in scores:\n",
    "    print(\"# Tuning hyper-parameters for %s\" % score)\n",
    "    print()\n",
    "    clf = GridSearchCV(LogisticRegression(), param_grid)\n",
    "    clf.fit(X_train, y_train)\n",
    "    \n",
    "    print(\"Best parameters set found on development set:\")\n",
    "    print()\n",
    "    print(clf.best_params_)\n",
    "    print()\n",
    "    print(\"Grid scores on development set:\")\n",
    "    print()\n",
    "    means = clf.cv_results_['mean_test_score']\n",
    "    stds = clf.cv_results_['std_test_score']\n",
    "    for mean, std, params in zip(means, stds, clf.cv_results_['params']):\n",
    "        print(\"%0.3f (+/-%0.03f) for %r\"\n",
    "              % (mean, std * 2, params))\n",
    "    print()\n",
    "\n",
    "    print(\"Detailed classification report:\")\n",
    "    print()\n",
    "    print(\"The model is trained on the full development set.\")\n",
    "    print(\"The scores are computed on the full evaluation set.\")\n",
    "    print()\n",
    "    y_true, y_pred = y_test, clf.predict(X_test)\n",
    "    print(classification_report(y_true, y_pred))\n",
    "    print('')"
   ]
  },
  {
   "cell_type": "code",
   "execution_count": null,
   "metadata": {
    "collapsed": true
   },
   "outputs": [],
   "source": []
  }
 ],
 "metadata": {
  "kernelspec": {
   "display_name": "Python 3",
   "language": "python",
   "name": "python3"
  },
  "language_info": {
   "codemirror_mode": {
    "name": "ipython",
    "version": 3
   },
   "file_extension": ".py",
   "mimetype": "text/x-python",
   "name": "python",
   "nbconvert_exporter": "python",
   "pygments_lexer": "ipython3",
   "version": "3.6.1"
  }
 },
 "nbformat": 4,
 "nbformat_minor": 2
}
