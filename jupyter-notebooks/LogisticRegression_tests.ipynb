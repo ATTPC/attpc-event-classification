{
 "cells": [
  {
   "cell_type": "code",
   "execution_count": 63,
   "metadata": {
    "collapsed": true
   },
   "outputs": [],
   "source": [
    "%matplotlib inline"
   ]
  },
  {
   "cell_type": "code",
   "execution_count": 64,
   "metadata": {
    "collapsed": true
   },
   "outputs": [],
   "source": [
    "import matplotlib.pyplot as plt\n",
    "\n",
    "import scipy as sp\n",
    "import numpy as np\n",
    "from sklearn.model_selection import train_test_split\n",
    "from sklearn.linear_model import LogisticRegression\n",
    "from sklearn import metrics\n",
    "\n",
    "from sklearn.model_selection import GridSearchCV\n",
    "from sklearn.metrics import classification_report"
   ]
  },
  {
   "cell_type": "code",
   "execution_count": 65,
   "metadata": {
    "collapsed": true
   },
   "outputs": [],
   "source": [
    "p_data_nocharge = sp.sparse.load_npz('../data/NO-tilt/wrong-detector-length/20x20x20/pDisc_40000_nocharge.npz')\n",
    "C_data_nocharge = sp.sparse.load_npz('../data/NO-tilt/wrong-detector-length/20x20x20/CDisc_40000_nocharge.npz')\n",
    "\n",
    "\n",
    "p_data_charge = sp.sparse.load_npz('../data/NO-tilt/wrong-detector-length/20x20x20/pDisc_40000_charge.npz')\n",
    "C_data_charge = sp.sparse.load_npz('../data/NO-tilt/wrong-detector-length/20x20x20/CDisc_40000_charge.npz')\n",
    "\n",
    "#same labels will work\n",
    "p_labels = np.zeros((p_data.shape[0],))\n",
    "C_labels = np.ones((C_data.shape[0],))"
   ]
  },
  {
   "cell_type": "code",
   "execution_count": 66,
   "metadata": {},
   "outputs": [
    {
     "name": "stdout",
     "output_type": "stream",
     "text": [
      "(80002, 8000)\n",
      "(80002, 8000)\n",
      "(80002,)\n"
     ]
    }
   ],
   "source": [
    "full_data_nocharge = sp.sparse.vstack([p_data_nocharge, C_data_nocharge], format='csr')\n",
    "full_data_c = sp.sparse.vstack([p_data_charge, C_data_charge], format='csr')\n",
    "\n",
    "full_labels = np.hstack((p_labels, C_labels))\n",
    "print(full_data_nocharge.shape)\n",
    "print(full_data_c.shape)\n",
    "\n",
    "print(full_labels.shape)"
   ]
  },
  {
   "cell_type": "code",
   "execution_count": 67,
   "metadata": {
    "collapsed": true
   },
   "outputs": [],
   "source": [
    "X_train_nc, X_test_nc, y_train_nc, y_test_nc = train_test_split(full_data_nocharge, full_labels, test_size=0.25, random_state=42)\n",
    "\n",
    "X_train_c, X_test_c, y_train_c, y_test_c = train_test_split(full_data, full_labels, test_size=0.25, random_state=42)"
   ]
  },
  {
   "cell_type": "code",
   "execution_count": 71,
   "metadata": {
    "collapsed": true
   },
   "outputs": [],
   "source": [
    "reg = 1\n",
    "iterations = 1000\n",
    "nc = LogisticRegression(C=reg, max_iter=iterations)\n",
    "y_pred_c = nc.fit(X_train_c, y_train_c).predict(X_test_c)"
   ]
  },
  {
   "cell_type": "code",
   "execution_count": 72,
   "metadata": {},
   "outputs": [
    {
     "name": "stdout",
     "output_type": "stream",
     "text": [
      "With regularization C=1 precision: 0.969270298047\n",
      "With regularization C=1 accuracy: 0.956902154892\n",
      "             precision    recall  f1-score   support\n",
      "\n",
      "        0.0       0.95      0.97      0.96     10007\n",
      "        1.0       0.97      0.94      0.96      9994\n",
      "\n",
      "avg / total       0.96      0.96      0.96     20001\n",
      "\n"
     ]
    }
   ],
   "source": [
    "print(\"With regularization C=\" + str(reg) + \" precision: \" + str(metrics.precision_score(y_test_c, y_pred_c)))\n",
    "print(\"With regularization C=\" + str(reg) + \" accuracy: \" + str(metrics.accuracy_score(y_test_c, y_pred_c)))\n",
    "print(metrics.classification_report(y_test_c, y_pred_c))"
   ]
  },
  {
   "cell_type": "code",
   "execution_count": 73,
   "metadata": {},
   "outputs": [
    {
     "name": "stdout",
     "output_type": "stream",
     "text": [
      "[1e-05, 0.0001, 0.001, 0.01, 0.1, 1.0, 10.0, 100.0, 1000.0, 10000.0]\n"
     ]
    }
   ],
   "source": [
    "C_vals = [10e-6, 10e-5, 10e-4, 10e-3, 10e-2, 10e-1, 10e0, 10e1, 10e2, 10e3]\n",
    "print(C_vals)"
   ]
  },
  {
   "cell_type": "code",
   "execution_count": 74,
   "metadata": {},
   "outputs": [
    {
     "name": "stdout",
     "output_type": "stream",
     "text": [
      "No Charge and C=1e-05 f1=0.0348384585442\n",
      "Charge and C=1e-05 f1=0.694250477679\n",
      "No Charge and C=0.0001 f1=0.490805168986\n",
      "Charge and C=0.0001 f1=0.935483870968\n",
      "No Charge and C=0.001 f1=0.676499881432\n",
      "Charge and C=0.001 f1=0.953618371355\n",
      "No Charge and C=0.01 f1=0.70465399382\n",
      "Charge and C=0.01 f1=0.956477732794\n",
      "No Charge and C=0.1 f1=0.701562202324\n",
      "Charge and C=0.1 f1=0.957368074213\n",
      "No Charge and C=1.0 f1=0.693037974684\n",
      "Charge and C=1.0 f1=0.956296897181\n",
      "No Charge and C=10.0 f1=0.689791016094\n",
      "Charge and C=10.0 f1=0.955794383048\n",
      "No Charge and C=100.0 f1=0.688398480696\n",
      "Charge and C=100.0 f1=0.955679513185\n",
      "No Charge and C=1000.0 f1=0.688371645667\n",
      "Charge and C=1000.0 f1=0.955529638456\n",
      "No Charge and C=10000.0 f1=0.688434719885\n",
      "Charge and C=10000.0 f1=0.955578093306\n"
     ]
    }
   ],
   "source": [
    "precisions_nc = []\n",
    "recalls_nc = []\n",
    "f1s_nc = []\n",
    "accuracies_nc = []\n",
    "\n",
    "precisions_c = []\n",
    "recalls_c = []\n",
    "f1s_c = []\n",
    "accuracies_c = []\n",
    "\n",
    "for c in C_vals:\n",
    "    y_pred_nc = LogisticRegression(C=c, max_iter=iterations).fit(X_train_nc, y_train_nc).predict(X_test_nc)\n",
    "    \n",
    "    precisions_nc.append(metrics.precision_score(y_test_nc, y_pred_nc))\n",
    "    recalls_nc.append(metrics.recall_score(y_test_nc, y_pred_nc))\n",
    "    f1s_nc.append(metrics.f1_score(y_test_nc, y_pred_nc))\n",
    "    accuracies_nc.append(metrics.accuracy_score(y_test_nc, y_pred_nc))\n",
    "    print(\"No Charge and C=\" + str(c) + \" f1=\" + str(metrics.f1_score(y_test_nc, y_pred_nc)))\n",
    "    \n",
    "    y_pred_c = LogisticRegression(C=c, max_iter=iterations).fit(X_train_c, y_train_c).predict(X_test_c)\n",
    "    \n",
    "    precisions_c.append(metrics.precision_score(y_test_c, y_pred_c))\n",
    "    recalls_c.append(metrics.recall_score(y_test_c, y_pred_c))\n",
    "    f1s_c.append(metrics.f1_score(y_test_c, y_pred_c))\n",
    "    accuracies_c.append(metrics.accuracy_score(y_test_c, y_pred_c))\n",
    "    print(\"Charge and C=\" + str(c) + \" f1=\" + str(metrics.f1_score(y_test_c, y_pred_c)))"
   ]
  },
  {
   "cell_type": "code",
   "execution_count": 53,
   "metadata": {},
   "outputs": [
    {
     "name": "stdout",
     "output_type": "stream",
     "text": [
      "0.686715664217\n",
      "0.957952102395\n"
     ]
    }
   ],
   "source": [
    "print(max(accuracies_nc))\n",
    "print(max(accuracies_c))\n",
    "#print(max(f1s_nc))\n",
    "#print(max(f1s_c))"
   ]
  },
  {
   "cell_type": "code",
   "execution_count": 75,
   "metadata": {},
   "outputs": [
    {
     "data": {
      "text/plain": [
       "<matplotlib.text.Text at 0x7fa09014c898>"
      ]
     },
     "execution_count": 75,
     "metadata": {},
     "output_type": "execute_result"
    },
    {
     "data": {
      "image/png": "[encoded data removed]",
      "text/plain": [
       "<matplotlib.figure.Figure at 0x7fa09019a080>"
      ]
     },
     "metadata": {},
     "output_type": "display_data"
    }
   ],
   "source": [
    "plt.plot(C_vals, f1s_c)\n",
    "\n",
    "plt.xscale('log')\n",
    "        \n",
    "plt.xlabel('C (inverse regularization constant)')\n",
    "plt.ylabel('F1 Score')\n",
    "plt.title('F1 Score by Regularization - Fixed Discretization')\n",
    "\n",
    "#plt.savefig('/home/taylor/Documents/independent-research/plots/results/LogisticRegression_F1xC_CorrectDisc.pdf')"
   ]
  },
  {
   "cell_type": "code",
   "execution_count": 76,
   "metadata": {},
   "outputs": [
    {
     "data": {
      "text/plain": [
       "<matplotlib.legend.Legend at 0x7fa09011d898>"
      ]
     },
     "execution_count": 76,
     "metadata": {},
     "output_type": "execute_result"
    },
    {
     "data": {
      "image/png": "[encoded data removed]",
      "text/plain": [
       "<matplotlib.figure.Figure at 0x7fa0900eae80>"
      ]
     },
     "metadata": {},
     "output_type": "display_data"
    }
   ],
   "source": [
    "a = np.arange(len(C_vals))\n",
    "\n",
    "plt.plot(C_vals, f1s_nc)\n",
    "plt.plot(C_vals, f1s_c)\n",
    "\n",
    "plt.xscale('log')\n",
    "        \n",
    "plt.xlabel('C (inverse regularization constant)')\n",
    "plt.ylabel('F1 Score')\n",
    "plt.title('F1 Score by Regularization')\n",
    "plt.legend(['no charge', 'charge'], loc='lower right')\n",
    "\n",
    "#plt.savefig('../plots/results/wrong-detector-length/LogisticRegression_F1xC.pdf')"
   ]
  },
  {
   "cell_type": "code",
   "execution_count": 77,
   "metadata": {},
   "outputs": [
    {
     "data": {
      "image/png": "[encoded data removed]",
      "text/plain": [
       "<matplotlib.figure.Figure at 0x7fa090b95c50>"
      ]
     },
     "metadata": {},
     "output_type": "display_data"
    }
   ],
   "source": [
    "fig, ax = plt.subplots(1, 2, squeeze=True, figsize=(18, 6))\n",
    "\n",
    "ax[0].plot(C_vals, precisions_nc)\n",
    "ax[0].semilogx()     \n",
    "ax[0].set_ylim(0,1)\n",
    "ax[0].set_xlabel('C (inverse regularization constant)')\n",
    "ax[0].set_ylabel('Precision')\n",
    "ax[0].set_title('LR Precision by Regularization')\n",
    "ax[0].grid()\n",
    "\n",
    "#######################################################################################################################\n",
    "ax[1].plot(C_vals, recalls_nc, c='orange')\n",
    "ax[1].semilogx()\n",
    "ax[1].set_ylim(0,1)\n",
    "ax[1].set_xlabel('C (inverse regularization constant)')\n",
    "ax[1].set_ylabel('Recall')\n",
    "ax[1].set_title('LR Recall by Regularization')\n",
    "ax[1].grid()\n",
    "\n",
    "#fig.savefig('/home/taylor/Documents/independent-research/plots/results/LogisticRegression_C_PR.pdf')"
   ]
  },
  {
   "cell_type": "code",
   "execution_count": null,
   "metadata": {
    "collapsed": true
   },
   "outputs": [],
   "source": []
  },
  {
   "cell_type": "code",
   "execution_count": 78,
   "metadata": {
    "collapsed": true
   },
   "outputs": [],
   "source": [
    "# param_grid = {'C': [10e-6, 10e-5, 10e-4, 10e-3, 10e-2, 10e-1, 10e0, 10e1, 10e2, 10e3]}\n",
    "# scores = ['precision', 'recall']\n",
    "\n",
    "# for score in scores:\n",
    "#     print(\"# Tuning hyper-parameters for %s\" % score)\n",
    "#     print()\n",
    "#     clf = GridSearchCV(LogisticRegression(), param_grid)\n",
    "#     clf.fit(X_train_nc, y_train_nc)\n",
    "    \n",
    "#     print(\"Best parameters set found on development set:\")\n",
    "#     print()\n",
    "#     print(clf.best_params_)\n",
    "#     print()\n",
    "#     print(\"Grid scores on development set:\")\n",
    "#     print()\n",
    "#     means = clf.cv_results_['mean_test_score']\n",
    "#     stds = clf.cv_results_['std_test_score']\n",
    "#     for mean, std, params in zip(means, stds, clf.cv_results_['params']):\n",
    "#         print(\"%0.3f (+/-%0.03f) for %r\"\n",
    "#               % (mean, std * 2, params))\n",
    "#     print()\n",
    "\n",
    "#     print(\"Detailed classification report:\")\n",
    "#     print()\n",
    "#     print(\"The model is trained on the full development set.\")\n",
    "#     print(\"The scores are computed on the full evaluation set.\")\n",
    "#     print()\n",
    "#     y_true, y_pred = y_test_nc, clf.predict(X_test_nc)\n",
    "#     print(classification_report(y_true, y_pred))\n",
    "#     print('')"
   ]
  },
  {
   "cell_type": "markdown",
   "metadata": {
    "collapsed": true
   },
   "source": [
    "# Data with random noise"
   ]
  },
  {
   "cell_type": "code",
   "execution_count": 79,
   "metadata": {
    "collapsed": true
   },
   "outputs": [],
   "source": [
    "p_data_NOISE = sp.sparse.load_npz('../data/NO-tilt/wrong-detector-length/20x20x20/pDisc_40000_charge_NOISE.npz')\n",
    "C_data_NOISE = sp.sparse.load_npz('../data/NO-tilt/wrong-detector-length/20x20x20/CDisc_40000_charge_NOISE.npz')\n",
    "\n",
    "p_labels_NOISE = np.zeros((p_data_nocharge.shape[0],))\n",
    "C_labels_NOISE = np.ones((C_data_nocharge.shape[0],))"
   ]
  },
  {
   "cell_type": "code",
   "execution_count": 80,
   "metadata": {},
   "outputs": [
    {
     "name": "stdout",
     "output_type": "stream",
     "text": [
      "(80002, 8000)\n",
      "(80002,)\n"
     ]
    }
   ],
   "source": [
    "full_data_NOISE = sp.sparse.vstack([p_data_NOISE, C_data_NOISE], format='csr')\n",
    "\n",
    "full_labels_NOISE = np.hstack((p_labels_NOISE, C_labels_NOISE))\n",
    "\n",
    "print(full_data_NOISE.shape)\n",
    "print(full_labels_NOISE.shape)"
   ]
  },
  {
   "cell_type": "code",
   "execution_count": 81,
   "metadata": {
    "collapsed": true
   },
   "outputs": [],
   "source": [
    "X_train_NOISE, X_test_NOISE, y_train_NOISE, y_test_NOISE = train_test_split(full_data_NOISE, full_labels_NOISE, test_size=0.25, random_state=42)"
   ]
  },
  {
   "cell_type": "code",
   "execution_count": 82,
   "metadata": {
    "collapsed": true
   },
   "outputs": [],
   "source": [
    "C_vals = [10e-6, 10e-5, 10e-4, 10e-3, 10e-2, 10e-1, 10e0, 10e1, 10e2, 10e3]\n",
    "\n",
    "f1s_NOISE = []\n",
    "accuracies_NOISE = []\n",
    "\n",
    "for c in C_vals:\n",
    "    y_pred_NOISE = LogisticRegression(C=c, max_iter=iterations).fit(X_train_NOISE, y_train_NOISE).predict(X_test_NOISE)\n",
    "    f1s_NOISE.append(metrics.f1_score(y_test_NOISE, y_pred_NOISE))\n",
    "    accuracies_NOISE.append(metrics.accuracy_score(y_test_NOISE, y_pred_NOISE))"
   ]
  },
  {
   "cell_type": "code",
   "execution_count": 84,
   "metadata": {},
   "outputs": [
    {
     "name": "stdout",
     "output_type": "stream",
     "text": [
      "0.914654267287\n"
     ]
    }
   ],
   "source": [
    "print(max(accuracies_NOISE))"
   ]
  },
  {
   "cell_type": "code",
   "execution_count": 85,
   "metadata": {},
   "outputs": [
    {
     "data": {
      "text/plain": [
       "<matplotlib.text.Text at 0x7fa08ff970f0>"
      ]
     },
     "execution_count": 85,
     "metadata": {},
     "output_type": "execute_result"
    },
    {
     "data": {
      "image/png": "[encoded data removed]",
      "text/plain": [
       "<matplotlib.figure.Figure at 0x7fa08ffe1e48>"
      ]
     },
     "metadata": {},
     "output_type": "display_data"
    }
   ],
   "source": [
    "a = np.arange(len(C_vals))\n",
    "\n",
    "plt.plot(C_vals, f1s_NOISE)\n",
    "\n",
    "plt.xscale('log')\n",
    "        \n",
    "plt.xlabel('C (inverse regularization constant)')\n",
    "plt.ylabel('F1 Score')\n",
    "plt.title('Data with Random Noise - F1 Score by Regularization')\n",
    "\n",
    "#plt.savefig('/home/taylor/Documents/independent-research/plots/results/LogisticRegression_F1xC_NOISE.pdf')"
   ]
  },
  {
   "cell_type": "code",
   "execution_count": 87,
   "metadata": {},
   "outputs": [
    {
     "data": {
      "image/png": "[encoded data removed]",
      "text/plain": [
       "<matplotlib.figure.Figure at 0x7fa0902177b8>"
      ]
     },
     "metadata": {},
     "output_type": "display_data"
    }
   ],
   "source": [
    "a = np.arange(len(C_vals))\n",
    "\n",
    "plt.plot(C_vals, f1s_c)\n",
    "plt.plot(C_vals, f1s_NOISE)\n",
    "\n",
    "plt.xscale('log')\n",
    "        \n",
    "plt.xlabel('C (inverse regularization constant)')\n",
    "plt.ylabel('F1 Score')\n",
    "plt.title('F1 Score by Regularization')\n",
    "plt.legend(['clean', 'with random noise'], loc='lower right')\n",
    "\n",
    "#plt.savefig('../plots/results/wrong-detector-length/LogisticRegression_F1xC_NOISe.pdf')"
   ]
  },
  {
   "cell_type": "code",
   "execution_count": null,
   "metadata": {
    "collapsed": true
   },
   "outputs": [],
   "source": []
  }
 ],
 "metadata": {
  "kernelspec": {
   "display_name": "Python 3",
   "language": "python",
   "name": "python3"
  },
  "language_info": {
   "codemirror_mode": {
    "name": "ipython",
    "version": 3
   },
   "file_extension": ".py",
   "mimetype": "text/x-python",
   "name": "python",
   "nbconvert_exporter": "python",
   "pygments_lexer": "ipython3",
   "version": "3.6.1"
  }
 },
 "nbformat": 4,
 "nbformat_minor": 2
}
