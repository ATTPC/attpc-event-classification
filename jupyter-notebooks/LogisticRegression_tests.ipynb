{
 "cells": [
  {
   "cell_type": "code",
   "execution_count": 1,
   "metadata": {
    "collapsed": true
   },
   "outputs": [],
   "source": [
    "%matplotlib inline"
   ]
  },
  {
   "cell_type": "code",
   "execution_count": 78,
   "metadata": {},
   "outputs": [],
   "source": [
    "import matplotlib.pyplot as plt\n",
    "\n",
    "import scipy as sp\n",
    "import numpy as np\n",
    "from sklearn.model_selection import train_test_split\n",
    "from sklearn.linear_model import LogisticRegression\n",
    "from sklearn import metrics\n",
    "\n",
    "from sklearn.model_selection import GridSearchCV\n",
    "from sklearn.metrics import classification_report"
   ]
  },
  {
   "cell_type": "code",
   "execution_count": 72,
   "metadata": {
    "collapsed": true
   },
   "outputs": [],
   "source": [
    "p_data = sp.sparse.load_npz('/home/taylor/Documents/independent-research/data/pDisc_40000.npz')\n",
    "C_data = sp.sparse.load_npz('/home/taylor/Documents/independent-research/data/CDisc_40000.npz')\n",
    "p_labels = np.zeros((p_data.shape[0],))\n",
    "C_labels = np.ones((C_data.shape[0],))"
   ]
  },
  {
   "cell_type": "code",
   "execution_count": 4,
   "metadata": {},
   "outputs": [
    {
     "name": "stdout",
     "output_type": "stream",
     "text": [
      "(80002, 8000)\n",
      "(80002,)\n"
     ]
    }
   ],
   "source": [
    "full_data = sp.sparse.vstack([p_data, C_data], format='csr')\n",
    "full_labels = np.hstack((p_labels, C_labels))\n",
    "print(full_data.shape)\n",
    "print(full_labels.shape)"
   ]
  },
  {
   "cell_type": "code",
   "execution_count": 5,
   "metadata": {
    "collapsed": true
   },
   "outputs": [],
   "source": [
    "X_train, X_test, y_train, y_test = train_test_split(full_data, full_labels, test_size=0.25, random_state=0)"
   ]
  },
  {
   "cell_type": "code",
   "execution_count": 8,
   "metadata": {
    "collapsed": true
   },
   "outputs": [],
   "source": [
    "reg = 1\n",
    "iterations = 1000\n",
    "lr = LogisticRegression(C=reg, max_iter=iterations)\n",
    "y_pred = lr.fit(X_train, y_train).predict(X_test)"
   ]
  },
  {
   "cell_type": "code",
   "execution_count": 9,
   "metadata": {},
   "outputs": [
    {
     "name": "stdout",
     "output_type": "stream",
     "text": [
      "With regularization C=1 precision: 0.666056891978\n",
      "With regularization C=1 accuracy: 0.676866156692\n",
      "             precision    recall  f1-score   support\n",
      "\n",
      "        0.0       0.69      0.63      0.66      9907\n",
      "        1.0       0.67      0.72      0.69     10094\n",
      "\n",
      "avg / total       0.68      0.68      0.68     20001\n",
      "\n"
     ]
    }
   ],
   "source": [
    "print(\"With regularization C=\" + str(reg) + \" precision: \" + str(metrics.precision_score(y_test, y_pred)))\n",
    "print(\"With regularization C=\" + str(reg) + \" accuracy: \" + str(metrics.accuracy_score(y_test, y_pred)))\n",
    "print(metrics.classification_report(y_test, y_pred))"
   ]
  },
  {
   "cell_type": "code",
   "execution_count": 13,
   "metadata": {},
   "outputs": [
    {
     "name": "stdout",
     "output_type": "stream",
     "text": [
      "[1e-05, 0.0001, 0.001, 0.01, 0.1, 1.0, 10.0, 100.0, 1000.0, 10000.0]\n"
     ]
    }
   ],
   "source": [
    "C_vals = [10e-6, 10e-5, 10e-4, 10e-3, 10e-2, 10e-1, 10e0, 10e1, 10e2, 10e3]\n",
    "print(C_vals)"
   ]
  },
  {
   "cell_type": "code",
   "execution_count": 32,
   "metadata": {},
   "outputs": [
    {
     "name": "stdout",
     "output_type": "stream",
     "text": [
      "[0.92500000000000004, 0.65000000000000002, 0.64510794671566374, 0.66693269486565576, 0.67240130387540742, 0.666056891978414, 0.66480293308890925, 0.66492338746674007, 0.66473935389133632, 0.66476959794382229]\n",
      "[0.0073310877749157913, 0.35803447592629284, 0.69566078858727953, 0.74509609669110366, 0.73568456508817115, 0.72141866455319992, 0.7185456706954626, 0.71795125817317218, 0.7175549831583119, 0.71745591440459677]\n"
     ]
    }
   ],
   "source": [
    "precisions = []\n",
    "recalls = []\n",
    "\n",
    "for c in C_vals:\n",
    "    y_pred = LogisticRegression(C=c, max_iter=iterations).fit(X_train, y_train).predict(X_test)\n",
    "    precisions.append(metrics.precision_score(y_test, y_pred))\n",
    "    recalls.append(metrics.recall_score(y_test, y_pred))\n",
    "    \n",
    "#print(precisions)\n",
    "#print(recalls)"
   ]
  },
  {
   "cell_type": "code",
   "execution_count": 48,
   "metadata": {},
   "outputs": [
    {
     "data": {
      "text/plain": [
       "<matplotlib.text.Text at 0x7f711aa46cf8>"
      ]
     },
     "execution_count": 48,
     "metadata": {},
     "output_type": "execute_result"
    },
    {
     "data": {
      "image/png": "[encoded data removed]",
      "text/plain": [
       "<matplotlib.figure.Figure at 0x7f711b2f8438>"
      ]
     },
     "metadata": {},
     "output_type": "display_data"
    }
   ],
   "source": [
    "a = np.arange(len(C_vals))\n",
    "\n",
    "plt.plot(C_vals, precisions)\n",
    "plt.xscale('log')\n",
    "        \n",
    "plt.xlabel('C (inverse regularization constant)')\n",
    "plt.ylabel('Precision')\n",
    "plt.title('Precision by Regularization')"
   ]
  },
  {
   "cell_type": "code",
   "execution_count": 84,
   "metadata": {},
   "outputs": [
    {
     "data": {
      "image/png": "[encoded data removed]",
      "text/plain": [
       "<matplotlib.figure.Figure at 0x7f71208aa320>"
      ]
     },
     "metadata": {},
     "output_type": "display_data"
    }
   ],
   "source": [
    "fig, ax = plt.subplots(1, 2, squeeze=True, figsize=(18, 6))\n",
    "\n",
    "ax[0].plot(C_vals, precisions)\n",
    "ax[0].semilogx()     \n",
    "ax[0].set_ylim(0,1)\n",
    "ax[0].set_xlabel('C (inverse regularization constant)')\n",
    "ax[0].set_ylabel('Precision')\n",
    "ax[0].set_title('LR Precision by Regularization')\n",
    "ax[0].grid()\n",
    "\n",
    "#######################################################################################################################\n",
    "ax[1].plot(C_vals, recalls, c='orange')\n",
    "ax[1].semilogx()\n",
    "ax[1].set_ylim(0,1)\n",
    "ax[1].set_xlabel('C (inverse regularization constant)')\n",
    "ax[1].set_ylabel('Recall')\n",
    "ax[1].set_title('LR Recall by Regularization')\n",
    "ax[1].grid()\n",
    "\n",
    "#fig.savefig('/home/taylor/Documents/independent-research/plots/LogisticRegression-varyC.pdf')"
   ]
  },
  {
   "cell_type": "code",
   "execution_count": null,
   "metadata": {},
   "outputs": [],
   "source": []
  },
  {
   "cell_type": "code",
   "execution_count": 83,
   "metadata": {},
   "outputs": [
    {
     "name": "stdout",
     "output_type": "stream",
     "text": [
      "# Tuning hyper-parameters for precision\n",
      "\n",
      "Best parameters set found on development set:\n",
      "\n",
      "{'C': 0.1}\n",
      "\n",
      "Grid scores on development set:\n",
      "\n",
      "0.502 (+/-0.001) for {'C': 1e-05}\n",
      "0.561 (+/-0.003) for {'C': 0.0001}\n",
      "0.645 (+/-0.007) for {'C': 0.001}\n",
      "0.678 (+/-0.004) for {'C': 0.01}\n",
      "0.681 (+/-0.004) for {'C': 0.1}\n",
      "0.672 (+/-0.006) for {'C': 1.0}\n",
      "0.668 (+/-0.008) for {'C': 10.0}\n",
      "0.667 (+/-0.008) for {'C': 100.0}\n",
      "0.667 (+/-0.008) for {'C': 1000.0}\n",
      "0.667 (+/-0.008) for {'C': 10000.0}\n",
      "\n",
      "Detailed classification report:\n",
      "\n",
      "The model is trained on the full development set.\n",
      "The scores are computed on the full evaluation set.\n",
      "\n",
      "             precision    recall  f1-score   support\n",
      "\n",
      "        0.0       0.70      0.63      0.67      9907\n",
      "        1.0       0.67      0.74      0.70     10094\n",
      "\n",
      "avg / total       0.69      0.69      0.68     20001\n",
      "\n",
      "\n",
      "# Tuning hyper-parameters for recall\n",
      "\n",
      "Best parameters set found on development set:\n",
      "\n",
      "{'C': 0.1}\n",
      "\n",
      "Grid scores on development set:\n",
      "\n",
      "0.502 (+/-0.001) for {'C': 1e-05}\n",
      "0.561 (+/-0.003) for {'C': 0.0001}\n",
      "0.645 (+/-0.007) for {'C': 0.001}\n",
      "0.678 (+/-0.004) for {'C': 0.01}\n",
      "0.681 (+/-0.004) for {'C': 0.1}\n",
      "0.672 (+/-0.006) for {'C': 1.0}\n",
      "0.668 (+/-0.008) for {'C': 10.0}\n",
      "0.667 (+/-0.008) for {'C': 100.0}\n",
      "0.667 (+/-0.008) for {'C': 1000.0}\n",
      "0.667 (+/-0.008) for {'C': 10000.0}\n",
      "\n",
      "Detailed classification report:\n",
      "\n",
      "The model is trained on the full development set.\n",
      "The scores are computed on the full evaluation set.\n",
      "\n",
      "             precision    recall  f1-score   support\n",
      "\n",
      "        0.0       0.70      0.63      0.67      9907\n",
      "        1.0       0.67      0.74      0.70     10094\n",
      "\n",
      "avg / total       0.69      0.69      0.68     20001\n",
      "\n",
      "\n"
     ]
    }
   ],
   "source": [
    "param_grid = {'C': [10e-6, 10e-5, 10e-4, 10e-3, 10e-2, 10e-1, 10e0, 10e1, 10e2, 10e3]}\n",
    "scores = ['precision', 'recall']\n",
    "\n",
    "for score in scores:\n",
    "    print(\"# Tuning hyper-parameters for %s\" % score)\n",
    "    print()\n",
    "    clf = GridSearchCV(LogisticRegression(), param_grid)\n",
    "    clf.fit(X_train, y_train)\n",
    "    \n",
    "    print(\"Best parameters set found on development set:\")\n",
    "    print()\n",
    "    print(clf.best_params_)\n",
    "    print()\n",
    "    print(\"Grid scores on development set:\")\n",
    "    print()\n",
    "    means = clf.cv_results_['mean_test_score']\n",
    "    stds = clf.cv_results_['std_test_score']\n",
    "    for mean, std, params in zip(means, stds, clf.cv_results_['params']):\n",
    "        print(\"%0.3f (+/-%0.03f) for %r\"\n",
    "              % (mean, std * 2, params))\n",
    "    print()\n",
    "\n",
    "    print(\"Detailed classification report:\")\n",
    "    print()\n",
    "    print(\"The model is trained on the full development set.\")\n",
    "    print(\"The scores are computed on the full evaluation set.\")\n",
    "    print()\n",
    "    y_true, y_pred = y_test, clf.predict(X_test)\n",
    "    print(classification_report(y_true, y_pred))\n",
    "    print('')"
   ]
  },
  {
   "cell_type": "code",
   "execution_count": null,
   "metadata": {
    "collapsed": true
   },
   "outputs": [],
   "source": []
  }
 ],
 "metadata": {
  "kernelspec": {
   "display_name": "Python 3",
   "language": "python",
   "name": "python3"
  },
  "language_info": {
   "codemirror_mode": {
    "name": "ipython",
    "version": 3
   },
   "file_extension": ".py",
   "mimetype": "text/x-python",
   "name": "python",
   "nbconvert_exporter": "python",
   "pygments_lexer": "ipython3",
   "version": "3.6.1"
  }
 },
 "nbformat": 4,
 "nbformat_minor": 2
}
