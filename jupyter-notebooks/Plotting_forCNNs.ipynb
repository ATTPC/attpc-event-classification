{
 "cells": [
  {
   "cell_type": "code",
   "execution_count": 1,
   "metadata": {
    "collapsed": true
   },
   "outputs": [],
   "source": [
    "%matplotlib inline"
   ]
  },
  {
   "cell_type": "code",
   "execution_count": 2,
   "metadata": {},
   "outputs": [
    {
     "name": "stderr",
     "output_type": "stream",
     "text": [
      "/usr/local/lib/python3.6/site-packages/h5py/__init__.py:34: FutureWarning: Conversion of the second argument of issubdtype from `float` to `np.floating` is deprecated. In future, it will be treated as `np.float64 == np.dtype(float).type`.\n",
      "  from ._conv import register_converters as _register_converters\n"
     ]
    }
   ],
   "source": [
    "import matplotlib.pyplot as plt\n",
    "import scipy as sp\n",
    "import numpy as np\n",
    "import pandas as pd\n",
    "\n",
    "import pytpc\n",
    "\n",
    "import sys\n",
    "sys.path.insert(0, '../modules/')\n",
    "import dataDiscretization as dd"
   ]
  },
  {
   "cell_type": "markdown",
   "metadata": {},
   "source": [
    "# Real Data"
   ]
  },
  {
   "cell_type": "code",
   "execution_count": null,
   "metadata": {
    "collapsed": true
   },
   "outputs": [],
   "source": [
    "data_path = '../data/real/'\n",
    "filename = 'run_0130.h5'\n",
    "file = pytpc.HDFDataFile(data_path + filename, 'r')"
   ]
  },
  {
   "cell_type": "code",
   "execution_count": null,
   "metadata": {},
   "outputs": [],
   "source": [
    "labels = pd.read_csv(data_path+'run_0130_labels.csv', sep=',')\n",
    "p_indices = labels.loc[(labels['label'] == 'p')]['evt_id'].index[:]\n",
    "\n",
    "print(p_indices)"
   ]
  },
  {
   "cell_type": "code",
   "execution_count": null,
   "metadata": {
    "collapsed": true
   },
   "outputs": [],
   "source": [
    "i = 0"
   ]
  },
  {
   "cell_type": "code",
   "execution_count": null,
   "metadata": {},
   "outputs": [],
   "source": [
    "#i += 1\n",
    "\n",
    "real_evt = file[p_indices[i]]\n",
    "\n",
    "real_xyzs = real_evt.xyzs(peaks_only=True, drift_vel=5.2, clock=12.5, return_pads=True, baseline_correction=True, cg_times=True)\n",
    "\n",
    "plt.figure(figsize=(1.28, 1.28), dpi=100)\n",
    "\n",
    "plt.plot(real_xyzs[:,2], real_xyzs[:,1],'.', markersize=2.0, c='black')\n",
    "plt.xlim(0.0, 1250.0)\n",
    "plt.ylim((-275.0, 275.0))\n",
    "\n",
    "plt.axis('off')\n",
    "\n",
    "#plt.savefig('../cnn-plots/test/real-test_128_smallpts.png')"
   ]
  },
  {
   "cell_type": "markdown",
   "metadata": {},
   "source": [
    "# Simulated Data "
   ]
  },
  {
   "cell_type": "code",
   "execution_count": null,
   "metadata": {
    "collapsed": true
   },
   "outputs": [],
   "source": [
    "hdfpath = '../data/tilt/p_40000_tilt.h5'\n",
    "simfile = pytpc.HDFDataFile(hdfpath, 'r')"
   ]
  },
  {
   "cell_type": "code",
   "execution_count": null,
   "metadata": {
    "collapsed": true
   },
   "outputs": [],
   "source": [
    "i = 0"
   ]
  },
  {
   "cell_type": "code",
   "execution_count": null,
   "metadata": {},
   "outputs": [],
   "source": [
    "#i += 1\n",
    "\n",
    "sim_evt = simfile[i]\n",
    "\n",
    "sim_xyzs = sim_evt.xyzs(peaks_only=True, drift_vel=5.2, clock=12.5, return_pads=False, baseline_correction=True, cg_times=True)\n",
    "\n",
    "plt.figure(figsize=(1.28, 1.28), dpi=100)\n",
    "\n",
    "plt.plot(sim_xyzs[:,2], sim_xyzs[:,1], '.', markersize=2.0, c='black')\n",
    "plt.xlim(0.0, 1250.0)\n",
    "plt.ylim((-275.0, 275.0))\n",
    "\n",
    "plt.axis('off')\n",
    "\n",
    "#plt.savefig('../cnn-plots/test/sim-test.png')"
   ]
  },
  {
   "cell_type": "code",
   "execution_count": null,
   "metadata": {},
   "outputs": [],
   "source": [
    "simnoise_xyzs = dd.addNoise(sim_xyzs)\n",
    "print(sim_xyzs.shape)\n",
    "print(simnoise_xyzs.shape)"
   ]
  },
  {
   "cell_type": "code",
   "execution_count": null,
   "metadata": {},
   "outputs": [],
   "source": [
    "plt.figure(figsize=(1.28, 1.28), dpi=100)\n",
    "\n",
    "plt.plot(simnoise_xyzs[:,2], simnoise_xyzs[:,1], '.', markersize=2.0, c='black')\n",
    "plt.xlim(0.0, 1250.0)plt.figure(figsize=(1.28, 1.28), dpi=100)\n",
    "\n",
    "plt.plot(sim_xyzs[:,2], sim_xyzs[:,1], '.', markersize=2.0, c='black')\n",
    "plt.xlim(0.0, 1250.0)\n",
    "plt.ylim((-275.0, 275.0))\n",
    "\n",
    "plt.axis('off')\n",
    "\n",
    "#plt.savefig('../cnn-plots/test/sim-test.png')\n",
    "plt.ylim((-275.0, 275.0))\n",
    "\n",
    "plt.axis('off')\n",
    "\n",
    "#plt.savefig('../cnn-plots/test/sim-test.png')"
   ]
  },
  {
   "cell_type": "code",
   "execution_count": null,
   "metadata": {
    "collapsed": true
   },
   "outputs": [],
   "source": []
  },
  {
   "cell_type": "markdown",
   "metadata": {},
   "source": [
    "# Simulated Pure Noise Events"
   ]
  },
  {
   "cell_type": "code",
   "execution_count": null,
   "metadata": {
    "collapsed": true
   },
   "outputs": [],
   "source": [
    "empty_evt = np.empty([1,4])\n",
    "junk_evt = dd.addNoise(empty_evt)"
   ]
  },
  {
   "cell_type": "code",
   "execution_count": null,
   "metadata": {},
   "outputs": [],
   "source": [
    "print(noise_evt.shape)"
   ]
  },
  {
   "cell_type": "code",
   "execution_count": null,
   "metadata": {},
   "outputs": [],
   "source": [
    "plt.figure(figsize=(1.28, 1.28), dpi=100)\n",
    "\n",
    "plt.plot(junk_evt[:,2], junk_evt[:,1], '.', markersize=2.0, c='black')\n",
    "plt.xlim(0.0, 1250.0)\n",
    "plt.ylim((-275.0, 275.0))\n",
    "\n",
    "plt.axis('off')\n",
    "\n",
    "#plt.savefig('../cnn-plots/test/simnoise-test.png')"
   ]
  },
  {
   "cell_type": "code",
   "execution_count": null,
   "metadata": {
    "collapsed": true
   },
   "outputs": [],
   "source": []
  },
  {
   "cell_type": "markdown",
   "metadata": {},
   "source": [
    "# Small portion of plot for use in thesis"
   ]
  },
  {
   "cell_type": "code",
   "execution_count": 50,
   "metadata": {},
   "outputs": [],
   "source": [
    "from PIL import Image as pil_image\n",
    "from keras.preprocessing.image import img_to_array, array_to_img, load_img\n",
    "import seaborn as sns"
   ]
  },
  {
   "cell_type": "code",
   "execution_count": 39,
   "metadata": {},
   "outputs": [],
   "source": [
    "img_path = '../plots/results/thesis/'\n",
    "file_path = 'small-img-CNN.png'"
   ]
  },
  {
   "cell_type": "code",
   "execution_count": 40,
   "metadata": {
    "collapsed": true
   },
   "outputs": [],
   "source": [
    "img = load_img(img_path + file_path, grayscale=True)#, target_size=(28,28))\n",
    "#img.show()"
   ]
  },
  {
   "cell_type": "code",
   "execution_count": 109,
   "metadata": {},
   "outputs": [
    {
     "name": "stdout",
     "output_type": "stream",
     "text": [
      "(25, 25)\n"
     ]
    }
   ],
   "source": [
    "img_array = img_to_array(img)\n",
    "img_array = np.reshape(img_array, (img_array.shape[0], img_array.shape[1]))\n",
    "img_array = img_array.astype(int)\n",
    "np.savetxt(\"../plots/results/thesis/small-img-CNN.csv\", img_array, delimiter=\",\")\n",
    "print(img_array.shape)"
   ]
  },
  {
   "cell_type": "code",
   "execution_count": 88,
   "metadata": {},
   "outputs": [],
   "source": [
    "df = pd.DataFrame(img_array)"
   ]
  },
  {
   "cell_type": "code",
   "execution_count": 89,
   "metadata": {},
   "outputs": [
    {
     "data": {
      "text/plain": [
       "<matplotlib.axes._subplots.AxesSubplot at 0x7f98bacc2550>"
      ]
     },
     "execution_count": 89,
     "metadata": {},
     "output_type": "execute_result"
    },
    {
     "data": {
      "image/png": "[encoded data removed]",
      "text/plain": [
       "<matplotlib.figure.Figure at 0x7f98bb21b0b8>"
      ]
     },
     "metadata": {},
     "output_type": "display_data"
    }
   ],
   "source": [
    "sns.heatmap(df)"
   ]
  },
  {
   "cell_type": "code",
   "execution_count": 107,
   "metadata": {},
   "outputs": [
    {
     "data": {
      "image/png": "[encoded data removed]",
      "text/plain": [
       "<matplotlib.figure.Figure at 0x7f98b9e25fd0>"
      ]
     },
     "metadata": {},
     "output_type": "display_data"
    }
   ],
   "source": [
    "fig, axs = plt.subplots(1,1, figsize=(10, 10))\n",
    "axs.axis('tight')\n",
    "axs.axis('off')\n",
    "\n",
    "the_table = plt.table(cellText=img_array, fontsize=20)\n",
    "table = axs.add_table(the_table)\n",
    "\n",
    "table.set_fontsize(20)"
   ]
  },
  {
   "cell_type": "code",
   "execution_count": null,
   "metadata": {
    "collapsed": true
   },
   "outputs": [],
   "source": []
  },
  {
   "cell_type": "code",
   "execution_count": null,
   "metadata": {
    "collapsed": true
   },
   "outputs": [],
   "source": []
  }
 ],
 "metadata": {
  "kernelspec": {
   "display_name": "Python 3",
   "language": "python",
   "name": "python3"
  },
  "language_info": {
   "codemirror_mode": {
    "name": "ipython",
    "version": 3
   },
   "file_extension": ".py",
   "mimetype": "text/x-python",
   "name": "python",
   "nbconvert_exporter": "python",
   "pygments_lexer": "ipython3",
   "version": "3.6.1"
  }
 },
 "nbformat": 4,
 "nbformat_minor": 2
}
