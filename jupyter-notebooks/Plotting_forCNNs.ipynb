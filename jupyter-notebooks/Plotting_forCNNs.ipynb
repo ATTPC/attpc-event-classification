{
 "cells": [
  {
   "cell_type": "code",
   "execution_count": 1,
   "metadata": {
    "collapsed": true
   },
   "outputs": [],
   "source": [
    "%matplotlib inline"
   ]
  },
  {
   "cell_type": "code",
   "execution_count": 100,
   "metadata": {},
   "outputs": [],
   "source": [
    "import matplotlib.pyplot as plt\n",
    "import scipy as sp\n",
    "import numpy as np\n",
    "import pandas as pd\n",
    "\n",
    "import pytpc\n",
    "\n",
    "import sys\n",
    "sys.path.insert(0, '../modules/')\n",
    "import dataDiscretization as dd"
   ]
  },
  {
   "cell_type": "markdown",
   "metadata": {},
   "source": [
    "# Real Data"
   ]
  },
  {
   "cell_type": "code",
   "execution_count": 10,
   "metadata": {},
   "outputs": [],
   "source": [
    "data_path = '../data/real/'\n",
    "filename = 'run_0130.h5'\n",
    "file = pytpc.HDFDataFile(data_path + filename, 'r')"
   ]
  },
  {
   "cell_type": "code",
   "execution_count": 12,
   "metadata": {},
   "outputs": [
    {
     "name": "stdout",
     "output_type": "stream",
     "text": [
      "Int64Index([  12,   24,   31,   55,   60,   65,   67,   70,   72,   78,\n",
      "            ...\n",
      "             976,  978,  980,  984,  989,  993,  994,  998, 1000, 1001],\n",
      "           dtype='int64', length=215)\n"
     ]
    }
   ],
   "source": [
    "labels = pd.read_csv(data_path+'run_0130_labels.csv', sep=',')\n",
    "p_indices = labels.loc[(labels['label'] == 'p')]['evt_id'].index[:]\n",
    "\n",
    "print(p_indices)"
   ]
  },
  {
   "cell_type": "code",
   "execution_count": 72,
   "metadata": {
    "collapsed": true
   },
   "outputs": [],
   "source": [
    "i = 0"
   ]
  },
  {
   "cell_type": "code",
   "execution_count": 92,
   "metadata": {},
   "outputs": [
    {
     "data": {
      "image/png": "[encoded data removed]",
      "text/plain": [
       "<matplotlib.figure.Figure at 0x7f2ad3d7c128>"
      ]
     },
     "metadata": {},
     "output_type": "display_data"
    }
   ],
   "source": [
    "#i += 1\n",
    "\n",
    "real_evt = file[p_indices[i]]\n",
    "\n",
    "real_xyzs = real_evt.xyzs(peaks_only=True, drift_vel=5.2, clock=12.5, return_pads=True, baseline_correction=True, cg_times=True)\n",
    "\n",
    "plt.figure(figsize=(1.28, 1.28), dpi=100)\n",
    "\n",
    "plt.plot(real_xyzs[:,2], real_xyzs[:,1],'.', markersize=2.0, c='black')\n",
    "plt.xlim(0.0, 1250.0)\n",
    "plt.ylim((-275.0, 275.0))\n",
    "\n",
    "plt.axis('off')\n",
    "\n",
    "#plt.savefig('../cnn-plots/test/real-test_128_smallpts.png')"
   ]
  },
  {
   "cell_type": "markdown",
   "metadata": {},
   "source": [
    "# Simulated Data "
   ]
  },
  {
   "cell_type": "code",
   "execution_count": 77,
   "metadata": {},
   "outputs": [],
   "source": [
    "hdfpath = '../data/tilt/p_40000_tilt.h5'\n",
    "simfile = pytpc.HDFDataFile(hdfpath, 'r')"
   ]
  },
  {
   "cell_type": "code",
   "execution_count": null,
   "metadata": {
    "collapsed": true
   },
   "outputs": [],
   "source": [
    "i = 0"
   ]
  },
  {
   "cell_type": "code",
   "execution_count": 113,
   "metadata": {},
   "outputs": [
    {
     "data": {
      "text/plain": [
       "(0.0, 1250.0, -275.0, 275.0)"
      ]
     },
     "execution_count": 113,
     "metadata": {},
     "output_type": "execute_result"
    },
    {
     "data": {
      "image/png": "[encoded data removed]",
      "text/plain": [
       "<matplotlib.figure.Figure at 0x7f2ad3d75ac8>"
      ]
     },
     "metadata": {},
     "output_type": "display_data"
    }
   ],
   "source": [
    "#i += 1\n",
    "\n",
    "sim_evt = simfile[i]\n",
    "\n",
    "sim_xyzs = sim_evt.xyzs(peaks_only=True, drift_vel=5.2, clock=12.5, return_pads=False, baseline_correction=True, cg_times=True)\n",
    "\n",
    "plt.figure(figsize=(1.28, 1.28), dpi=100)\n",
    "\n",
    "plt.plot(sim_xyzs[:,2], sim_xyzs[:,1], '.', markersize=2.0, c='black')\n",
    "plt.xlim(0.0, 1250.0)\n",
    "plt.ylim((-275.0, 275.0))\n",
    "\n",
    "plt.axis('off')\n",
    "\n",
    "#plt.savefig('../cnn-plots/test/sim-test.png')"
   ]
  },
  {
   "cell_type": "code",
   "execution_count": 122,
   "metadata": {},
   "outputs": [
    {
     "name": "stdout",
     "output_type": "stream",
     "text": [
      "(187, 4)\n",
      "(246, 4)\n"
     ]
    }
   ],
   "source": [
    "simnoise_xyzs = dd.addNoise(sim_xyzs)\n",
    "print(sim_xyzs.shape)\n",
    "print(simnoise_xyzs.shape)"
   ]
  },
  {
   "cell_type": "code",
   "execution_count": 123,
   "metadata": {},
   "outputs": [
    {
     "data": {
      "text/plain": [
       "(0.0, 1250.0, -275.0, 275.0)"
      ]
     },
     "execution_count": 123,
     "metadata": {},
     "output_type": "execute_result"
    },
    {
     "data": {
      "image/png": "[encoded data removed]",
      "text/plain": [
       "<matplotlib.figure.Figure at 0x7f2ad355cb70>"
      ]
     },
     "metadata": {},
     "output_type": "display_data"
    }
   ],
   "source": [
    "plt.figure(figsize=(1.28, 1.28), dpi=100)\n",
    "\n",
    "plt.plot(simnoise_xyzs[:,2], simnoise_xyzs[:,1], '.', markersize=2.0, c='black')\n",
    "plt.xlim(0.0, 1250.0)plt.figure(figsize=(1.28, 1.28), dpi=100)\n",
    "\n",
    "plt.plot(sim_xyzs[:,2], sim_xyzs[:,1], '.', markersize=2.0, c='black')\n",
    "plt.xlim(0.0, 1250.0)\n",
    "plt.ylim((-275.0, 275.0))\n",
    "\n",
    "plt.axis('off')\n",
    "\n",
    "#plt.savefig('../cnn-plots/test/sim-test.png')\n",
    "plt.ylim((-275.0, 275.0))\n",
    "\n",
    "plt.axis('off')\n",
    "\n",
    "#plt.savefig('../cnn-plots/test/sim-test.png')"
   ]
  },
  {
   "cell_type": "code",
   "execution_count": null,
   "metadata": {
    "collapsed": true
   },
   "outputs": [],
   "source": []
  },
  {
   "cell_type": "markdown",
   "metadata": {},
   "source": [
    "# Simulated Pure Noise Events"
   ]
  },
  {
   "cell_type": "code",
   "execution_count": 133,
   "metadata": {},
   "outputs": [],
   "source": [
    "empty_evt = np.empty([1,4])\n",
    "junk_evt = dd.addNoise(empty_evt)"
   ]
  },
  {
   "cell_type": "code",
   "execution_count": 134,
   "metadata": {},
   "outputs": [
    {
     "name": "stdout",
     "output_type": "stream",
     "text": [
      "(285, 4)\n"
     ]
    }
   ],
   "source": [
    "print(noise_evt.shape)"
   ]
  },
  {
   "cell_type": "code",
   "execution_count": 135,
   "metadata": {},
   "outputs": [
    {
     "data": {
      "text/plain": [
       "(0.0, 1250.0, -275.0, 275.0)"
      ]
     },
     "execution_count": 135,
     "metadata": {},
     "output_type": "execute_result"
    },
    {
     "data": {
      "image/png": "[encoded data removed]",
      "text/plain": [
       "<matplotlib.figure.Figure at 0x7f2ad3a7bc18>"
      ]
     },
     "metadata": {},
     "output_type": "display_data"
    }
   ],
   "source": [
    "plt.figure(figsize=(1.28, 1.28), dpi=100)\n",
    "\n",
    "plt.plot(junk_evt[:,2], junk_evt[:,1], '.', markersize=2.0, c='black')\n",
    "plt.xlim(0.0, 1250.0)\n",
    "plt.ylim((-275.0, 275.0))\n",
    "\n",
    "plt.axis('off')\n",
    "\n",
    "#plt.savefig('../cnn-plots/test/simnoise-test.png')"
   ]
  },
  {
   "cell_type": "code",
   "execution_count": null,
   "metadata": {
    "collapsed": true
   },
   "outputs": [],
   "source": []
  }
 ],
 "metadata": {
  "kernelspec": {
   "display_name": "Python 3",
   "language": "python",
   "name": "python3"
  },
  "language_info": {
   "codemirror_mode": {
    "name": "ipython",
    "version": 3
   },
   "file_extension": ".py",
   "mimetype": "text/x-python",
   "name": "python",
   "nbconvert_exporter": "python",
   "pygments_lexer": "ipython3",
   "version": "3.6.1"
  }
 },
 "nbformat": 4,
 "nbformat_minor": 2
}
