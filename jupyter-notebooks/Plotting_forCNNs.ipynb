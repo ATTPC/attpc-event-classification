{
 "cells": [
  {
   "cell_type": "code",
   "execution_count": 1,
   "metadata": {
    "collapsed": true
   },
   "outputs": [],
   "source": [
    "%matplotlib inline"
   ]
  },
  {
   "cell_type": "code",
   "execution_count": 2,
   "metadata": {},
   "outputs": [
    {
     "name": "stderr",
     "output_type": "stream",
     "text": [
      "/usr/local/lib/python3.6/site-packages/h5py/__init__.py:34: FutureWarning: Conversion of the second argument of issubdtype from `float` to `np.floating` is deprecated. In future, it will be treated as `np.float64 == np.dtype(float).type`.\n",
      "  from ._conv import register_converters as _register_converters\n"
     ]
    }
   ],
   "source": [
    "import matplotlib.pyplot as plt\n",
    "import scipy as sp\n",
    "import numpy as np\n",
    "import pandas as pd\n",
    "\n",
    "import pytpc\n",
    "\n",
    "import sys\n",
    "sys.path.insert(0, '../modules/')\n",
    "import dataDiscretization as dd"
   ]
  },
  {
   "cell_type": "markdown",
   "metadata": {},
   "source": [
    "# Real Data"
   ]
  },
  {
   "cell_type": "code",
   "execution_count": 31,
   "metadata": {
    "collapsed": true
   },
   "outputs": [],
   "source": [
    "data_path = '../data/real/'\n",
    "filename = 'run_0130.h5'\n",
    "file = pytpc.HDFDataFile(data_path + filename, 'r')"
   ]
  },
  {
   "cell_type": "code",
   "execution_count": 32,
   "metadata": {},
   "outputs": [
    {
     "name": "stdout",
     "output_type": "stream",
     "text": [
      "Int64Index([  12,   24,   31,   55,   60,   65,   67,   70,   72,   78,\n",
      "            ...\n",
      "             976,  978,  980,  984,  989,  993,  994,  998, 1000, 1001],\n",
      "           dtype='int64', length=215)\n"
     ]
    }
   ],
   "source": [
    "labels = pd.read_csv(data_path+'run_0130_labels.csv', sep=',')\n",
    "p_indices = labels.loc[(labels['label'] == 'p')]['evt_id'].index[:]\n",
    "\n",
    "print(p_indices)"
   ]
  },
  {
   "cell_type": "code",
   "execution_count": 33,
   "metadata": {
    "collapsed": true
   },
   "outputs": [],
   "source": [
    "i = 0"
   ]
  },
  {
   "cell_type": "code",
   "execution_count": 34,
   "metadata": {},
   "outputs": [
    {
     "data": {
      "text/plain": [
       "(0.0, 1250.0, -275.0, 275.0)"
      ]
     },
     "execution_count": 34,
     "metadata": {},
     "output_type": "execute_result"
    },
    {
     "data": {
      "image/png": "[encoded data removed]",
      "text/plain": [
       "<matplotlib.figure.Figure at 0x7f228557a550>"
      ]
     },
     "metadata": {},
     "output_type": "display_data"
    }
   ],
   "source": [
    "i += 1\n",
    "\n",
    "real_evt = file[p_indices[i]]\n",
    "\n",
    "real_xyzs = real_evt.xyzs(peaks_only=True, drift_vel=5.2, clock=12.5, return_pads=True, baseline_correction=True, cg_times=True)\n",
    "\n",
    "plt.figure(figsize=(1.28, 1.28), dpi=100)\n",
    "\n",
    "plt.plot(real_xyzs[:,2], real_xyzs[:,1],'.', markersize=2.0, c='black')\n",
    "plt.xlim(0.0, 1250.0)\n",
    "plt.ylim((-275.0, 275.0))\n",
    "\n",
    "plt.axis('off')\n",
    "\n",
    "#plt.savefig('../cnn-plots/test/real-test_128_smallpts.png')"
   ]
  },
  {
   "cell_type": "markdown",
   "metadata": {},
   "source": [
    "# Simulated Data "
   ]
  },
  {
   "cell_type": "code",
   "execution_count": 7,
   "metadata": {
    "collapsed": true
   },
   "outputs": [],
   "source": [
    "hdfpath = '../data/tilt/p_40000_tilt.h5'\n",
    "simfile = pytpc.HDFDataFile(hdfpath, 'r')"
   ]
  },
  {
   "cell_type": "code",
   "execution_count": 8,
   "metadata": {
    "collapsed": true
   },
   "outputs": [],
   "source": [
    "i = 0"
   ]
  },
  {
   "cell_type": "code",
   "execution_count": 9,
   "metadata": {},
   "outputs": [
    {
     "data": {
      "text/plain": [
       "(0.0, 1250.0, -275.0, 275.0)"
      ]
     },
     "execution_count": 9,
     "metadata": {},
     "output_type": "execute_result"
    },
    {
     "data": {
      "image/png": "[encoded data removed]",
      "text/plain": [
       "<matplotlib.figure.Figure at 0x7f2299984630>"
      ]
     },
     "metadata": {},
     "output_type": "display_data"
    }
   ],
   "source": [
    "#i += 1\n",
    "\n",
    "sim_evt = simfile[i]\n",
    "\n",
    "sim_xyzs = sim_evt.xyzs(peaks_only=True, drift_vel=5.2, clock=12.5, return_pads=False, baseline_correction=True, cg_times=True)\n",
    "\n",
    "plt.figure(figsize=(1.28, 1.28), dpi=100)\n",
    "\n",
    "plt.plot(sim_xyzs[:,2], sim_xyzs[:,1], '.', markersize=2.0, c='black')\n",
    "plt.xlim(0.0, 1250.0)\n",
    "plt.ylim((-275.0, 275.0))\n",
    "\n",
    "plt.axis('off')\n",
    "\n",
    "#plt.savefig('../cnn-plots/test/sim-test.png')"
   ]
  },
  {
   "cell_type": "code",
   "execution_count": 10,
   "metadata": {},
   "outputs": [
    {
     "name": "stdout",
     "output_type": "stream",
     "text": [
      "(20, 4)\n",
      "(58, 4)\n"
     ]
    }
   ],
   "source": [
    "simnoise_xyzs = dd.addNoise(sim_xyzs)\n",
    "print(sim_xyzs.shape)\n",
    "print(simnoise_xyzs.shape)"
   ]
  },
  {
   "cell_type": "code",
   "execution_count": 22,
   "metadata": {},
   "outputs": [
    {
     "data": {
      "text/plain": [
       "(0.0, 1250.0, -275.0, 275.0)"
      ]
     },
     "execution_count": 22,
     "metadata": {},
     "output_type": "execute_result"
    },
    {
     "data": {
      "image/png": "[encoded data removed]",
      "text/plain": [
       "<matplotlib.figure.Figure at 0x7f2284f37eb8>"
      ]
     },
     "metadata": {},
     "output_type": "display_data"
    }
   ],
   "source": [
    "plt.figure(figsize=(1.28, 1.28), dpi=100)\n",
    "\n",
    "plt.plot(simnoise_xyzs[:,2], simnoise_xyzs[:,1], '.', markersize=2.0, c='black')\n",
    "plt.xlim(0.0, 1250.0)\n",
    "\n",
    "plt.plot(sim_xyzs[:,2], sim_xyzs[:,1], '.', markersize=2.0, c='black')\n",
    "plt.xlim(0.0, 1250.0)\n",
    "plt.ylim((-275.0, 275.0))\n",
    "\n",
    "plt.axis('off')\n",
    "\n",
    "#plt.savefig('../cnn-plots/test/sim-test.png')\n",
    "plt.ylim((-275.0, 275.0))\n",
    "\n",
    "plt.axis('off')\n",
    "\n",
    "#plt.savefig('../cnn-plots/test/sim-test.png')"
   ]
  },
  {
   "cell_type": "code",
   "execution_count": null,
   "metadata": {
    "collapsed": true
   },
   "outputs": [],
   "source": []
  },
  {
   "cell_type": "markdown",
   "metadata": {},
   "source": [
    "# Simulated Pure Noise Events"
   ]
  },
  {
   "cell_type": "code",
   "execution_count": 12,
   "metadata": {
    "collapsed": true
   },
   "outputs": [],
   "source": [
    "empty_evt = np.empty([1,4])\n",
    "junk_evt = dd.addNoise(empty_evt)"
   ]
  },
  {
   "cell_type": "code",
   "execution_count": 13,
   "metadata": {},
   "outputs": [
    {
     "ename": "NameError",
     "evalue": "name 'noise_evt' is not defined",
     "output_type": "error",
     "traceback": [
      "\u001b[0;31m---------------------------------------------------------------------------\u001b[0m",
      "\u001b[0;31mNameError\u001b[0m                                 Traceback (most recent call last)",
      "\u001b[0;32m<ipython-input-13-287d5e1634f9>\u001b[0m in \u001b[0;36m<module>\u001b[0;34m()\u001b[0m\n\u001b[0;32m----> 1\u001b[0;31m \u001b[0mprint\u001b[0m\u001b[0;34m(\u001b[0m\u001b[0mnoise_evt\u001b[0m\u001b[0;34m.\u001b[0m\u001b[0mshape\u001b[0m\u001b[0;34m)\u001b[0m\u001b[0;34m\u001b[0m\u001b[0m\n\u001b[0m",
      "\u001b[0;31mNameError\u001b[0m: name 'noise_evt' is not defined"
     ]
    }
   ],
   "source": [
    "print(noise_evt.shape)"
   ]
  },
  {
   "cell_type": "code",
   "execution_count": 14,
   "metadata": {},
   "outputs": [
    {
     "data": {
      "text/plain": [
       "(0.0, 1250.0, -275.0, 275.0)"
      ]
     },
     "execution_count": 14,
     "metadata": {},
     "output_type": "execute_result"
    },
    {
     "data": {
      "image/png": "[encoded data removed]",
      "text/plain": [
       "<matplotlib.figure.Figure at 0x7f228e0a1908>"
      ]
     },
     "metadata": {},
     "output_type": "display_data"
    }
   ],
   "source": [
    "plt.figure(figsize=(1.28, 1.28), dpi=100)\n",
    "\n",
    "plt.plot(junk_evt[:,2], junk_evt[:,1], '.', markersize=2.0, c='black')\n",
    "plt.xlim(0.0, 1250.0)\n",
    "plt.ylim((-275.0, 275.0))\n",
    "\n",
    "plt.axis('off')\n",
    "\n",
    "#plt.savefig('../cnn-plots/test/simnoise-test.png')"
   ]
  },
  {
   "cell_type": "code",
   "execution_count": null,
   "metadata": {
    "collapsed": true
   },
   "outputs": [],
   "source": []
  },
  {
   "cell_type": "markdown",
   "metadata": {},
   "source": [
    "# Small portion of plot for use in thesis"
   ]
  },
  {
   "cell_type": "code",
   "execution_count": 15,
   "metadata": {},
   "outputs": [
    {
     "name": "stderr",
     "output_type": "stream",
     "text": [
      "Using TensorFlow backend.\n",
      "/usr/local/lib/python3.6/importlib/_bootstrap.py:205: RuntimeWarning: compiletime version 3.5 of module 'tensorflow.python.framework.fast_tensor_util' does not match runtime version 3.6\n",
      "  return f(*args, **kwds)\n"
     ]
    }
   ],
   "source": [
    "from PIL import Image as pil_image\n",
    "from keras.preprocessing.image import img_to_array, array_to_img, load_img\n",
    "import seaborn as sns"
   ]
  },
  {
   "cell_type": "code",
   "execution_count": 16,
   "metadata": {
    "collapsed": true
   },
   "outputs": [],
   "source": [
    "img_path = '../plots/results/thesis/'\n",
    "file_path = 'small-img-CNN.png'"
   ]
  },
  {
   "cell_type": "code",
   "execution_count": 17,
   "metadata": {
    "collapsed": true
   },
   "outputs": [],
   "source": [
    "img = load_img(img_path + file_path, grayscale=True)#, target_size=(28,28))\n",
    "#img.show()"
   ]
  },
  {
   "cell_type": "code",
   "execution_count": 18,
   "metadata": {},
   "outputs": [
    {
     "name": "stdout",
     "output_type": "stream",
     "text": [
      "(25, 25)\n"
     ]
    }
   ],
   "source": [
    "img_array = img_to_array(img)\n",
    "img_array = np.reshape(img_array, (img_array.shape[0], img_array.shape[1]))\n",
    "img_array = img_array.astype(int)\n",
    "np.savetxt(\"../plots/results/thesis/small-img-CNN.csv\", img_array, delimiter=\",\")\n",
    "print(img_array.shape)"
   ]
  },
  {
   "cell_type": "code",
   "execution_count": 19,
   "metadata": {
    "collapsed": true
   },
   "outputs": [],
   "source": [
    "df = pd.DataFrame(img_array)"
   ]
  },
  {
   "cell_type": "code",
   "execution_count": 20,
   "metadata": {},
   "outputs": [
    {
     "data": {
      "text/plain": [
       "<matplotlib.axes._subplots.AxesSubplot at 0x7f2285713f28>"
      ]
     },
     "execution_count": 20,
     "metadata": {},
     "output_type": "execute_result"
    },
    {
     "data": {
      "image/png": "[encoded data removed]",
      "text/plain": [
       "<matplotlib.figure.Figure at 0x7f22857134e0>"
      ]
     },
     "metadata": {},
     "output_type": "display_data"
    }
   ],
   "source": [
    "sns.heatmap(df)"
   ]
  },
  {
   "cell_type": "code",
   "execution_count": 21,
   "metadata": {},
   "outputs": [
    {
     "data": {
      "image/png": "[encoded data removed]",
      "text/plain": [
       "<matplotlib.figure.Figure at 0x7f22856c1dd8>"
      ]
     },
     "metadata": {},
     "output_type": "display_data"
    }
   ],
   "source": [
    "fig, axs = plt.subplots(1,1, figsize=(10, 10))\n",
    "axs.axis('tight')\n",
    "axs.axis('off')\n",
    "\n",
    "the_table = plt.table(cellText=img_array, fontsize=20)\n",
    "table = axs.add_table(the_table)\n",
    "\n",
    "table.set_fontsize(20)"
   ]
  },
  {
   "cell_type": "code",
   "execution_count": null,
   "metadata": {
    "collapsed": true
   },
   "outputs": [],
   "source": []
  },
  {
   "cell_type": "markdown",
   "metadata": {
    "collapsed": true
   },
   "source": [
    "# Larger Version for Cart Engrave"
   ]
  },
  {
   "cell_type": "code",
   "execution_count": 35,
   "metadata": {
    "collapsed": true
   },
   "outputs": [],
   "source": [
    "data_path = '../data/real/'\n",
    "filename = 'run_0130.h5'\n",
    "file = pytpc.HDFDataFile(data_path + filename, 'r')"
   ]
  },
  {
   "cell_type": "code",
   "execution_count": 36,
   "metadata": {},
   "outputs": [
    {
     "name": "stdout",
     "output_type": "stream",
     "text": [
      "Int64Index([  12,   24,   31,   55,   60,   65,   67,   70,   72,   78,\n",
      "            ...\n",
      "             976,  978,  980,  984,  989,  993,  994,  998, 1000, 1001],\n",
      "           dtype='int64', length=215)\n"
     ]
    }
   ],
   "source": [
    "labels = pd.read_csv(data_path+'run_0130_labels.csv', sep=',')\n",
    "p_indices = labels.loc[(labels['label'] == 'p')]['evt_id'].index[:]\n",
    "\n",
    "print(p_indices)"
   ]
  },
  {
   "cell_type": "code",
   "execution_count": 42,
   "metadata": {
    "collapsed": true
   },
   "outputs": [],
   "source": [
    "i = 0"
   ]
  },
  {
   "cell_type": "code",
   "execution_count": 103,
   "metadata": {},
   "outputs": [
    {
     "data": {
      "image/png": "[encoded data removed]",
      "text/plain": [
       "<matplotlib.figure.Figure at 0x7f2284cad4a8>"
      ]
     },
     "metadata": {},
     "output_type": "display_data"
    }
   ],
   "source": [
    "#i += 1\n",
    "\n",
    "real_evt = file[p_indices[i]]\n",
    "\n",
    "real_xyzs = real_evt.xyzs(peaks_only=True, drift_vel=5.2, clock=12.5, return_pads=True, baseline_correction=True, cg_times=True)\n",
    "\n",
    "plt.figure(figsize=(10.0, 10.0))\n",
    "\n",
    "plt.plot(real_xyzs[:,0], real_xyzs[:,1],'.', markersize=10, c='black')\n",
    "plt.xlim((-200.0, 200.0))\n",
    "plt.ylim((-200.0, 200.0))\n",
    "\n",
    "plt.axis('off')\n",
    "\n",
    "plt.savefig('../plots/results/cart-evt-use.png')"
   ]
  },
  {
   "cell_type": "code",
   "execution_count": null,
   "metadata": {
    "collapsed": true
   },
   "outputs": [],
   "source": []
  },
  {
   "cell_type": "code",
   "execution_count": null,
   "metadata": {
    "collapsed": true
   },
   "outputs": [],
   "source": []
  }
 ],
 "metadata": {
  "kernelspec": {
   "display_name": "Python 3",
   "language": "python",
   "name": "python3"
  },
  "language_info": {
   "codemirror_mode": {
    "name": "ipython",
    "version": 3
   },
   "file_extension": ".py",
   "mimetype": "text/x-python",
   "name": "python",
   "nbconvert_exporter": "python",
   "pygments_lexer": "ipython3",
   "version": "3.6.1"
  }
 },
 "nbformat": 4,
 "nbformat_minor": 2
}
