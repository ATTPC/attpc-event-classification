{
 "cells": [
  {
   "cell_type": "code",
   "execution_count": 1,
   "metadata": {
    "collapsed": true
   },
   "outputs": [],
   "source": [
    "%matplotlib inline"
   ]
  },
  {
   "cell_type": "code",
   "execution_count": 2,
   "metadata": {
    "collapsed": true
   },
   "outputs": [],
   "source": [
    "import matplotlib.pyplot as plt\n",
    "\n",
    "import scipy as sp\n",
    "import numpy as np\n",
    "from sklearn.model_selection import train_test_split\n",
    "from sklearn.linear_model import LogisticRegression\n",
    "from sklearn import metrics"
   ]
  },
  {
   "cell_type": "code",
   "execution_count": 4,
   "metadata": {
    "collapsed": true
   },
   "outputs": [],
   "source": [
    "np.random.seed(42)"
   ]
  },
  {
   "cell_type": "markdown",
   "metadata": {},
   "source": [
    "# Testing logistic regression for different discretized z resolutions"
   ]
  },
  {
   "cell_type": "code",
   "execution_count": 17,
   "metadata": {},
   "outputs": [
    {
     "name": "stdout",
     "output_type": "stream",
     "text": [
      "Complete for z_disc: 10 with f1 score of: 0.913757388976\n",
      "Complete for z_disc: 20 with f1 score of: 0.917459032976\n",
      "Complete for z_disc: 30 with f1 score of: 0.912067305256\n",
      "Complete for z_disc: 40 with f1 score of: 0.914164391871\n",
      "Complete for z_disc: 50 with f1 score of: 0.914963744232\n",
      "Complete for z_disc: 60 with f1 score of: 0.913131517667\n",
      "Complete for z_disc: 70 with f1 score of: 0.91100060889\n",
      "Complete for z_disc: 80 with f1 score of: 0.914265422078\n",
      "Complete for z_disc: 90 with f1 score of: 0.91296625222\n",
      "Complete for z_disc: 100 with f1 score of: 0.913242940157\n"
     ]
    }
   ],
   "source": [
    "C = 1e-2\n",
    "iterations = 1000\n",
    "\n",
    "z_discs = np.arange(10, 110, 10)\n",
    "\n",
    "f1s = []\n",
    "\n",
    "for z_disc in z_discs:\n",
    "    filename_p = \"pDisc_40000_\"+\"20x20x\" + str(z_disc) + \".npz\"\n",
    "    filename_C = \"CDisc_40000_\"+\"20x20x\" + str(z_disc) + \".npz\"\n",
    "    p_data = sp.sparse.load_npz('/home/taylor/Documents/independent-research/data/20x20xVaryingZ/'+filename_p)\n",
    "    C_data = sp.sparse.load_npz('/home/taylor/Documents/independent-research/data/20x20xVaryingZ/'+filename_C)\n",
    "    full_data = sp.sparse.vstack([p_data, C_data], format='csr')\n",
    "    \n",
    "    p_labels = np.zeros((p_data.shape[0],))\n",
    "    C_labels = np.ones((C_data.shape[0],))\n",
    "    full_labels = np.hstack((p_labels, C_labels))\n",
    "    \n",
    "    X_train, X_test, y_train, y_test = train_test_split(full_data, full_labels, test_size=0.25, random_state=42)\n",
    "\n",
    "    \n",
    "    y_pred = LogisticRegression(C=C, max_iter=iterations).fit(X_train, y_train).predict(X_test)\n",
    "    \n",
    "    f1s.append(metrics.f1_score(y_test, y_pred))\n",
    "    print(\"Complete for z_disc: \" + str(z_disc) + \" with f1 score of: \" + str(metrics.f1_score(y_test, y_pred)))"
   ]
  },
  {
   "cell_type": "code",
   "execution_count": 29,
   "metadata": {},
   "outputs": [
    {
     "data": {
      "image/png": "[encoded data removed]",
      "text/plain": [
       "<matplotlib.figure.Figure at 0x7fc6975d4f60>"
      ]
     },
     "metadata": {},
     "output_type": "display_data"
    }
   ],
   "source": [
    "plt.plot(z_discs, f1s, '-o')\n",
    "        \n",
    "plt.xlabel('Discretization in z')\n",
    "plt.ylabel('F1 Score')\n",
    "plt.title('F1 Score by z-axis Resolution')\n",
    "\n",
    "plt.ylim(0.9, 0.95)\n",
    "\n",
    "#plt.savefig('/home/taylor/Documents/independent-research/plots/results/LogisticRegression_F1xZresolution.pdf')"
   ]
  },
  {
   "cell_type": "code",
   "execution_count": null,
   "metadata": {
    "collapsed": true
   },
   "outputs": [],
   "source": []
  }
 ],
 "metadata": {
  "kernelspec": {
   "display_name": "Python 3",
   "language": "python",
   "name": "python3"
  },
  "language_info": {
   "codemirror_mode": {
    "name": "ipython",
    "version": 3
   },
   "file_extension": ".py",
   "mimetype": "text/x-python",
   "name": "python",
   "nbconvert_exporter": "python",
   "pygments_lexer": "ipython3",
   "version": "3.6.1"
  }
 },
 "nbformat": 4,
 "nbformat_minor": 2
}
