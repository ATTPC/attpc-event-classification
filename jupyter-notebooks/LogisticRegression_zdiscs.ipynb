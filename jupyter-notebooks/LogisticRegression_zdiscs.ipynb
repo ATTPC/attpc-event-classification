{
 "cells": [
  {
   "cell_type": "code",
   "execution_count": 1,
   "metadata": {
    "collapsed": true
   },
   "outputs": [],
   "source": [
    "%matplotlib inline"
   ]
  },
  {
   "cell_type": "code",
   "execution_count": 2,
   "metadata": {
    "collapsed": true
   },
   "outputs": [],
   "source": [
    "import matplotlib.pyplot as plt\n",
    "\n",
    "import scipy as sp\n",
    "import numpy as np\n",
    "from sklearn.model_selection import train_test_split\n",
    "from sklearn.linear_model import LogisticRegression\n",
    "from sklearn import metrics"
   ]
  },
  {
   "cell_type": "code",
   "execution_count": 3,
   "metadata": {
    "collapsed": true
   },
   "outputs": [],
   "source": [
    "np.random.seed(42)"
   ]
  },
  {
   "cell_type": "markdown",
   "metadata": {},
   "source": [
    "# Testing logistic regression for different discretized z resolutions"
   ]
  },
  {
   "cell_type": "code",
   "execution_count": 9,
   "metadata": {},
   "outputs": [
    {
     "name": "stdout",
     "output_type": "stream",
     "text": [
      "Complete for z_disc: 10 with accuracy score of: 0.9146542672866357\n",
      "Complete for z_disc: 20 with accuracy score of: 0.9184040797960102\n",
      "Complete for z_disc: 30 with accuracy score of: 0.9132543372831359\n",
      "Complete for z_disc: 40 with accuracy score of: 0.9151042447877606\n",
      "Complete for z_disc: 50 with accuracy score of: 0.9161541922903855\n",
      "Complete for z_disc: 60 with accuracy score of: 0.9142042897855107\n",
      "Complete for z_disc: 70 with accuracy score of: 0.9123043847807609\n",
      "Complete for z_disc: 80 with accuracy score of: 0.9155042247887606\n",
      "Complete for z_disc: 90 with accuracy score of: 0.9142542872856357\n",
      "Complete for z_disc: 100 with accuracy score of: 0.9149042547872607\n"
     ]
    }
   ],
   "source": [
    "C = 1e-2\n",
    "iterations = 1000\n",
    "\n",
    "z_discs = np.arange(10, 110, 10)\n",
    "\n",
    "f1s = []\n",
    "accuracies = []\n",
    "\n",
    "for z_disc in z_discs:\n",
    "    filename_p = \"pDisc_40000_\"+\"20x20x\" + str(z_disc) + \".npz\"\n",
    "    filename_C = \"CDisc_40000_\"+\"20x20x\" + str(z_disc) + \".npz\"\n",
    "    p_data = sp.sparse.load_npz('../data/NO-tilt/wrong-detector-length/20x20xVaryingZ/'+filename_p)\n",
    "    C_data = sp.sparse.load_npz('../data/NO-tilt/wrong-detector-length/20x20xVaryingZ/'+filename_C)\n",
    "    full_data = sp.sparse.vstack([p_data, C_data], format='csr')\n",
    "    \n",
    "    p_labels = np.zeros((p_data.shape[0],))\n",
    "    C_labels = np.ones((C_data.shape[0],))\n",
    "    full_labels = np.hstack((p_labels, C_labels))\n",
    "    \n",
    "    X_train, X_test, y_train, y_test = train_test_split(full_data, full_labels, test_size=0.25, random_state=42)\n",
    "\n",
    "    \n",
    "    y_pred = LogisticRegression(C=C, max_iter=iterations).fit(X_train, y_train).predict(X_test)\n",
    "    \n",
    "    f1 = metrics.f1_score(y_test, y_pred)\n",
    "    accuracy = metrics.accuracy_score(y_test, y_pred)\n",
    "    \n",
    "    f1s.append(f1)\n",
    "    accuracies.append(accuracy)\n",
    "    print(\"Complete for z_disc: \" + str(z_disc) + \" with accuracy score of: \" + str(accuracy))"
   ]
  },
  {
   "cell_type": "code",
   "execution_count": 17,
   "metadata": {},
   "outputs": [
    {
     "data": {
      "image/png": "[encoded data removed]",
      "text/plain": [
       "<matplotlib.figure.Figure at 0x7fa3ddfd07b8>"
      ]
     },
     "metadata": {},
     "output_type": "display_data"
    }
   ],
   "source": [
    "plt.plot(accuracies)\n",
    "        \n",
    "plt.xlabel('Number of z Buckets')\n",
    "plt.ylabel('Test Set Accuracy')\n",
    "plt.title('Test Set Accuracy by Discretization in z')\n",
    "\n",
    "plt.ylim(0.90, 0.93)\n",
    "\n",
    "#plt.savefig('../plots/results/thesis/LR-sim2sim-pC-zDiscs.pdf')"
   ]
  },
  {
   "cell_type": "code",
   "execution_count": null,
   "metadata": {
    "collapsed": true
   },
   "outputs": [],
   "source": []
  }
 ],
 "metadata": {
  "kernelspec": {
   "display_name": "Python 3",
   "language": "python",
   "name": "python3"
  },
  "language_info": {
   "codemirror_mode": {
    "name": "ipython",
    "version": 3
   },
   "file_extension": ".py",
   "mimetype": "text/x-python",
   "name": "python",
   "nbconvert_exporter": "python",
   "pygments_lexer": "ipython3",
   "version": "3.6.1"
  }
 },
 "nbformat": 4,
 "nbformat_minor": 2
}
