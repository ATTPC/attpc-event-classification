{
 "cells": [
  {
   "cell_type": "code",
   "execution_count": 16,
   "metadata": {
    "collapsed": true
   },
   "outputs": [],
   "source": [
    "%matplotlib inline"
   ]
  },
  {
   "cell_type": "code",
   "execution_count": 17,
   "metadata": {
    "collapsed": true
   },
   "outputs": [],
   "source": [
    "import matplotlib.pyplot as plt\n",
    "import math\n",
    "import numpy as np\n",
    "import scipy as sp\n",
    "np.seterr(divide='ignore', invalid='ignore')\n",
    "\n",
    "from pytpc.hdfdata import HDFDataFile\n",
    "\n",
    "import pytpc\n",
    "from pytpc.tpcplot import pad_plot, chamber_plot\n",
    "from pytpc.constants import degrees, pi\n",
    "\n",
    "import csv\n",
    "import yaml\n",
    "import h5py"
   ]
  },
  {
   "cell_type": "markdown",
   "metadata": {},
   "source": [
    "# Keeping charge data during discretization - sparse matrix implementation"
   ]
  },
  {
   "cell_type": "code",
   "execution_count": 18,
   "metadata": {
    "collapsed": true
   },
   "outputs": [],
   "source": [
    "evt_id=107"
   ]
  },
  {
   "cell_type": "code",
   "execution_count": 33,
   "metadata": {},
   "outputs": [
    {
     "name": "stdout",
     "output_type": "stream",
     "text": [
      "696\n"
     ]
    }
   ],
   "source": [
    "with pytpc.HDFDataFile('/home/taylor/Documents/independent-research/event-gen/data/ptrain_10000.h5', 'r') as f:\n",
    "    n_evts = len(f)\n",
    "    evt = f[evt_id]\n",
    "    t = evt.traces['data']\n",
    "    new_xyz = evt.xyzs(peaks_only=True, return_pads=True, baseline_correction=False, cg_times=False)\n",
    "    print(len(new_xyz))"
   ]
  },
  {
   "cell_type": "code",
   "execution_count": 20,
   "metadata": {
    "collapsed": true
   },
   "outputs": [],
   "source": [
    "DETECTOR_LENGTH = 1000.0\n",
    "DETECTOR_RADIUS = 275.0\n",
    "x_disc = 20\n",
    "y_disc = 20\n",
    "z_disc = 20"
   ]
  },
  {
   "cell_type": "code",
   "execution_count": 70,
   "metadata": {},
   "outputs": [
    {
     "name": "stdout",
     "output_type": "stream",
     "text": [
      "buckets filled: 70.0\n",
      "Total charge: 266397.0\n"
     ]
    }
   ],
   "source": [
    "#NO CHARGE\n",
    "discElements = x_disc*y_disc*z_disc\n",
    "\n",
    "buckets = []\n",
    "\n",
    "num_pts = 0\n",
    "total_charge = 0\n",
    "\n",
    "for point in new_xyz:\n",
    "    x_bucket = math.floor(((point[0]+DETECTOR_RADIUS)/(2*DETECTOR_RADIUS))*x_disc)\n",
    "    y_bucket = math.floor(((point[1]+DETECTOR_RADIUS)/(2*DETECTOR_RADIUS))*y_disc)\n",
    "    z_bucket = math.floor((point[2]/DETECTOR_LENGTH)*z_disc)\n",
    "\n",
    "    bucket_num = z_bucket*x_disc*y_disc + x_bucket + y_bucket*x_disc\n",
    "    \n",
    "    #sparse matrix implementation\n",
    "    buckets.append(bucket_num)\n",
    "    \n",
    "    num_pts += 1\n",
    "    total_charge += point[3]\n",
    "\n",
    "#create csr matrix where data is np.ones(len(col)) and row np.zeros(len(col)) of size (1, discElements)\n",
    "cols = np.unique(buckets)\n",
    "rows = np.zeros(len(cols))\n",
    "data = np.ones(len(cols))\n",
    "discretized_data_sparse  = sp.sparse.csr_matrix((data, (rows, cols)), shape=(1, discElements))\n",
    "\n",
    "print(\"buckets filled: \" + str(discretized_data.sum()))\n",
    "print(\"Total charge: \" + str(total_charge))"
   ]
  },
  {
   "cell_type": "code",
   "execution_count": 73,
   "metadata": {},
   "outputs": [
    {
     "name": "stdout",
     "output_type": "stream",
     "text": [
      "  (0, 210)\t1.0\n",
      "  (0, 631)\t1.0\n",
      "  (0, 632)\t1.0\n",
      "  (0, 650)\t1.0\n",
      "  (0, 651)\t1.0\n",
      "  (0, 652)\t1.0\n",
      "  (0, 653)\t1.0\n",
      "  (0, 654)\t1.0\n",
      "  (0, 669)\t1.0\n",
      "  (0, 670)\t1.0\n",
      "  (0, 674)\t1.0\n",
      "  (0, 689)\t1.0\n",
      "  (0, 690)\t1.0\n",
      "  (0, 694)\t1.0\n",
      "  (0, 710)\t1.0\n",
      "  (0, 711)\t1.0\n",
      "  (0, 714)\t1.0\n",
      "  (0, 733)\t1.0\n",
      "  (0, 734)\t1.0\n",
      "  (0, 752)\t1.0\n",
      "  (0, 753)\t1.0\n",
      "  (0, 1010)\t1.0\n",
      "  (0, 1011)\t1.0\n",
      "  (0, 1012)\t1.0\n",
      "  (0, 1013)\t1.0\n",
      "  :\t:\n",
      "  (0, 1428)\t1.0\n",
      "  (0, 1447)\t1.0\n",
      "  (0, 1448)\t1.0\n",
      "  (0, 1467)\t1.0\n",
      "  (0, 1487)\t1.0\n",
      "  (0, 1495)\t1.0\n",
      "  (0, 1507)\t1.0\n",
      "  (0, 1515)\t1.0\n",
      "  (0, 1527)\t1.0\n",
      "  (0, 1528)\t1.0\n",
      "  (0, 1534)\t1.0\n",
      "  (0, 1535)\t1.0\n",
      "  (0, 1548)\t1.0\n",
      "  (0, 1549)\t1.0\n",
      "  (0, 1553)\t1.0\n",
      "  (0, 1554)\t1.0\n",
      "  (0, 1569)\t1.0\n",
      "  (0, 1570)\t1.0\n",
      "  (0, 1571)\t1.0\n",
      "  (0, 1572)\t1.0\n",
      "  (0, 1573)\t1.0\n",
      "  (0, 1808)\t1.0\n",
      "  (0, 1809)\t1.0\n",
      "  (0, 1810)\t1.0\n",
      "  (0, 1828)\t1.0\n"
     ]
    }
   ],
   "source": [
    "print(discretized_data_sparse)"
   ]
  },
  {
   "cell_type": "code",
   "execution_count": 75,
   "metadata": {},
   "outputs": [
    {
     "name": "stdout",
     "output_type": "stream",
     "text": [
      "buckets filled: 70\n",
      "charge acumulated: 266397.0\n"
     ]
    }
   ],
   "source": [
    "discElements = x_disc*y_disc*z_disc\n",
    "\n",
    "\n",
    "buckets = []\n",
    "charges = []\n",
    "num_pts = 0\n",
    "\n",
    "for point in new_xyz:\n",
    "    x_bucket = math.floor(((point[0]+DETECTOR_RADIUS)/(2*DETECTOR_RADIUS))*x_disc)\n",
    "    y_bucket = math.floor(((point[1]+DETECTOR_RADIUS)/(2*DETECTOR_RADIUS))*y_disc)\n",
    "    z_bucket = math.floor((point[2]/DETECTOR_LENGTH)*z_disc)\n",
    "\n",
    "    bucket_num = z_bucket*x_disc*y_disc + x_bucket + y_bucket*x_disc\n",
    "    \n",
    "    #sparse matrix implementation\n",
    "    buckets.append(bucket_num)\n",
    "    charges.append(point[3])\n",
    "    \n",
    "    num_pts += 1\n",
    "\n",
    "#create csr matrix where data is chrage and row np.zeros(len(col)) of size (1, discElements)\n",
    "cols = buckets\n",
    "rows = np.zeros(len(cols))\n",
    "data = charges\n",
    "\n",
    "#automatically sums data entries for data occuring at the same point\n",
    "#no need for sum_duplicates()\n",
    "discretized_data_sparse_CHARGE  = sp.sparse.csr_matrix((data, (rows, cols)), shape=(1, discElements))\n",
    "\n",
    "\n",
    "print(\"buckets filled: \" + str(len(np.unique(buckets))))\n",
    "print(\"charge acumulated: \" + str(sum(data)))"
   ]
  },
  {
   "cell_type": "code",
   "execution_count": 74,
   "metadata": {},
   "outputs": [
    {
     "name": "stdout",
     "output_type": "stream",
     "text": [
      "  (0, 210)\t0.0\n",
      "  (0, 631)\t2268.0\n",
      "  (0, 632)\t2014.0\n",
      "  (0, 650)\t12113.0\n",
      "  (0, 651)\t6619.0\n",
      "  (0, 652)\t5714.0\n",
      "  (0, 653)\t8884.0\n",
      "  (0, 654)\t1048.0\n",
      "  (0, 669)\t6893.0\n",
      "  (0, 670)\t5243.0\n",
      "  (0, 674)\t7394.0\n",
      "  (0, 689)\t5529.0\n",
      "  (0, 690)\t9585.0\n",
      "  (0, 694)\t6234.0\n",
      "  (0, 710)\t19520.0\n",
      "  (0, 711)\t4932.0\n",
      "  (0, 714)\t7366.0\n",
      "  (0, 733)\t5725.0\n",
      "  (0, 734)\t2159.0\n",
      "  (0, 752)\t3345.0\n",
      "  (0, 753)\t2258.0\n",
      "  (0, 1010)\t2713.0\n",
      "  (0, 1011)\t4297.0\n",
      "  (0, 1012)\t4034.0\n",
      "  (0, 1013)\t1620.0\n",
      "  :\t:\n",
      "  (0, 1428)\t3036.0\n",
      "  (0, 1447)\t2921.0\n",
      "  (0, 1448)\t243.0\n",
      "  (0, 1467)\t3340.0\n",
      "  (0, 1487)\t2940.0\n",
      "  (0, 1495)\t3630.0\n",
      "  (0, 1507)\t3775.0\n",
      "  (0, 1515)\t4742.0\n",
      "  (0, 1527)\t1714.0\n",
      "  (0, 1528)\t2301.0\n",
      "  (0, 1534)\t2441.0\n",
      "  (0, 1535)\t1514.0\n",
      "  (0, 1548)\t3302.0\n",
      "  (0, 1549)\t2381.0\n",
      "  (0, 1553)\t2366.0\n",
      "  (0, 1554)\t3649.0\n",
      "  (0, 1569)\t1068.0\n",
      "  (0, 1570)\t3960.0\n",
      "  (0, 1571)\t3997.0\n",
      "  (0, 1572)\t3481.0\n",
      "  (0, 1573)\t2167.0\n",
      "  (0, 1808)\t435.0\n",
      "  (0, 1809)\t3808.0\n",
      "  (0, 1810)\t140.0\n",
      "  (0, 1828)\t830.0\n"
     ]
    }
   ],
   "source": [
    "print(discretized_data_sparse_CHARGE)"
   ]
  },
  {
   "cell_type": "code",
   "execution_count": null,
   "metadata": {},
   "outputs": [],
   "source": []
  },
  {
   "cell_type": "code",
   "execution_count": null,
   "metadata": {},
   "outputs": [],
   "source": []
  },
  {
   "cell_type": "code",
   "execution_count": 79,
   "metadata": {},
   "outputs": [
    {
     "data": {
      "text/plain": [
       "matrix([[101,   0,   0,   0],\n",
       "        [  0,   1,   0,   0],\n",
       "        [  0,   0,   1,   0],\n",
       "        [  0,   0,   0,   1]], dtype=int64)"
      ]
     },
     "execution_count": 79,
     "metadata": {},
     "output_type": "execute_result"
    }
   ],
   "source": [
    "#testing sparse matrix automatic duplicate summing\n",
    "row = [0, 0, 1, 2, 3]\n",
    "col = [0, 0, 1, 2, 3]\n",
    "data = [1, 100, 1, 1, 1]\n",
    "\n",
    "\n",
    "sp.sparse.csr_matrix( (data, (row, col)), shape =(4,4) ).todense()"
   ]
  },
  {
   "cell_type": "code",
   "execution_count": null,
   "metadata": {
    "collapsed": true
   },
   "outputs": [],
   "source": []
  },
  {
   "cell_type": "code",
   "execution_count": 80,
   "metadata": {
    "collapsed": true
   },
   "outputs": [],
   "source": [
    "def discretizeGridCharge(xyz, x_disc, y_disc, z_disc):\n",
    "    \"\"\"Discretizes AT-TPC point cloud data using a grid geometry by totalling\n",
    "    charge of hits in a given rectangular bucket.\n",
    "\n",
    "    Parameters\n",
    "    ----------\n",
    "    xyz    : point cloud data with shape (n,5) where n is the number of traces\n",
    "    x_disc : number of slices in x\n",
    "    y disc : number of slices in y\n",
    "    z_disc : number of slices in z\n",
    "\n",
    "    Returns\n",
    "    -------\n",
    "    The discretized data in a csr sparse matrix of shape (1, x_disc*y_disc*z_disc)\n",
    "    \"\"\"\n",
    "\n",
    "    #calculate desired discretization resolution\n",
    "    discElements = x_disc*y_disc*z_disc\n",
    "\n",
    "    #calculate dimensional increments\n",
    "    x_inc = (2*DETECTOR_RADIUS)/x_disc\n",
    "    y_inc = (2*DETECTOR_RADIUS)/y_disc\n",
    "    z_inc = DETECTOR_LENGTH/z_disc\n",
    "\n",
    "    buckets = []\n",
    "    charges = []\n",
    "\n",
    "    for point in new_xyz:\n",
    "        x_bucket = math.floor(((point[0]+DETECTOR_RADIUS)/(2*DETECTOR_RADIUS))*x_disc)\n",
    "        y_bucket = math.floor(((point[1]+DETECTOR_RADIUS)/(2*DETECTOR_RADIUS))*y_disc)\n",
    "        z_bucket = math.floor((point[2]/DETECTOR_LENGTH)*z_disc)\n",
    "\n",
    "        bucket_num = z_bucket*x_disc*y_disc + x_bucket + y_bucket*x_disc\n",
    "        buckets.append(bucket_num)\n",
    "        charges.append(point[3])\n",
    "\n",
    "\n",
    "    cols = buckets\n",
    "    rows = np.zeros(len(cols))\n",
    "    data = charges\n",
    "\n",
    "    #automatically sums charge values for data occuring at the (row, col)\n",
    "    discretized_data_sparse_CHARGE  = sp.sparse.csr_matrix((data, (rows, cols)), shape=(1, discElements))\n",
    "    return discretized_data_sparse_CHARGE"
   ]
  },
  {
   "cell_type": "code",
   "execution_count": 82,
   "metadata": {},
   "outputs": [],
   "source": [
    "trial = discretizeGridCharge(new_xyz, x_disc, y_disc, z_disc)"
   ]
  },
  {
   "cell_type": "code",
   "execution_count": null,
   "metadata": {},
   "outputs": [],
   "source": []
  },
  {
   "cell_type": "code",
   "execution_count": null,
   "metadata": {
    "collapsed": true
   },
   "outputs": [],
   "source": []
  }
 ],
 "metadata": {
  "kernelspec": {
   "display_name": "Python 3",
   "language": "python",
   "name": "python3"
  },
  "language_info": {
   "codemirror_mode": {
    "name": "ipython",
    "version": 3
   },
   "file_extension": ".py",
   "mimetype": "text/x-python",
   "name": "python",
   "nbconvert_exporter": "python",
   "pygments_lexer": "ipython3",
   "version": "3.6.1"
  }
 },
 "nbformat": 4,
 "nbformat_minor": 2
}
