{
 "cells": [
  {
   "cell_type": "code",
   "execution_count": 4,
   "metadata": {
    "collapsed": true
   },
   "outputs": [],
   "source": [
    "%matplotlib inline"
   ]
  },
  {
   "cell_type": "code",
   "execution_count": 5,
   "metadata": {
    "collapsed": true
   },
   "outputs": [],
   "source": [
    "import matplotlib.pyplot as plt\n",
    "\n",
    "import scipy as sp\n",
    "import numpy as np\n",
    "from sklearn.model_selection import train_test_split\n",
    "from sklearn.linear_model import LogisticRegression\n",
    "from sklearn import metrics"
   ]
  },
  {
   "cell_type": "code",
   "execution_count": 6,
   "metadata": {
    "collapsed": true
   },
   "outputs": [],
   "source": [
    "# Testing Logistic Regression for p vs. C and Noise"
   ]
  },
  {
   "cell_type": "markdown",
   "metadata": {},
   "source": [
    "# Data with no tilt"
   ]
  },
  {
   "cell_type": "code",
   "execution_count": null,
   "metadata": {
    "collapsed": true
   },
   "outputs": [],
   "source": []
  },
  {
   "cell_type": "code",
   "execution_count": null,
   "metadata": {
    "collapsed": true
   },
   "outputs": [],
   "source": []
  },
  {
   "cell_type": "markdown",
   "metadata": {},
   "source": [
    "# Data with tilt"
   ]
  },
  {
   "cell_type": "code",
   "execution_count": 7,
   "metadata": {},
   "outputs": [],
   "source": [
    "p_data = sp.sparse.load_npz('../data/tilt/20x20x20/pDisc_noise_40000_20x20x20_tilt.npz')\n",
    "C_data = sp.sparse.load_npz('../data/tilt/20x20x20/CDisc_noise_40000_20x20x20_tilt.npz')\n",
    "noise_data = sp.sparse.load_npz('../data/tilt/20x20x20/noiseDisc_40000_20x20x20.npz')\n",
    "\n",
    "#same labels will work\n",
    "p_labels = np.zeros((p_data.shape[0],))\n",
    "C_labels = np.ones((C_data.shape[0],))\n",
    "noise_labels = np.ones((noise_data.shape[0],))"
   ]
  },
  {
   "cell_type": "code",
   "execution_count": 8,
   "metadata": {},
   "outputs": [
    {
     "name": "stdout",
     "output_type": "stream",
     "text": [
      "(80002, 8000)\n",
      "(80002,)\n"
     ]
    }
   ],
   "source": [
    "full_data = sp.sparse.vstack([p_data, C_data], format='csr')\n",
    "\n",
    "full_labels = np.hstack((p_labels, C_labels))\n",
    "\n",
    "print(full_data.shape)\n",
    "print(full_labels.shape)"
   ]
  },
  {
   "cell_type": "code",
   "execution_count": 9,
   "metadata": {},
   "outputs": [],
   "source": [
    "X_train, X_test, y_train, y_test = train_test_split(full_data, full_labels, test_size=0.25, random_state=42)"
   ]
  },
  {
   "cell_type": "code",
   "execution_count": 11,
   "metadata": {},
   "outputs": [
    {
     "name": "stdout",
     "output_type": "stream",
     "text": [
      "Accuracy: 0.865656717164\n"
     ]
    }
   ],
   "source": [
    "reg = 1\n",
    "#iterations = 1000\n",
    "nc = LogisticRegression(C=reg)\n",
    "y_pred_c = nc.fit(X_train, y_train).predict(X_test)\n",
    "print(\"Accuracy: \" + str(metrics.accuracy_score(y_test, y_pred_c)))"
   ]
  },
  {
   "cell_type": "code",
   "execution_count": 37,
   "metadata": {},
   "outputs": [
    {
     "name": "stdout",
     "output_type": "stream",
     "text": [
      "[1e-05, 0.0001, 0.001, 0.01, 0.1, 1.0, 10.0, 100.0, 1000.0, 10000.0]\n"
     ]
    }
   ],
   "source": [
    "iterations = 100\n",
    "C_vals = [10e-6, 10e-5, 10e-4, 10e-3, 10e-2, 10e-1, 10e0, 10e1, 10e2, 10e3]\n",
    "print(C_vals)"
   ]
  },
  {
   "cell_type": "code",
   "execution_count": 38,
   "metadata": {},
   "outputs": [
    {
     "name": "stdout",
     "output_type": "stream",
     "text": [
      "Charge and C=1e-05 accuracy=0.764761761912\n",
      "Charge and C=0.0001 accuracy=0.853607319634\n",
      "Charge and C=0.001 accuracy=0.878756062197\n",
      "Charge and C=0.01 accuracy=0.876556172191\n",
      "Charge and C=0.1 accuracy=0.868856557172\n",
      "Charge and C=1.0 accuracy=0.865656717164\n",
      "Charge and C=10.0 accuracy=0.865306734663\n",
      "Charge and C=100.0 accuracy=0.865256737163\n",
      "Charge and C=1000.0 accuracy=0.865306734663\n",
      "Charge and C=10000.0 accuracy=0.865306734663\n"
     ]
    }
   ],
   "source": [
    "precisions = []\n",
    "recalls = []\n",
    "f1s = []\n",
    "accuracies = []\n",
    "\n",
    "for c in C_vals:\n",
    "    y_pred = LogisticRegression(C=c, max_iter=iterations).fit(X_train, y_train).predict(X_test)\n",
    "    \n",
    "    precisions.append(metrics.precision_score(y_test, y_pred))\n",
    "    recalls.append(metrics.recall_score(y_test, y_pred))\n",
    "    f1s.append(metrics.f1_score(y_test, y_pred))\n",
    "    accuracies.append(metrics.accuracy_score(y_test, y_pred))\n",
    "    print(\"Charge and C=\" + str(c) + \" accuracy=\" + str(metrics.accuracy_score(y_test, y_pred)))"
   ]
  },
  {
   "cell_type": "code",
   "execution_count": null,
   "metadata": {
    "collapsed": true
   },
   "outputs": [],
   "source": [
    "print(max(accuracies))"
   ]
  },
  {
   "cell_type": "code",
   "execution_count": null,
   "metadata": {
    "collapsed": true
   },
   "outputs": [],
   "source": [
    "plt.plot(C_vals, accuracies)\n",
    "\n",
    "plt.xscale('log')\n",
    "        \n",
    "plt.xlabel('C (inverse regularization constant)')\n",
    "plt.ylabel('Accuracy')\n",
    "plt.title('Accuracy by Regularization - p vs. C and noise')\n",
    "\n",
    "#plt.savefig('../plots/results/NO-tilt/LogisticRegression_accuracyxC_pCnoise.pdf')"
   ]
  },
  {
   "cell_type": "code",
   "execution_count": null,
   "metadata": {
    "collapsed": true
   },
   "outputs": [],
   "source": []
  }
 ],
 "metadata": {
  "kernelspec": {
   "display_name": "Python 3",
   "language": "python",
   "name": "python3"
  },
  "language_info": {
   "codemirror_mode": {
    "name": "ipython",
    "version": 3
   },
   "file_extension": ".py",
   "mimetype": "text/x-python",
   "name": "python",
   "nbconvert_exporter": "python",
   "pygments_lexer": "ipython3",
   "version": "3.6.1"
  }
 },
 "nbformat": 4,
 "nbformat_minor": 2
}
